{
  "nbformat": 4,
  "nbformat_minor": 0,
  "metadata": {
    "colab": {
      "provenance": []
    },
    "kernelspec": {
      "name": "python3",
      "display_name": "Python 3"
    },
    "language_info": {
      "name": "python"
    }
  },
  "cells": [
    {
      "cell_type": "markdown",
      "source": [
        "Q1. What is the role of optimization algorithms in artificial neural networksK Why are they necessaryJ"
      ],
      "metadata": {
        "id": "LOg2kYZb672t"
      }
    },
    {
      "cell_type": "markdown",
      "source": [
        "Optimization algorithms play a crucial role in training artificial neural networks (ANNs). The primary purpose of optimization algorithms in this context is to find the optimal set of weights and biases for the neural network that minimizes a specific loss function. This process is known as training or optimization.\n",
        "Here's why optimization algorithms are necessary in ANNs:\n",
        "Minimizing the Loss Function: In supervised learning tasks, ANNs are trained to make predictions based on input data. The network's performance is evaluated using a loss function, which measures the difference between the predicted output and the true target values. The goal is to minimize this loss function, so the network's predictions become more accurate. Optimization algorithms are used to find the weights and biases that achieve this minimum loss.\n",
        "\n",
        "High-Dimensional Non-Convex Space: ANNs have a vast number of parameters (weights and biases) that control the behavior of the network. The relationship between these parameters and the loss function forms a high-dimensional non-convex space. This means there are many local minima, maxima, and saddle points, making it challenging to find the global minimum (optimal solution) analytically. Optimization algorithms are designed to navigate this complex space efficiently and find a good solution.\n",
        "\n",
        "Gradient-Based Optimization: Most commonly used optimization algorithms in ANNs are gradient-based. They rely on calculating the gradient of the loss function with respect to the model's parameters. The gradient points in the direction of the steepest increase of the loss function. Optimization algorithms use this information to iteratively update the weights and biases in a way that moves them towards the direction of steepest decrease, eventually converging to a minimum.\n",
        "\n",
        "Backpropagation: Backpropagation is a widely used algorithm for computing gradients efficiently in ANNs. It allows the gradients to be propagated backward through the network from the output layer to the input layer, efficiently computing the gradient for each parameter. Optimization algorithms use these gradients to update the model's parameters during training.\n",
        "\n",
        "Iterative Process: Training ANNs is an iterative process that involves multiple passes over the training data (epochs). During each epoch, the optimization algorithm adjusts the model's parameters based on the gradients computed from the training data. This process continues until the model converges to a satisfactory solution or reaches a predefined stopping criterion.\n",
        "\n",
        "In summary, optimization algorithms are essential in artificial neural networks to find the optimal configuration of model parameters, allowing the network to learn from data and make accurate predictions. Without these algorithms, training complex neural networks with a large number of parameters would be computationally infeasible and impractical."
      ],
      "metadata": {
        "id": "R92dcBlH6_70"
      }
    },
    {
      "cell_type": "markdown",
      "source": [
        "Q2. Explain the concept of gradient descent and its variants. Discuss their differences and tradeoffs in terms\n",
        "of convergence speed and memory re?uirementsn"
      ],
      "metadata": {
        "id": "chz1BdYK7Fw7"
      }
    },
    {
      "cell_type": "markdown",
      "source": [
        "Gradient Descent is a fundamental optimization algorithm used to minimize a function (typically a loss function) by adjusting the parameters iteratively in the direction of the steepest descent (i.e., the opposite direction of the gradient). It is widely used in training artificial neural networks and other machine learning models.\n",
        "The basic Gradient Descent algorithm works as follows:\n",
        "Initialize the model's parameters randomly.\n",
        "Compute the gradient of the loss function with respect to each parameter.\n",
        "Update each parameter by subtracting a small fraction (learning rate) of the corresponding gradient.\n",
        "Repeat steps 2 and 3 iteratively until convergence or a predefined number of iterations.\n",
        "The learning rate determines the step size taken in the direction of the gradient and affects the convergence and stability of the algorithm. A small learning rate may lead to slow convergence, while a large learning rate may cause the algorithm to overshoot the optimal solution and potentially diverge.\n",
        "There are several variants of Gradient Descent, each with its unique characteristics, tradeoffs, and memory requirements:\n",
        "Stochastic Gradient Descent (SGD):\n",
        "SGD updates the model's parameters after evaluating the gradient on a single randomly chosen data point (or a small batch of data points) at each iteration. Because of its random nature, it introduces more noise, which can help escape local minima and speed up convergence. However, it may also lead to a more erratic and noisy convergence path, making the learning process somewhat unstable. SGD requires relatively less memory as it only needs to store gradients for a small batch of data.\n",
        "\n",
        "Mini-batch Gradient Descent:\n",
        "This variant is a compromise between SGD and full-batch Gradient Descent. It divides the training data into small batches (e.g., 32, 64, or 128 samples) and computes the average gradient for each batch. Mini-batch Gradient Descent strikes a balance between the noisy updates of SGD and the memory requirements of full-batch Gradient Descent. It is the most commonly used optimization algorithm in practice due to its efficiency and stability.\n",
        "\n",
        "Batch Gradient Descent:\n",
        "In this variant, the entire training dataset is used to compute the gradient of the loss function, and the model's parameters are updated after processing the entire dataset. Batch Gradient Descent typically provides smooth convergence due to a more accurate estimation of the gradient. However, it can be computationally expensive and memory-intensive, especially for large datasets.\n",
        "\n",
        "Momentum:\n",
        "Momentum is an extension to Gradient Descent that adds a velocity term to the parameter updates. It helps the optimization process by continuing to move in the direction of the previous updates with a certain momentum, reducing the oscillations and speeding up convergence. Momentum can help escape shallow local minima and provides some tolerance to noisy data.\n",
        "\n",
        "Adagrad (Adaptive Gradient Algorithm):\n",
        "Adagrad adapts the learning rate for each parameter based on the historical squared gradients. It gives larger updates for infrequent parameters and smaller updates for frequent ones. This adaptive learning rate mechanism is beneficial when dealing with sparse data or when the scale of the parameters varies significantly.\n",
        "\n",
        "RMSprop (Root Mean Square Propagation):\n",
        "RMSprop is a modification of Adagrad that addresses some of its limitations. It uses a moving average of squared gradients to normalize the learning rates, which helps prevent the learning rate from decaying too quickly.\n",
        "\n",
        "Adam (Adaptive Moment Estimation):\n",
        "Adam combines the ideas of Momentum and RMSprop. It utilizes both the first-moment estimate (the mean of the gradients) and the second-moment estimate (the uncentered variance of the gradients) to adapt the learning rates for each parameter. Adam is widely used and is known for its robust performance across a wide range of problems"
      ],
      "metadata": {
        "id": "myUdWsG17MPk"
      }
    },
    {
      "cell_type": "markdown",
      "source": [
        "Q3. Describe the challenges associated with traditional gradient descent optimization methods (e.g., slow\n",
        "convergence, local minima<. How do modern optimizers address these challenges"
      ],
      "metadata": {
        "id": "DiKAVkT67SIL"
      }
    },
    {
      "cell_type": "markdown",
      "source": [
        "Traditional gradient descent optimization methods, such as basic Gradient Descent and Stochastic Gradient Descent (SGD), face several challenges that can hinder their efficiency and effectiveness in training artificial neural networks. Some of the key challenges are:\n",
        "Slow Convergence: Traditional optimization methods can have slow convergence rates, especially when dealing with deep neural networks or complex loss landscapes. In these cases, the optimization process may get stuck in regions of the parameter space where the gradient is shallow, leading to slow progress towards the optimal solution.\n",
        "\n",
        "Local Minima and Plateaus: The loss landscape of neural networks is highly non-convex, meaning it has many local minima, saddle points, and plateaus. Traditional optimizers can get trapped in local minima, preventing them from reaching the global minimum and obtaining the best possible solution.\n",
        "\n",
        "Learning Rate Selection: Setting an appropriate learning rate for traditional gradient descent methods can be challenging. A learning rate that is too large can cause the optimization process to diverge, while a learning rate that is too small can lead to slow convergence or getting stuck in local minima.\n",
        "\n",
        "Oscillations: In some cases, the optimization process may exhibit oscillations, where the parameter updates move back and forth without converging. This can happen when the learning rate is not properly tuned or when dealing with noisy gradients, especially in the case of SGD.\n",
        "\n",
        "To address these challenges, modern optimizers have been developed, and they utilize various techniques to overcome these limitations and improve the optimization process. Some popular modern optimizers include:\n",
        "Momentum: Momentum addresses the slow convergence problem by adding a velocity term to the parameter updates. This helps the optimization process to continue moving in the direction of the previous updates, enabling faster convergence and reducing oscillations.\n",
        "\n",
        "Adaptive Learning Rates: Optimizers like Adagrad, RMSprop, and Adam adapt the learning rates for each parameter based on historical information about the gradients. This adaptivity allows the optimizer to use larger learning rates for infrequent parameters and smaller learning rates for frequent ones. Adaptive learning rates help prevent the learning rate from decaying too quickly, making the optimization process more efficient.\n",
        "\n",
        "Second-Order Methods: Newton's method and variants like the Hessian matrix-based optimization methods can provide more accurate estimates of the optimal parameters by taking into account second-order information about the loss function. However, they can be computationally expensive and might require additional memory to store the Hessian matrix.\n",
        "\n",
        "Batch Normalization: Batch normalization is a technique applied to the activations of a neural network, which helps to reduce internal covariate shift. By normalizing the activations in each mini-batch during training, it improves the stability of the optimization process and enables the use of higher learning rates.\n",
        "\n",
        "Weight Initialization: Proper weight initialization techniques can help mitigate the issue of getting stuck in poor local minima during the early stages of training. Methods like Xavier/Glorot initialization and He initialization set the initial weights of the network in a way that encourages a smoother optimization process.\n",
        "\n",
        "Learning Rate Schedules: Modern optimizers often employ learning rate schedules, where the learning rate is adjusted over time during training. Learning rate schedules can start with larger learning rates to make more substantial updates initially and then gradually decrease the learning rate as training progresses, allowing for more precise fine-tuning.\n",
        "\n",
        "By incorporating these techniques, modern optimizers are better equipped to tackle the challenges associated with traditional gradient descent methods. They generally lead to faster convergence, improved stability, and better exploration of the parameter space, making them more effective in training complex neural networks and deep learning models. However, the choice of optimizer and its hyperparameters can still require some empirical experimentation and tuning to achieve the best results for a specific problem."
      ],
      "metadata": {
        "id": "Dq4SPh1R7aZk"
      }
    },
    {
      "cell_type": "markdown",
      "source": [
        "4Q. Discuss the concepts of momentum and learning rate in the context of optimization algorithms. How do\n",
        "they impact convergence and model performanceK"
      ],
      "metadata": {
        "id": "9OsOnInj7elE"
      }
    },
    {
      "cell_type": "markdown",
      "source": [
        "In the context of optimization algorithms, momentum and learning rate are two essential concepts that significantly impact convergence and model performance. They are commonly used in modern optimization algorithms, particularly in training neural networks.\n",
        "Momentum:\n",
        "Momentum is a technique used to accelerate the convergence of optimization algorithms, especially in the presence of sparse gradients and noisy data. It addresses the problem of slow convergence by adding a \"momentum\" term to the parameter updates. The momentum term helps the optimizer to continue moving in the direction of the previous updates, which can be seen as adding inertia to the optimization process.\n",
        "\n",
        "Mathematically, the update rule for a parameter using momentum is as follows:\n",
        "v(t) = beta * v(t-1) + (1 - beta) * gradient\n",
        "parameter = parameter - learning_rate * v(t)\n",
        "where:\n",
        "\n",
        "v(t) is the velocity at time step t, which represents the accumulated gradient direction from previous time steps.\n",
        "beta is the momentum coefficient (typically a value between 0 and 1) that determines how much of the previous velocity is retained. A higher value of beta gives more weight to previous updates.\n",
        "Impact on Convergence and Model Performance:\n",
        "Faster Convergence: Momentum helps the optimizer to navigate through shallow regions and narrow valleys more efficiently. By carrying forward the accumulated direction from previous updates, momentum accelerates the convergence process and reduces the oscillations that can occur during optimization.\n",
        "\n",
        "Escaping Local Minima: The momentum term allows the optimizer to escape shallow local minima, enabling it to explore the parameter space more effectively and potentially find better solutions.\n",
        "\n",
        "Dampening Oscillations: When dealing with noisy or sparse gradients, momentum helps to dampen the oscillations that can occur during the optimization process, leading to more stable updates.\n",
        "\n",
        "However, very high momentum values can cause the optimizer to overshoot the minimum and lead to instability in convergence. Therefore, choosing an appropriate value for the momentum coefficient is crucial and often requires empirical tuning.\n",
        "Learning Rate:\n",
        "The learning rate is a hyperparameter that determines the step size taken in the direction of the gradient during each iteration of the optimization process. It controls the rate at which the model's parameters are updated.\n",
        "\n",
        "Mathematically, the update rule for a parameter using the learning rate is as follows:\n",
        "parameter = parameter - learning_rate * gradient\n",
        "Impact on Convergence and Model Performance:\n",
        "Learning Rate Too Small: A small learning rate slows down the optimization process, as the updates are tiny, and it may take a long time to reach the optimal solution. Additionally, a very small learning rate may cause the optimization to get stuck in local minima or plateaus.\n",
        "\n",
        "Learning Rate Too Large: A large learning rate can lead to overshooting the optimal solution, causing the optimization process to diverge. It can cause instability and result in the model failing to converge.\n",
        "\n",
        "Learning Rate Schedules: Often, a learning rate schedule is used, where the learning rate is decreased over time during training. This approach starts with a larger learning rate to make more substantial updates in the early stages and gradually decreases the learning rate as training progresses. Learning rate schedules help achieve more stable convergence and fine-tuning of the model towards the end of training.\n",
        "\n",
        "Adaptive Learning Rates: Adaptive optimization algorithms, like RMSprop and Adam, dynamically adjust the learning rate based on historical information about the gradients. This adaptivity helps in efficiently tuning the learning rate for different parameters and can lead to faster convergence and better performance.\n",
        "\n",
        "In summary, both momentum and learning rate play critical roles in the optimization process of neural networks. Properly tuning these hyperparameters is essential for achieving faster convergence, stable optimization, and better overall performance of the trained model."
      ],
      "metadata": {
        "id": "qEpplkQ07lgN"
      }
    },
    {
      "cell_type": "markdown",
      "source": [
        "Part 2: Optimiaer Techoique\n",
        "5. Explain the concept of Stochastic radient Descent (SD< and its advantages compared to traditional\n",
        "gradient descent. Discuss its limitations and scenarios where it is most suitablen"
      ],
      "metadata": {
        "id": "sJnfbwdV7qik"
      }
    },
    {
      "cell_type": "markdown",
      "source": [],
      "metadata": {
        "id": "i-ndWwl-7y0k"
      }
    },
    {
      "cell_type": "markdown",
      "source": [
        "Stochastic Gradient Descent (SGD) is a variant of the traditional gradient descent optimization algorithm used in training machine learning models, especially in the context of large datasets and deep neural networks. Unlike the traditional gradient descent, which computes the gradient using the entire dataset, SGD updates the model's parameters after evaluating the gradient on a single randomly chosen data point (or a small batch of data points) at each iteration.\n",
        "The update rule for a parameter using SGD can be represented as follows:\n",
        "parameter = parameter - learning_rate * gradient(data_point)\n",
        "where:\n",
        "\n",
        "parameter: The model's parameter being updated.\n",
        "learning_rate: The hyperparameter that controls the step size for parameter updates.\n",
        "gradient(data_point): The gradient of the loss function with respect to the parameter, computed using a single data point.\n",
        "Advantages of Stochastic Gradient Descent over Traditional Gradient Descent:\n",
        "Faster Updates: SGD updates the model's parameters more frequently since it processes only one data point (or a small batch) at a time. This can lead to faster convergence, especially in the early stages of training, as it allows the model to quickly adjust its weights based on the most recent data.\n",
        "\n",
        "Lower Memory Requirements: Traditional gradient descent requires storing the gradients for the entire dataset in memory, which can be memory-intensive for large datasets. In contrast, SGD requires much less memory as it only needs to store the gradients for a single data point (or a small batch), making it more memory-efficient.\n",
        "\n",
        "Noise-Tolerant: The updates in SGD are more noisy compared to the batch gradient descent, as they are based on individual data points. This noise can help the optimization process escape shallow local minima and make the training more robust to noisy data.\n",
        "\n",
        "Generalization: SGD's noisy updates can lead to better generalization, as they prevent the model from overfitting to the training data. This is particularly useful when dealing with high-dimensional data and complex models like deep neural networks.\n",
        "\n",
        "Limitations and Scenarios Where SGD is Most Suitable:\n",
        "Noisy Updates: The noisy updates in SGD can also be a limitation, as they may introduce more oscillations during optimization. While this can help the optimization process escape local minima, it might also slow down convergence or lead to suboptimal solutions.\n",
        "\n",
        "Learning Rate Selection: Setting an appropriate learning rate is crucial for SGD. A learning rate that is too large can cause the optimization process to diverge, while a learning rate that is too small can lead to slow convergence.\n",
        "\n",
        "Incomplete Information: Because SGD only considers a single data point (or a small batch) at a time, it may not provide an accurate estimate of the true gradient. This can lead to noisy updates and slower convergence compared to batch gradient descent in some cases.\n",
        "\n",
        "Small Batch Size: While using small batch sizes in SGD can reduce memory requirements, extremely small batch sizes can lead to noisy updates and slow convergence. Finding the right balance is essential.\n",
        "\n",
        "Scenarios where SGD is most suitable:\n",
        "Large Datasets: SGD is well-suited for large datasets when computing gradients on the entire dataset becomes computationally expensive and memory-intensive.\n",
        "\n",
        "Deep Learning: In deep neural network training, where the number of parameters can be very high, SGD's efficiency in memory usage and faster updates make it a popular choice.\n",
        "\n",
        "Online Learning: SGD is commonly used in online learning settings, where new data arrives in a continuous stream and the model needs to be updated incrementally.\n",
        "\n",
        "Noisy or Non-Stationary Data: SGD can be more robust to noisy or non-stationary data compared to batch gradient descent, making it suitable for handling data with varying distributions or frequent updates.\n",
        "\n",
        "In summary, SGD offers advantages in terms of speed and memory efficiency, making it a popular choice for training large-scale machine learning models, particularly in the domain of deep learning. However, the choice of learning rate, batch size, and the trade-off between convergence speed and noise tolerance requires careful consideration and experimentation."
      ],
      "metadata": {
        "id": "-jEW_npB7vj8"
      }
    },
    {
      "cell_type": "markdown",
      "source": [
        "Q6. Describe the concept of Adam optimizer and how it combines momentum and adaptive learning rates.\n",
        "Discuss its benefits and potential drawbacksn"
      ],
      "metadata": {
        "id": "TjEh4Zfp70Is"
      }
    },
    {
      "cell_type": "markdown",
      "source": [
        "Adam (Adaptive Moment Estimation) is an advanced optimization algorithm that combines the ideas of momentum and adaptive learning rates. It is designed to provide fast and efficient convergence while being robust to different types of data and architectures, making it one of the most popular optimization methods for training neural networks.\n",
        "The key components of the Adam optimizer are:\n",
        "Momentum: Like momentum-based optimizers, Adam uses a momentum term to keep track of the moving average of past gradients. This helps the optimizer to continue moving in the direction of the previous updates, aiding in faster convergence and reducing oscillations.\n",
        "\n",
        "Adaptive Learning Rates: Adam adapts the learning rate for each parameter based on the past gradients. It maintains a running estimate of the first-moment (mean) of the gradients and the second-moment (uncentered variance) of the gradients. These estimates are biased toward zero at the beginning, so the algorithm applies a bias correction term to make the estimates unbiased.\n",
        "\n",
        "The update rule for a parameter using Adam can be represented as follows:\n",
        "m(t) = beta1 * m(t-1) + (1 - beta1) * gradient\n",
        "v(t) = beta2 * v(t-1) + (1 - beta2) * gradient^2\n",
        "\n",
        "m_hat = m(t) / (1 - beta1^t)\n",
        "v_hat = v(t) / (1 - beta2^t)\n",
        "\n",
        "parameter = parameter - learning_rate * m_hat / (sqrt(v_hat) + epsilon)\n",
        "where:\n",
        "\n",
        "m(t): The first-moment estimate (mean) of the gradients at time step t.\n",
        "v(t): The second-moment estimate (uncentered variance) of the gradients at time step t.\n",
        "beta1 and beta2: Exponential decay rates for the moving averages (typically close to 1 but less than 1).\n",
        "learning_rate: The hyperparameter that controls the step size for parameter updates.\n",
        "epsilon: A small constant added to the denominator to prevent division by zero.\n",
        "Benefits of Adam Optimizer:\n",
        "Fast Convergence: By combining momentum and adaptive learning rates, Adam often converges faster than traditional optimization algorithms like SGD and even some adaptive methods like RMSprop.\n",
        "\n",
        "Adaptive Learning Rates: The adaptive learning rate mechanism allows Adam to effectively tune the learning rates for each parameter, providing faster convergence and better generalization.\n",
        "\n",
        "Robustness: Adam's robustness to noisy gradients and varying learning rates makes it suitable for a wide range of architectures and problem domains.\n",
        "\n",
        "Low Memory Requirements: Adam only requires storage for the first and second-moment estimates per parameter, making it memory-efficient even for large-scale neural networks.\n",
        "\n",
        "Potential Drawbacks of Adam Optimizer:\n",
        "Hyperparameter Sensitivity: Adam has several hyperparameters, such as beta1, beta2, and epsilon, which need to be carefully tuned for optimal performance. Poor choices of these hyperparameters can lead to suboptimal convergence or instability.\n",
        "\n",
        "Bias Correction: The bias correction terms in the estimates can introduce some initial instability during the early training iterations before the estimates stabilize.\n",
        "\n",
        "Noisy Updates: Adam's adaptive learning rates can lead to noisy updates, which might result in some oscillations during the optimization process.\n",
        "\n",
        "Not Suitable for All Cases: While Adam performs well in many scenarios, it might not always be the best choice. For certain problems and architectures, simpler optimization algorithms like SGD or variants might provide better results.\n",
        "\n",
        "In summary, Adam is a powerful optimization algorithm that combines momentum and adaptive learning rates to achieve fast convergence and robustness. It is widely used in deep learning due to its effectiveness in training complex neural networks. However, careful hyperparameter tuning and consideration of the problem's characteristics are necessary to leverage its benefits effectively."
      ],
      "metadata": {
        "id": "NyWV6lbC75fL"
      }
    },
    {
      "cell_type": "markdown",
      "source": [
        "Q7. Explain the concept of RMSprop optimizer and how it addresses the challenges of adaptive learning\n",
        "rates. ompare it with Adam and discuss their relative strengths and weaknesses."
      ],
      "metadata": {
        "id": "zXTiR3FP79Uk"
      }
    },
    {
      "cell_type": "markdown",
      "source": [
        "RMSProp (Root Mean Square Propagation) is an optimization algorithm that addresses the challenges of adaptive learning rates, similar to Adam. It was introduced to improve upon the limitations of traditional gradient descent and to overcome some issues of Adagrad, another adaptive learning rate optimizer.\n",
        "Concept of RMSProp:\n",
        "RMSProp modifies the learning rates for each parameter by adapting the learning rate based on the historical average of squared gradients. It utilizes an exponentially decaying average of squared gradients to rescale the learning rates for each parameter. This adaptivity allows the optimizer to give larger updates for infrequent parameters and smaller updates for frequent ones, making it more suitable for non-convex optimization problems like training neural networks.\n",
        "The update rule for a parameter using RMSProp can be represented as follows:\n",
        "v(t) = beta * v(t-1) + (1 - beta) * gradient^2\n",
        "parameter = parameter - learning_rate * gradient / (sqrt(v(t)) + epsilon)\n",
        "where:\n",
        "\n",
        "v(t): The exponential moving average of squared gradients at time step t.\n",
        "beta: Exponential decay rate (typically close to 1 but less than 1).\n",
        "learning_rate: The hyperparameter that controls the step size for parameter updates.\n",
        "epsilon: A small constant added to the denominator to prevent division by zero.\n",
        "Comparison of RMSProp and Adam:\n",
        "Similarity: Both RMSProp and Adam are adaptive learning rate algorithms that adjust the learning rates for each parameter based on historical gradient information. They both aim to improve the convergence speed and performance of the optimization process.\n",
        "\n",
        "Distinction: The primary difference between RMSProp and Adam lies in the way they update the moving average of squared gradients (v(t) in the update rules).\n",
        "\n",
        "Adaptive Learning Rates: Both RMSProp and Adam provide adaptive learning rates, which allow them to effectively tune the learning rates for each parameter based on the historical gradients. This adaptivity can lead to faster convergence and better performance.\n",
        "\n",
        "Relative Strengths:\n",
        "RMSProp: It is computationally less expensive than Adam since it does not maintain the moving average of first-order moments (mean of gradients) like Adam. As a result, RMSProp may require less memory and computation.\n",
        "\n",
        "Adam: Adam often shows better performance and faster convergence compared to RMSProp in practice. The inclusion of the first-moment estimate (momentum) in Adam makes it more effective in handling noisy gradients and escaping shallow local minima.\n",
        "\n",
        "Relative Weaknesses:\n",
        "RMSProp: The learning rates may still need manual tuning for optimal performance, especially in cases with highly variable gradients or complex loss landscapes.\n",
        "\n",
        "Adam: The inclusion of both first and second-moment estimates in Adam can introduce additional hyperparameters (beta1 and beta2) to tune, making it more sensitive to the choice of hyperparameters. Poor hyperparameter choices can lead to suboptimal convergence or instability.\n",
        "\n",
        "Choosing Between RMSProp and Adam:\n",
        "The choice between RMSProp and Adam depends on the specific problem, dataset, and architecture being used. In practice, Adam is generally more popular due to its robustness and often faster convergence. However, it might require more hyperparameter tuning compared to RMSProp. If computational resources or memory constraints are a concern, RMSProp can be a good alternative to Adam, as it can be computationally more efficient while still providing adaptive learning rates. For small and moderate-sized datasets or simpler models, RMSProp might suffice, while for large-scale, complex models, Adam is often the preferred choice. It's important to experiment and compare the performance of both optimizers on your specific problem to determine the most suitable one for your application."
      ],
      "metadata": {
        "id": "TH1tHpYt8EGU"
      }
    },
    {
      "cell_type": "markdown",
      "source": [
        "Part 3: Applyiog Optimiaer\n",
        "\n",
        "Q8.Implement SD, Adam, and RMSprop optimizers in a deep learning model using a framework of your\n",
        "choice. Train the model on a suitable dataset and compare their impact on model convergence and\n",
        "performancen\n"
      ],
      "metadata": {
        "id": "3Y5NI-Lb8KYU"
      }
    },
    {
      "cell_type": "code",
      "source": [
        "from sklearn.datasets import make_classification\n",
        "X, Y = make_classification(n_samples=6000, n_classes=2, n_features=30, n_informative=15, random_state=42)"
      ],
      "metadata": {
        "id": "3M0bdq-_8STT"
      },
      "execution_count": 1,
      "outputs": []
    },
    {
      "cell_type": "code",
      "source": [
        "X"
      ],
      "metadata": {
        "colab": {
          "base_uri": "https://localhost:8080/"
        },
        "id": "gmH-_X4R8WJd",
        "outputId": "55512abc-f72c-483d-99f9-a02187f23f10"
      },
      "execution_count": 2,
      "outputs": [
        {
          "output_type": "execute_result",
          "data": {
            "text/plain": [
              "array([[  1.52285216,  -1.49389723,  -1.9692536 , ...,  -2.62517177,\n",
              "         -2.89988744,   0.64148094],\n",
              "       [ -0.96175893,  -1.02358023,   1.06754189, ...,  -4.46144893,\n",
              "         -2.36367735,   0.84276158],\n",
              "       [  0.8811009 ,   0.91976806,   0.03229224, ...,   6.46100037,\n",
              "         -1.77300873,  -0.28045463],\n",
              "       ...,\n",
              "       [ -0.35110241,   0.19470838,  -0.13692354, ...,   6.38890817,\n",
              "         -0.11350403,  -3.36359598],\n",
              "       [ -0.8676344 ,  -0.02924436,   0.15738488, ...,   7.91147633,\n",
              "         -4.60465145,  -0.68525265],\n",
              "       [  1.33422947,   0.84729414,  -0.25055607, ..., -11.44993352,\n",
              "         -4.27272824,  -1.62696704]])"
            ]
          },
          "metadata": {},
          "execution_count": 2
        }
      ]
    },
    {
      "cell_type": "code",
      "source": [
        "cols = [f'x{i+1}' for i in range(30)]\n",
        "print(cols)"
      ],
      "metadata": {
        "colab": {
          "base_uri": "https://localhost:8080/"
        },
        "id": "QVRPbrN48XM0",
        "outputId": "c7305fcf-c712-4a2c-875c-612f243d6570"
      },
      "execution_count": 3,
      "outputs": [
        {
          "output_type": "stream",
          "name": "stdout",
          "text": [
            "['x1', 'x2', 'x3', 'x4', 'x5', 'x6', 'x7', 'x8', 'x9', 'x10', 'x11', 'x12', 'x13', 'x14', 'x15', 'x16', 'x17', 'x18', 'x19', 'x20', 'x21', 'x22', 'x23', 'x24', 'x25', 'x26', 'x27', 'x28', 'x29', 'x30']\n"
          ]
        }
      ]
    },
    {
      "cell_type": "code",
      "source": [
        "import pandas as pd\n",
        "X = pd.DataFrame(X,columns=cols)\n",
        "X.head()"
      ],
      "metadata": {
        "colab": {
          "base_uri": "https://localhost:8080/",
          "height": 255
        },
        "id": "eCqp0EWw8YfL",
        "outputId": "3854f293-833b-4bb2-e644-a4fb9efe570a"
      },
      "execution_count": 4,
      "outputs": [
        {
          "output_type": "execute_result",
          "data": {
            "text/plain": [
              "         x1        x2        x3        x4        x5        x6        x7  \\\n",
              "0  1.522852 -1.493897 -1.969254 -1.950937  0.729409 -0.505545 -1.548064   \n",
              "1 -0.961759 -1.023580  1.067542 -4.162742  1.798332  0.290994 -0.460173   \n",
              "2  0.881101  0.919768  0.032292 -2.042465  1.380894 -0.368263  1.692659   \n",
              "3 -0.262708 -0.894839  0.835547  0.259482  0.126441  0.712318 -3.222290   \n",
              "4  1.219532  0.339917  0.254114 -2.319354 -0.169682  1.744857  3.390834   \n",
              "\n",
              "         x8        x9       x10  ...       x21       x22       x23       x24  \\\n",
              "0  1.425791 -3.304799 -0.439496  ... -0.700752 -1.188037  1.321142  3.119569   \n",
              "1 -0.896801  0.016522 -1.341976  ... -1.020864 -0.796174  0.995266 -0.434632   \n",
              "2  1.808263 -1.036441  0.258514  ...  0.471950  2.116017 -3.997930 -2.947469   \n",
              "3 -1.677167  2.845301 -0.583642  ...  1.080646  0.105685  2.808264 -0.006864   \n",
              "4  0.170762 -0.171321  1.027932  ... -0.445666 -3.096679  4.626698 -2.421581   \n",
              "\n",
              "        x25       x26       x27        x28       x29       x30  \n",
              "0  3.247756 -2.564369  1.586801  -2.625172 -2.899887  0.641481  \n",
              "1  0.049613 -2.943068  4.405926  -4.461449 -2.363677  0.842762  \n",
              "2 -0.580025  1.446176  5.814471   6.461000 -1.773009 -0.280455  \n",
              "3  1.389069 -0.401399 -3.077418  -6.144428  1.410733  0.831030  \n",
              "4 -1.976743 -1.058870 -4.647209 -10.108797 -0.213168 -3.011489  \n",
              "\n",
              "[5 rows x 30 columns]"
            ],
            "text/html": [
              "\n",
              "  <div id=\"df-ae3bcff4-350a-4275-bb0a-f5115d0fe883\" class=\"colab-df-container\">\n",
              "    <div>\n",
              "<style scoped>\n",
              "    .dataframe tbody tr th:only-of-type {\n",
              "        vertical-align: middle;\n",
              "    }\n",
              "\n",
              "    .dataframe tbody tr th {\n",
              "        vertical-align: top;\n",
              "    }\n",
              "\n",
              "    .dataframe thead th {\n",
              "        text-align: right;\n",
              "    }\n",
              "</style>\n",
              "<table border=\"1\" class=\"dataframe\">\n",
              "  <thead>\n",
              "    <tr style=\"text-align: right;\">\n",
              "      <th></th>\n",
              "      <th>x1</th>\n",
              "      <th>x2</th>\n",
              "      <th>x3</th>\n",
              "      <th>x4</th>\n",
              "      <th>x5</th>\n",
              "      <th>x6</th>\n",
              "      <th>x7</th>\n",
              "      <th>x8</th>\n",
              "      <th>x9</th>\n",
              "      <th>x10</th>\n",
              "      <th>...</th>\n",
              "      <th>x21</th>\n",
              "      <th>x22</th>\n",
              "      <th>x23</th>\n",
              "      <th>x24</th>\n",
              "      <th>x25</th>\n",
              "      <th>x26</th>\n",
              "      <th>x27</th>\n",
              "      <th>x28</th>\n",
              "      <th>x29</th>\n",
              "      <th>x30</th>\n",
              "    </tr>\n",
              "  </thead>\n",
              "  <tbody>\n",
              "    <tr>\n",
              "      <th>0</th>\n",
              "      <td>1.522852</td>\n",
              "      <td>-1.493897</td>\n",
              "      <td>-1.969254</td>\n",
              "      <td>-1.950937</td>\n",
              "      <td>0.729409</td>\n",
              "      <td>-0.505545</td>\n",
              "      <td>-1.548064</td>\n",
              "      <td>1.425791</td>\n",
              "      <td>-3.304799</td>\n",
              "      <td>-0.439496</td>\n",
              "      <td>...</td>\n",
              "      <td>-0.700752</td>\n",
              "      <td>-1.188037</td>\n",
              "      <td>1.321142</td>\n",
              "      <td>3.119569</td>\n",
              "      <td>3.247756</td>\n",
              "      <td>-2.564369</td>\n",
              "      <td>1.586801</td>\n",
              "      <td>-2.625172</td>\n",
              "      <td>-2.899887</td>\n",
              "      <td>0.641481</td>\n",
              "    </tr>\n",
              "    <tr>\n",
              "      <th>1</th>\n",
              "      <td>-0.961759</td>\n",
              "      <td>-1.023580</td>\n",
              "      <td>1.067542</td>\n",
              "      <td>-4.162742</td>\n",
              "      <td>1.798332</td>\n",
              "      <td>0.290994</td>\n",
              "      <td>-0.460173</td>\n",
              "      <td>-0.896801</td>\n",
              "      <td>0.016522</td>\n",
              "      <td>-1.341976</td>\n",
              "      <td>...</td>\n",
              "      <td>-1.020864</td>\n",
              "      <td>-0.796174</td>\n",
              "      <td>0.995266</td>\n",
              "      <td>-0.434632</td>\n",
              "      <td>0.049613</td>\n",
              "      <td>-2.943068</td>\n",
              "      <td>4.405926</td>\n",
              "      <td>-4.461449</td>\n",
              "      <td>-2.363677</td>\n",
              "      <td>0.842762</td>\n",
              "    </tr>\n",
              "    <tr>\n",
              "      <th>2</th>\n",
              "      <td>0.881101</td>\n",
              "      <td>0.919768</td>\n",
              "      <td>0.032292</td>\n",
              "      <td>-2.042465</td>\n",
              "      <td>1.380894</td>\n",
              "      <td>-0.368263</td>\n",
              "      <td>1.692659</td>\n",
              "      <td>1.808263</td>\n",
              "      <td>-1.036441</td>\n",
              "      <td>0.258514</td>\n",
              "      <td>...</td>\n",
              "      <td>0.471950</td>\n",
              "      <td>2.116017</td>\n",
              "      <td>-3.997930</td>\n",
              "      <td>-2.947469</td>\n",
              "      <td>-0.580025</td>\n",
              "      <td>1.446176</td>\n",
              "      <td>5.814471</td>\n",
              "      <td>6.461000</td>\n",
              "      <td>-1.773009</td>\n",
              "      <td>-0.280455</td>\n",
              "    </tr>\n",
              "    <tr>\n",
              "      <th>3</th>\n",
              "      <td>-0.262708</td>\n",
              "      <td>-0.894839</td>\n",
              "      <td>0.835547</td>\n",
              "      <td>0.259482</td>\n",
              "      <td>0.126441</td>\n",
              "      <td>0.712318</td>\n",
              "      <td>-3.222290</td>\n",
              "      <td>-1.677167</td>\n",
              "      <td>2.845301</td>\n",
              "      <td>-0.583642</td>\n",
              "      <td>...</td>\n",
              "      <td>1.080646</td>\n",
              "      <td>0.105685</td>\n",
              "      <td>2.808264</td>\n",
              "      <td>-0.006864</td>\n",
              "      <td>1.389069</td>\n",
              "      <td>-0.401399</td>\n",
              "      <td>-3.077418</td>\n",
              "      <td>-6.144428</td>\n",
              "      <td>1.410733</td>\n",
              "      <td>0.831030</td>\n",
              "    </tr>\n",
              "    <tr>\n",
              "      <th>4</th>\n",
              "      <td>1.219532</td>\n",
              "      <td>0.339917</td>\n",
              "      <td>0.254114</td>\n",
              "      <td>-2.319354</td>\n",
              "      <td>-0.169682</td>\n",
              "      <td>1.744857</td>\n",
              "      <td>3.390834</td>\n",
              "      <td>0.170762</td>\n",
              "      <td>-0.171321</td>\n",
              "      <td>1.027932</td>\n",
              "      <td>...</td>\n",
              "      <td>-0.445666</td>\n",
              "      <td>-3.096679</td>\n",
              "      <td>4.626698</td>\n",
              "      <td>-2.421581</td>\n",
              "      <td>-1.976743</td>\n",
              "      <td>-1.058870</td>\n",
              "      <td>-4.647209</td>\n",
              "      <td>-10.108797</td>\n",
              "      <td>-0.213168</td>\n",
              "      <td>-3.011489</td>\n",
              "    </tr>\n",
              "  </tbody>\n",
              "</table>\n",
              "<p>5 rows × 30 columns</p>\n",
              "</div>\n",
              "    <div class=\"colab-df-buttons\">\n",
              "\n",
              "  <div class=\"colab-df-container\">\n",
              "    <button class=\"colab-df-convert\" onclick=\"convertToInteractive('df-ae3bcff4-350a-4275-bb0a-f5115d0fe883')\"\n",
              "            title=\"Convert this dataframe to an interactive table.\"\n",
              "            style=\"display:none;\">\n",
              "\n",
              "  <svg xmlns=\"http://www.w3.org/2000/svg\" height=\"24px\" viewBox=\"0 -960 960 960\">\n",
              "    <path d=\"M120-120v-720h720v720H120Zm60-500h600v-160H180v160Zm220 220h160v-160H400v160Zm0 220h160v-160H400v160ZM180-400h160v-160H180v160Zm440 0h160v-160H620v160ZM180-180h160v-160H180v160Zm440 0h160v-160H620v160Z\"/>\n",
              "  </svg>\n",
              "    </button>\n",
              "\n",
              "  <style>\n",
              "    .colab-df-container {\n",
              "      display:flex;\n",
              "      gap: 12px;\n",
              "    }\n",
              "\n",
              "    .colab-df-convert {\n",
              "      background-color: #E8F0FE;\n",
              "      border: none;\n",
              "      border-radius: 50%;\n",
              "      cursor: pointer;\n",
              "      display: none;\n",
              "      fill: #1967D2;\n",
              "      height: 32px;\n",
              "      padding: 0 0 0 0;\n",
              "      width: 32px;\n",
              "    }\n",
              "\n",
              "    .colab-df-convert:hover {\n",
              "      background-color: #E2EBFA;\n",
              "      box-shadow: 0px 1px 2px rgba(60, 64, 67, 0.3), 0px 1px 3px 1px rgba(60, 64, 67, 0.15);\n",
              "      fill: #174EA6;\n",
              "    }\n",
              "\n",
              "    .colab-df-buttons div {\n",
              "      margin-bottom: 4px;\n",
              "    }\n",
              "\n",
              "    [theme=dark] .colab-df-convert {\n",
              "      background-color: #3B4455;\n",
              "      fill: #D2E3FC;\n",
              "    }\n",
              "\n",
              "    [theme=dark] .colab-df-convert:hover {\n",
              "      background-color: #434B5C;\n",
              "      box-shadow: 0px 1px 3px 1px rgba(0, 0, 0, 0.15);\n",
              "      filter: drop-shadow(0px 1px 2px rgba(0, 0, 0, 0.3));\n",
              "      fill: #FFFFFF;\n",
              "    }\n",
              "  </style>\n",
              "\n",
              "    <script>\n",
              "      const buttonEl =\n",
              "        document.querySelector('#df-ae3bcff4-350a-4275-bb0a-f5115d0fe883 button.colab-df-convert');\n",
              "      buttonEl.style.display =\n",
              "        google.colab.kernel.accessAllowed ? 'block' : 'none';\n",
              "\n",
              "      async function convertToInteractive(key) {\n",
              "        const element = document.querySelector('#df-ae3bcff4-350a-4275-bb0a-f5115d0fe883');\n",
              "        const dataTable =\n",
              "          await google.colab.kernel.invokeFunction('convertToInteractive',\n",
              "                                                    [key], {});\n",
              "        if (!dataTable) return;\n",
              "\n",
              "        const docLinkHtml = 'Like what you see? Visit the ' +\n",
              "          '<a target=\"_blank\" href=https://colab.research.google.com/notebooks/data_table.ipynb>data table notebook</a>'\n",
              "          + ' to learn more about interactive tables.';\n",
              "        element.innerHTML = '';\n",
              "        dataTable['output_type'] = 'display_data';\n",
              "        await google.colab.output.renderOutput(dataTable, element);\n",
              "        const docLink = document.createElement('div');\n",
              "        docLink.innerHTML = docLinkHtml;\n",
              "        element.appendChild(docLink);\n",
              "      }\n",
              "    </script>\n",
              "  </div>\n",
              "\n",
              "\n",
              "<div id=\"df-070a696d-1848-4103-9871-1f20f4bed486\">\n",
              "  <button class=\"colab-df-quickchart\" onclick=\"quickchart('df-070a696d-1848-4103-9871-1f20f4bed486')\"\n",
              "            title=\"Suggest charts.\"\n",
              "            style=\"display:none;\">\n",
              "\n",
              "<svg xmlns=\"http://www.w3.org/2000/svg\" height=\"24px\"viewBox=\"0 0 24 24\"\n",
              "     width=\"24px\">\n",
              "    <g>\n",
              "        <path d=\"M19 3H5c-1.1 0-2 .9-2 2v14c0 1.1.9 2 2 2h14c1.1 0 2-.9 2-2V5c0-1.1-.9-2-2-2zM9 17H7v-7h2v7zm4 0h-2V7h2v10zm4 0h-2v-4h2v4z\"/>\n",
              "    </g>\n",
              "</svg>\n",
              "  </button>\n",
              "\n",
              "<style>\n",
              "  .colab-df-quickchart {\n",
              "      --bg-color: #E8F0FE;\n",
              "      --fill-color: #1967D2;\n",
              "      --hover-bg-color: #E2EBFA;\n",
              "      --hover-fill-color: #174EA6;\n",
              "      --disabled-fill-color: #AAA;\n",
              "      --disabled-bg-color: #DDD;\n",
              "  }\n",
              "\n",
              "  [theme=dark] .colab-df-quickchart {\n",
              "      --bg-color: #3B4455;\n",
              "      --fill-color: #D2E3FC;\n",
              "      --hover-bg-color: #434B5C;\n",
              "      --hover-fill-color: #FFFFFF;\n",
              "      --disabled-bg-color: #3B4455;\n",
              "      --disabled-fill-color: #666;\n",
              "  }\n",
              "\n",
              "  .colab-df-quickchart {\n",
              "    background-color: var(--bg-color);\n",
              "    border: none;\n",
              "    border-radius: 50%;\n",
              "    cursor: pointer;\n",
              "    display: none;\n",
              "    fill: var(--fill-color);\n",
              "    height: 32px;\n",
              "    padding: 0;\n",
              "    width: 32px;\n",
              "  }\n",
              "\n",
              "  .colab-df-quickchart:hover {\n",
              "    background-color: var(--hover-bg-color);\n",
              "    box-shadow: 0 1px 2px rgba(60, 64, 67, 0.3), 0 1px 3px 1px rgba(60, 64, 67, 0.15);\n",
              "    fill: var(--button-hover-fill-color);\n",
              "  }\n",
              "\n",
              "  .colab-df-quickchart-complete:disabled,\n",
              "  .colab-df-quickchart-complete:disabled:hover {\n",
              "    background-color: var(--disabled-bg-color);\n",
              "    fill: var(--disabled-fill-color);\n",
              "    box-shadow: none;\n",
              "  }\n",
              "\n",
              "  .colab-df-spinner {\n",
              "    border: 2px solid var(--fill-color);\n",
              "    border-color: transparent;\n",
              "    border-bottom-color: var(--fill-color);\n",
              "    animation:\n",
              "      spin 1s steps(1) infinite;\n",
              "  }\n",
              "\n",
              "  @keyframes spin {\n",
              "    0% {\n",
              "      border-color: transparent;\n",
              "      border-bottom-color: var(--fill-color);\n",
              "      border-left-color: var(--fill-color);\n",
              "    }\n",
              "    20% {\n",
              "      border-color: transparent;\n",
              "      border-left-color: var(--fill-color);\n",
              "      border-top-color: var(--fill-color);\n",
              "    }\n",
              "    30% {\n",
              "      border-color: transparent;\n",
              "      border-left-color: var(--fill-color);\n",
              "      border-top-color: var(--fill-color);\n",
              "      border-right-color: var(--fill-color);\n",
              "    }\n",
              "    40% {\n",
              "      border-color: transparent;\n",
              "      border-right-color: var(--fill-color);\n",
              "      border-top-color: var(--fill-color);\n",
              "    }\n",
              "    60% {\n",
              "      border-color: transparent;\n",
              "      border-right-color: var(--fill-color);\n",
              "    }\n",
              "    80% {\n",
              "      border-color: transparent;\n",
              "      border-right-color: var(--fill-color);\n",
              "      border-bottom-color: var(--fill-color);\n",
              "    }\n",
              "    90% {\n",
              "      border-color: transparent;\n",
              "      border-bottom-color: var(--fill-color);\n",
              "    }\n",
              "  }\n",
              "</style>\n",
              "\n",
              "  <script>\n",
              "    async function quickchart(key) {\n",
              "      const quickchartButtonEl =\n",
              "        document.querySelector('#' + key + ' button');\n",
              "      quickchartButtonEl.disabled = true;  // To prevent multiple clicks.\n",
              "      quickchartButtonEl.classList.add('colab-df-spinner');\n",
              "      try {\n",
              "        const charts = await google.colab.kernel.invokeFunction(\n",
              "            'suggestCharts', [key], {});\n",
              "      } catch (error) {\n",
              "        console.error('Error during call to suggestCharts:', error);\n",
              "      }\n",
              "      quickchartButtonEl.classList.remove('colab-df-spinner');\n",
              "      quickchartButtonEl.classList.add('colab-df-quickchart-complete');\n",
              "    }\n",
              "    (() => {\n",
              "      let quickchartButtonEl =\n",
              "        document.querySelector('#df-070a696d-1848-4103-9871-1f20f4bed486 button');\n",
              "      quickchartButtonEl.style.display =\n",
              "        google.colab.kernel.accessAllowed ? 'block' : 'none';\n",
              "    })();\n",
              "  </script>\n",
              "</div>\n",
              "    </div>\n",
              "  </div>\n"
            ]
          },
          "metadata": {},
          "execution_count": 4
        }
      ]
    },
    {
      "cell_type": "code",
      "source": [
        "Y = pd.DataFrame(Y,columns=['y'])\n",
        "Y.head()"
      ],
      "metadata": {
        "colab": {
          "base_uri": "https://localhost:8080/",
          "height": 206
        },
        "id": "B1Z_dPmB8aRs",
        "outputId": "b7076407-0c0b-41e5-f2bd-c021f36f5933"
      },
      "execution_count": 5,
      "outputs": [
        {
          "output_type": "execute_result",
          "data": {
            "text/plain": [
              "   y\n",
              "0  1\n",
              "1  1\n",
              "2  0\n",
              "3  1\n",
              "4  0"
            ],
            "text/html": [
              "\n",
              "  <div id=\"df-e9cb6301-2863-4056-b81d-9939591189c7\" class=\"colab-df-container\">\n",
              "    <div>\n",
              "<style scoped>\n",
              "    .dataframe tbody tr th:only-of-type {\n",
              "        vertical-align: middle;\n",
              "    }\n",
              "\n",
              "    .dataframe tbody tr th {\n",
              "        vertical-align: top;\n",
              "    }\n",
              "\n",
              "    .dataframe thead th {\n",
              "        text-align: right;\n",
              "    }\n",
              "</style>\n",
              "<table border=\"1\" class=\"dataframe\">\n",
              "  <thead>\n",
              "    <tr style=\"text-align: right;\">\n",
              "      <th></th>\n",
              "      <th>y</th>\n",
              "    </tr>\n",
              "  </thead>\n",
              "  <tbody>\n",
              "    <tr>\n",
              "      <th>0</th>\n",
              "      <td>1</td>\n",
              "    </tr>\n",
              "    <tr>\n",
              "      <th>1</th>\n",
              "      <td>1</td>\n",
              "    </tr>\n",
              "    <tr>\n",
              "      <th>2</th>\n",
              "      <td>0</td>\n",
              "    </tr>\n",
              "    <tr>\n",
              "      <th>3</th>\n",
              "      <td>1</td>\n",
              "    </tr>\n",
              "    <tr>\n",
              "      <th>4</th>\n",
              "      <td>0</td>\n",
              "    </tr>\n",
              "  </tbody>\n",
              "</table>\n",
              "</div>\n",
              "    <div class=\"colab-df-buttons\">\n",
              "\n",
              "  <div class=\"colab-df-container\">\n",
              "    <button class=\"colab-df-convert\" onclick=\"convertToInteractive('df-e9cb6301-2863-4056-b81d-9939591189c7')\"\n",
              "            title=\"Convert this dataframe to an interactive table.\"\n",
              "            style=\"display:none;\">\n",
              "\n",
              "  <svg xmlns=\"http://www.w3.org/2000/svg\" height=\"24px\" viewBox=\"0 -960 960 960\">\n",
              "    <path d=\"M120-120v-720h720v720H120Zm60-500h600v-160H180v160Zm220 220h160v-160H400v160Zm0 220h160v-160H400v160ZM180-400h160v-160H180v160Zm440 0h160v-160H620v160ZM180-180h160v-160H180v160Zm440 0h160v-160H620v160Z\"/>\n",
              "  </svg>\n",
              "    </button>\n",
              "\n",
              "  <style>\n",
              "    .colab-df-container {\n",
              "      display:flex;\n",
              "      gap: 12px;\n",
              "    }\n",
              "\n",
              "    .colab-df-convert {\n",
              "      background-color: #E8F0FE;\n",
              "      border: none;\n",
              "      border-radius: 50%;\n",
              "      cursor: pointer;\n",
              "      display: none;\n",
              "      fill: #1967D2;\n",
              "      height: 32px;\n",
              "      padding: 0 0 0 0;\n",
              "      width: 32px;\n",
              "    }\n",
              "\n",
              "    .colab-df-convert:hover {\n",
              "      background-color: #E2EBFA;\n",
              "      box-shadow: 0px 1px 2px rgba(60, 64, 67, 0.3), 0px 1px 3px 1px rgba(60, 64, 67, 0.15);\n",
              "      fill: #174EA6;\n",
              "    }\n",
              "\n",
              "    .colab-df-buttons div {\n",
              "      margin-bottom: 4px;\n",
              "    }\n",
              "\n",
              "    [theme=dark] .colab-df-convert {\n",
              "      background-color: #3B4455;\n",
              "      fill: #D2E3FC;\n",
              "    }\n",
              "\n",
              "    [theme=dark] .colab-df-convert:hover {\n",
              "      background-color: #434B5C;\n",
              "      box-shadow: 0px 1px 3px 1px rgba(0, 0, 0, 0.15);\n",
              "      filter: drop-shadow(0px 1px 2px rgba(0, 0, 0, 0.3));\n",
              "      fill: #FFFFFF;\n",
              "    }\n",
              "  </style>\n",
              "\n",
              "    <script>\n",
              "      const buttonEl =\n",
              "        document.querySelector('#df-e9cb6301-2863-4056-b81d-9939591189c7 button.colab-df-convert');\n",
              "      buttonEl.style.display =\n",
              "        google.colab.kernel.accessAllowed ? 'block' : 'none';\n",
              "\n",
              "      async function convertToInteractive(key) {\n",
              "        const element = document.querySelector('#df-e9cb6301-2863-4056-b81d-9939591189c7');\n",
              "        const dataTable =\n",
              "          await google.colab.kernel.invokeFunction('convertToInteractive',\n",
              "                                                    [key], {});\n",
              "        if (!dataTable) return;\n",
              "\n",
              "        const docLinkHtml = 'Like what you see? Visit the ' +\n",
              "          '<a target=\"_blank\" href=https://colab.research.google.com/notebooks/data_table.ipynb>data table notebook</a>'\n",
              "          + ' to learn more about interactive tables.';\n",
              "        element.innerHTML = '';\n",
              "        dataTable['output_type'] = 'display_data';\n",
              "        await google.colab.output.renderOutput(dataTable, element);\n",
              "        const docLink = document.createElement('div');\n",
              "        docLink.innerHTML = docLinkHtml;\n",
              "        element.appendChild(docLink);\n",
              "      }\n",
              "    </script>\n",
              "  </div>\n",
              "\n",
              "\n",
              "<div id=\"df-4763c907-2a37-4ba0-ad32-9f0cf2493c06\">\n",
              "  <button class=\"colab-df-quickchart\" onclick=\"quickchart('df-4763c907-2a37-4ba0-ad32-9f0cf2493c06')\"\n",
              "            title=\"Suggest charts.\"\n",
              "            style=\"display:none;\">\n",
              "\n",
              "<svg xmlns=\"http://www.w3.org/2000/svg\" height=\"24px\"viewBox=\"0 0 24 24\"\n",
              "     width=\"24px\">\n",
              "    <g>\n",
              "        <path d=\"M19 3H5c-1.1 0-2 .9-2 2v14c0 1.1.9 2 2 2h14c1.1 0 2-.9 2-2V5c0-1.1-.9-2-2-2zM9 17H7v-7h2v7zm4 0h-2V7h2v10zm4 0h-2v-4h2v4z\"/>\n",
              "    </g>\n",
              "</svg>\n",
              "  </button>\n",
              "\n",
              "<style>\n",
              "  .colab-df-quickchart {\n",
              "      --bg-color: #E8F0FE;\n",
              "      --fill-color: #1967D2;\n",
              "      --hover-bg-color: #E2EBFA;\n",
              "      --hover-fill-color: #174EA6;\n",
              "      --disabled-fill-color: #AAA;\n",
              "      --disabled-bg-color: #DDD;\n",
              "  }\n",
              "\n",
              "  [theme=dark] .colab-df-quickchart {\n",
              "      --bg-color: #3B4455;\n",
              "      --fill-color: #D2E3FC;\n",
              "      --hover-bg-color: #434B5C;\n",
              "      --hover-fill-color: #FFFFFF;\n",
              "      --disabled-bg-color: #3B4455;\n",
              "      --disabled-fill-color: #666;\n",
              "  }\n",
              "\n",
              "  .colab-df-quickchart {\n",
              "    background-color: var(--bg-color);\n",
              "    border: none;\n",
              "    border-radius: 50%;\n",
              "    cursor: pointer;\n",
              "    display: none;\n",
              "    fill: var(--fill-color);\n",
              "    height: 32px;\n",
              "    padding: 0;\n",
              "    width: 32px;\n",
              "  }\n",
              "\n",
              "  .colab-df-quickchart:hover {\n",
              "    background-color: var(--hover-bg-color);\n",
              "    box-shadow: 0 1px 2px rgba(60, 64, 67, 0.3), 0 1px 3px 1px rgba(60, 64, 67, 0.15);\n",
              "    fill: var(--button-hover-fill-color);\n",
              "  }\n",
              "\n",
              "  .colab-df-quickchart-complete:disabled,\n",
              "  .colab-df-quickchart-complete:disabled:hover {\n",
              "    background-color: var(--disabled-bg-color);\n",
              "    fill: var(--disabled-fill-color);\n",
              "    box-shadow: none;\n",
              "  }\n",
              "\n",
              "  .colab-df-spinner {\n",
              "    border: 2px solid var(--fill-color);\n",
              "    border-color: transparent;\n",
              "    border-bottom-color: var(--fill-color);\n",
              "    animation:\n",
              "      spin 1s steps(1) infinite;\n",
              "  }\n",
              "\n",
              "  @keyframes spin {\n",
              "    0% {\n",
              "      border-color: transparent;\n",
              "      border-bottom-color: var(--fill-color);\n",
              "      border-left-color: var(--fill-color);\n",
              "    }\n",
              "    20% {\n",
              "      border-color: transparent;\n",
              "      border-left-color: var(--fill-color);\n",
              "      border-top-color: var(--fill-color);\n",
              "    }\n",
              "    30% {\n",
              "      border-color: transparent;\n",
              "      border-left-color: var(--fill-color);\n",
              "      border-top-color: var(--fill-color);\n",
              "      border-right-color: var(--fill-color);\n",
              "    }\n",
              "    40% {\n",
              "      border-color: transparent;\n",
              "      border-right-color: var(--fill-color);\n",
              "      border-top-color: var(--fill-color);\n",
              "    }\n",
              "    60% {\n",
              "      border-color: transparent;\n",
              "      border-right-color: var(--fill-color);\n",
              "    }\n",
              "    80% {\n",
              "      border-color: transparent;\n",
              "      border-right-color: var(--fill-color);\n",
              "      border-bottom-color: var(--fill-color);\n",
              "    }\n",
              "    90% {\n",
              "      border-color: transparent;\n",
              "      border-bottom-color: var(--fill-color);\n",
              "    }\n",
              "  }\n",
              "</style>\n",
              "\n",
              "  <script>\n",
              "    async function quickchart(key) {\n",
              "      const quickchartButtonEl =\n",
              "        document.querySelector('#' + key + ' button');\n",
              "      quickchartButtonEl.disabled = true;  // To prevent multiple clicks.\n",
              "      quickchartButtonEl.classList.add('colab-df-spinner');\n",
              "      try {\n",
              "        const charts = await google.colab.kernel.invokeFunction(\n",
              "            'suggestCharts', [key], {});\n",
              "      } catch (error) {\n",
              "        console.error('Error during call to suggestCharts:', error);\n",
              "      }\n",
              "      quickchartButtonEl.classList.remove('colab-df-spinner');\n",
              "      quickchartButtonEl.classList.add('colab-df-quickchart-complete');\n",
              "    }\n",
              "    (() => {\n",
              "      let quickchartButtonEl =\n",
              "        document.querySelector('#df-4763c907-2a37-4ba0-ad32-9f0cf2493c06 button');\n",
              "      quickchartButtonEl.style.display =\n",
              "        google.colab.kernel.accessAllowed ? 'block' : 'none';\n",
              "    })();\n",
              "  </script>\n",
              "</div>\n",
              "    </div>\n",
              "  </div>\n"
            ]
          },
          "metadata": {},
          "execution_count": 5
        }
      ]
    },
    {
      "cell_type": "code",
      "source": [
        "# dividing our data set into train test split\n",
        "from sklearn.model_selection import train_test_split\n",
        "xtrain, xtest, ytrain, ytest = train_test_split(X,Y,test_size=0.2, random_state=42)"
      ],
      "metadata": {
        "id": "QMZ4sBMD8b0s"
      },
      "execution_count": 6,
      "outputs": []
    },
    {
      "cell_type": "code",
      "source": [
        "xtrain.shape"
      ],
      "metadata": {
        "colab": {
          "base_uri": "https://localhost:8080/"
        },
        "id": "MLfXqytP8iBs",
        "outputId": "0d8f2575-ea0f-46b3-8fff-906fc7e53f3e"
      },
      "execution_count": 7,
      "outputs": [
        {
          "output_type": "execute_result",
          "data": {
            "text/plain": [
              "(4800, 30)"
            ]
          },
          "metadata": {},
          "execution_count": 7
        }
      ]
    },
    {
      "cell_type": "code",
      "source": [
        "xtest.shape"
      ],
      "metadata": {
        "colab": {
          "base_uri": "https://localhost:8080/"
        },
        "id": "kKnnjIg78jVM",
        "outputId": "c0f97402-2234-4b92-cdd2-52d0346b7e85"
      },
      "execution_count": 8,
      "outputs": [
        {
          "output_type": "execute_result",
          "data": {
            "text/plain": [
              "(1200, 30)"
            ]
          },
          "metadata": {},
          "execution_count": 8
        }
      ]
    },
    {
      "cell_type": "code",
      "source": [
        "from sklearn.preprocessing import StandardScaler\n",
        "scaler = StandardScaler()\n",
        "xtrain = pd.DataFrame(scaler.fit_transform(xtrain),columns=xtrain.columns)\n",
        "xtest = pd.DataFrame(scaler.transform(xtest),columns=xtest.columns)"
      ],
      "metadata": {
        "id": "WKg98l0z8lac"
      },
      "execution_count": 9,
      "outputs": []
    },
    {
      "cell_type": "code",
      "source": [
        "# Training the neural networks\n",
        "from keras.models import Sequential\n",
        "from keras.layers import Dense, Dropout, BatchNormalization"
      ],
      "metadata": {
        "id": "zGXDzgZO8nfM"
      },
      "execution_count": 10,
      "outputs": []
    },
    {
      "cell_type": "code",
      "source": [
        "def create_nn_model(optimizer):\n",
        "    # Initialize model\n",
        "    model = Sequential()\n",
        "\n",
        "    # Hidden Layer 1\n",
        "    model.add(Dense(64, activation='relu', input_dim=xtrain.shape[1]))\n",
        "\n",
        "    # Batch Normalization 1\n",
        "    model.add(BatchNormalization())\n",
        "\n",
        "    # Dropout Layer 1\n",
        "    model.add(Dropout(0.3))\n",
        "\n",
        "    # Hidden Layer 2\n",
        "    model.add(Dense(32, activation='relu'))\n",
        "\n",
        "    # Batch Normalization 2\n",
        "    model.add(BatchNormalization())\n",
        "\n",
        "    # Dropout 2\n",
        "    model.add(Dropout(0.2))\n",
        "\n",
        "    # Output Layer\n",
        "    model.add(Dense(1, activation='sigmoid'))\n",
        "\n",
        "    # Compile the model\n",
        "    model.compile(loss='binary_crossentropy',optimizer=optimizer, metrics=['accuracy'])\n",
        "\n",
        "    # Show Model summary\n",
        "    model.summary()\n",
        "\n",
        "    return model"
      ],
      "metadata": {
        "id": "nXvIOx8l8rGs"
      },
      "execution_count": 11,
      "outputs": []
    },
    {
      "cell_type": "code",
      "source": [
        "import matplotlib.pyplot as plt\n",
        "def plot_learning_curve(hist, opt):\n",
        "    plt.figure(figsize=(16,8))\n",
        "    plt.plot(hist.history['loss'], label='Training Loss')\n",
        "    plt.plot(hist.history['val_loss'], label='Validation Loss')\n",
        "    plt.xlabel('Epochs')\n",
        "    plt.ylabel('Binary Crossentropy Loss')\n",
        "    plt.title(f'Learning curve for Oprimizer : {opt}')\n",
        "    plt.legend()\n",
        "    plt.show()"
      ],
      "metadata": {
        "id": "uW6U2QG_8tS8"
      },
      "execution_count": 12,
      "outputs": []
    },
    {
      "cell_type": "code",
      "source": [
        "model_sgd =  create_nn_model(optimizer='SGD')"
      ],
      "metadata": {
        "colab": {
          "base_uri": "https://localhost:8080/"
        },
        "id": "Ug8dqeb_8yZk",
        "outputId": "618677d7-a200-482a-c422-d4d393b1b808"
      },
      "execution_count": 13,
      "outputs": [
        {
          "output_type": "stream",
          "name": "stdout",
          "text": [
            "Model: \"sequential\"\n",
            "_________________________________________________________________\n",
            " Layer (type)                Output Shape              Param #   \n",
            "=================================================================\n",
            " dense (Dense)               (None, 64)                1984      \n",
            "                                                                 \n",
            " batch_normalization (Batch  (None, 64)                256       \n",
            " Normalization)                                                  \n",
            "                                                                 \n",
            " dropout (Dropout)           (None, 64)                0         \n",
            "                                                                 \n",
            " dense_1 (Dense)             (None, 32)                2080      \n",
            "                                                                 \n",
            " batch_normalization_1 (Bat  (None, 32)                128       \n",
            " chNormalization)                                                \n",
            "                                                                 \n",
            " dropout_1 (Dropout)         (None, 32)                0         \n",
            "                                                                 \n",
            " dense_2 (Dense)             (None, 1)                 33        \n",
            "                                                                 \n",
            "=================================================================\n",
            "Total params: 4481 (17.50 KB)\n",
            "Trainable params: 4289 (16.75 KB)\n",
            "Non-trainable params: 192 (768.00 Byte)\n",
            "_________________________________________________________________\n"
          ]
        }
      ]
    },
    {
      "cell_type": "code",
      "source": [
        "hist_sgd = model_sgd.fit(xtrain, ytrain, validation_split=0.2, epochs=20)"
      ],
      "metadata": {
        "colab": {
          "base_uri": "https://localhost:8080/"
        },
        "id": "YNv-_IT38110",
        "outputId": "a2f6266a-7714-4992-d127-5358ccebe767"
      },
      "execution_count": 14,
      "outputs": [
        {
          "output_type": "stream",
          "name": "stdout",
          "text": [
            "Epoch 1/20\n",
            "120/120 [==============================] - 3s 7ms/step - loss: 0.7176 - accuracy: 0.5823 - val_loss: 0.5851 - val_accuracy: 0.7208\n",
            "Epoch 2/20\n",
            "120/120 [==============================] - 0s 3ms/step - loss: 0.5894 - accuracy: 0.6841 - val_loss: 0.5040 - val_accuracy: 0.7750\n",
            "Epoch 3/20\n",
            "120/120 [==============================] - 0s 3ms/step - loss: 0.5458 - accuracy: 0.7263 - val_loss: 0.4620 - val_accuracy: 0.7958\n",
            "Epoch 4/20\n",
            "120/120 [==============================] - 0s 3ms/step - loss: 0.5133 - accuracy: 0.7451 - val_loss: 0.4320 - val_accuracy: 0.8052\n",
            "Epoch 5/20\n",
            "120/120 [==============================] - 0s 3ms/step - loss: 0.4858 - accuracy: 0.7615 - val_loss: 0.4094 - val_accuracy: 0.8188\n",
            "Epoch 6/20\n",
            "120/120 [==============================] - 0s 3ms/step - loss: 0.4573 - accuracy: 0.7872 - val_loss: 0.3905 - val_accuracy: 0.8271\n",
            "Epoch 7/20\n",
            "120/120 [==============================] - 0s 3ms/step - loss: 0.4562 - accuracy: 0.7846 - val_loss: 0.3779 - val_accuracy: 0.8344\n",
            "Epoch 8/20\n",
            "120/120 [==============================] - 0s 3ms/step - loss: 0.4311 - accuracy: 0.8003 - val_loss: 0.3639 - val_accuracy: 0.8417\n",
            "Epoch 9/20\n",
            "120/120 [==============================] - 0s 3ms/step - loss: 0.4281 - accuracy: 0.8003 - val_loss: 0.3533 - val_accuracy: 0.8510\n",
            "Epoch 10/20\n",
            "120/120 [==============================] - 0s 3ms/step - loss: 0.4158 - accuracy: 0.8083 - val_loss: 0.3425 - val_accuracy: 0.8531\n",
            "Epoch 11/20\n",
            "120/120 [==============================] - 0s 3ms/step - loss: 0.3947 - accuracy: 0.8177 - val_loss: 0.3320 - val_accuracy: 0.8594\n",
            "Epoch 12/20\n",
            "120/120 [==============================] - 0s 3ms/step - loss: 0.4002 - accuracy: 0.8167 - val_loss: 0.3221 - val_accuracy: 0.8625\n",
            "Epoch 13/20\n",
            "120/120 [==============================] - 0s 3ms/step - loss: 0.3752 - accuracy: 0.8258 - val_loss: 0.3141 - val_accuracy: 0.8677\n",
            "Epoch 14/20\n",
            "120/120 [==============================] - 0s 3ms/step - loss: 0.3595 - accuracy: 0.8352 - val_loss: 0.3059 - val_accuracy: 0.8687\n",
            "Epoch 15/20\n",
            "120/120 [==============================] - 0s 4ms/step - loss: 0.3598 - accuracy: 0.8406 - val_loss: 0.2975 - val_accuracy: 0.8740\n",
            "Epoch 16/20\n",
            "120/120 [==============================] - 0s 4ms/step - loss: 0.3486 - accuracy: 0.8471 - val_loss: 0.2911 - val_accuracy: 0.8802\n",
            "Epoch 17/20\n",
            "120/120 [==============================] - 0s 4ms/step - loss: 0.3438 - accuracy: 0.8513 - val_loss: 0.2837 - val_accuracy: 0.8833\n",
            "Epoch 18/20\n",
            "120/120 [==============================] - 0s 4ms/step - loss: 0.3455 - accuracy: 0.8487 - val_loss: 0.2781 - val_accuracy: 0.8854\n",
            "Epoch 19/20\n",
            "120/120 [==============================] - 1s 5ms/step - loss: 0.3367 - accuracy: 0.8479 - val_loss: 0.2728 - val_accuracy: 0.8885\n",
            "Epoch 20/20\n",
            "120/120 [==============================] - 0s 4ms/step - loss: 0.3315 - accuracy: 0.8602 - val_loss: 0.2671 - val_accuracy: 0.8927\n"
          ]
        }
      ]
    },
    {
      "cell_type": "code",
      "source": [
        "plot_learning_curve(hist=hist_sgd, opt='SGD')"
      ],
      "metadata": {
        "colab": {
          "base_uri": "https://localhost:8080/",
          "height": 718
        },
        "id": "--1x_gdu85iU",
        "outputId": "de6c9a20-f7ef-4f1b-df38-6fd68ffd56c2"
      },
      "execution_count": 15,
      "outputs": [
        {
          "output_type": "display_data",
          "data": {
            "text/plain": [
              "<Figure size 1600x800 with 1 Axes>"
            ],
            "image/png": "[encoded data removed]"
          },
          "metadata": {}
        }
      ]
    },
    {
      "cell_type": "code",
      "source": [
        "tr_loss_sgd, tr_acc_sgd = model_sgd.evaluate(xtrain, ytrain)"
      ],
      "metadata": {
        "colab": {
          "base_uri": "https://localhost:8080/"
        },
        "id": "yWdy70f08-YM",
        "outputId": "09fe7a65-83d7-45da-9fe7-a45963b65b92"
      },
      "execution_count": 16,
      "outputs": [
        {
          "output_type": "stream",
          "name": "stdout",
          "text": [
            "150/150 [==============================] - 0s 2ms/step - loss: 0.2449 - accuracy: 0.9112\n"
          ]
        }
      ]
    },
    {
      "cell_type": "code",
      "source": [
        "ts_loss_sgd, ts_acc_sgd = model_sgd.evaluate(xtest, ytest)"
      ],
      "metadata": {
        "colab": {
          "base_uri": "https://localhost:8080/"
        },
        "id": "ViaNV6Vl9AS0",
        "outputId": "12572219-e3ac-43cc-d009-953cf85d5b3b"
      },
      "execution_count": 17,
      "outputs": [
        {
          "output_type": "stream",
          "name": "stdout",
          "text": [
            "38/38 [==============================] - 1s 5ms/step - loss: 0.2453 - accuracy: 0.9133\n"
          ]
        }
      ]
    },
    {
      "cell_type": "code",
      "source": [
        "model_rmsprop = create_nn_model(optimizer='RMSProp')"
      ],
      "metadata": {
        "colab": {
          "base_uri": "https://localhost:8080/"
        },
        "id": "dgDWTf059Bt7",
        "outputId": "174c4495-cd50-4424-b5e5-db317269d7e7"
      },
      "execution_count": 18,
      "outputs": [
        {
          "output_type": "stream",
          "name": "stdout",
          "text": [
            "Model: \"sequential_1\"\n",
            "_________________________________________________________________\n",
            " Layer (type)                Output Shape              Param #   \n",
            "=================================================================\n",
            " dense_3 (Dense)             (None, 64)                1984      \n",
            "                                                                 \n",
            " batch_normalization_2 (Bat  (None, 64)                256       \n",
            " chNormalization)                                                \n",
            "                                                                 \n",
            " dropout_2 (Dropout)         (None, 64)                0         \n",
            "                                                                 \n",
            " dense_4 (Dense)             (None, 32)                2080      \n",
            "                                                                 \n",
            " batch_normalization_3 (Bat  (None, 32)                128       \n",
            " chNormalization)                                                \n",
            "                                                                 \n",
            " dropout_3 (Dropout)         (None, 32)                0         \n",
            "                                                                 \n",
            " dense_5 (Dense)             (None, 1)                 33        \n",
            "                                                                 \n",
            "=================================================================\n",
            "Total params: 4481 (17.50 KB)\n",
            "Trainable params: 4289 (16.75 KB)\n",
            "Non-trainable params: 192 (768.00 Byte)\n",
            "_________________________________________________________________\n"
          ]
        }
      ]
    },
    {
      "cell_type": "code",
      "source": [
        "hist_rmsprop = model_rmsprop.fit(xtrain, ytrain, validation_split=0.2, epochs=20)"
      ],
      "metadata": {
        "colab": {
          "base_uri": "https://localhost:8080/"
        },
        "id": "CKKCI5_A9DgU",
        "outputId": "6f177831-67ae-4f23-f2dc-be9b0b8d581b"
      },
      "execution_count": 19,
      "outputs": [
        {
          "output_type": "stream",
          "name": "stdout",
          "text": [
            "Epoch 1/20\n",
            "120/120 [==============================] - 3s 9ms/step - loss: 0.6057 - accuracy: 0.6878 - val_loss: 0.4571 - val_accuracy: 0.8125\n",
            "Epoch 2/20\n",
            "120/120 [==============================] - 1s 8ms/step - loss: 0.4580 - accuracy: 0.7802 - val_loss: 0.3416 - val_accuracy: 0.8625\n",
            "Epoch 3/20\n",
            "120/120 [==============================] - 2s 16ms/step - loss: 0.3927 - accuracy: 0.8263 - val_loss: 0.2861 - val_accuracy: 0.8917\n",
            "Epoch 4/20\n",
            "120/120 [==============================] - 1s 4ms/step - loss: 0.3393 - accuracy: 0.8484 - val_loss: 0.2573 - val_accuracy: 0.9031\n",
            "Epoch 5/20\n",
            "120/120 [==============================] - 0s 3ms/step - loss: 0.3160 - accuracy: 0.8654 - val_loss: 0.2394 - val_accuracy: 0.9125\n",
            "Epoch 6/20\n",
            "120/120 [==============================] - 0s 3ms/step - loss: 0.3024 - accuracy: 0.8747 - val_loss: 0.2312 - val_accuracy: 0.9115\n",
            "Epoch 7/20\n",
            "120/120 [==============================] - 0s 3ms/step - loss: 0.2566 - accuracy: 0.8982 - val_loss: 0.2205 - val_accuracy: 0.9187\n",
            "Epoch 8/20\n",
            "120/120 [==============================] - 0s 3ms/step - loss: 0.2541 - accuracy: 0.9021 - val_loss: 0.2101 - val_accuracy: 0.9177\n",
            "Epoch 9/20\n",
            "120/120 [==============================] - 1s 8ms/step - loss: 0.2371 - accuracy: 0.9010 - val_loss: 0.2075 - val_accuracy: 0.9229\n",
            "Epoch 10/20\n",
            "120/120 [==============================] - 0s 4ms/step - loss: 0.2394 - accuracy: 0.9005 - val_loss: 0.2018 - val_accuracy: 0.9229\n",
            "Epoch 11/20\n",
            "120/120 [==============================] - 1s 5ms/step - loss: 0.2207 - accuracy: 0.9130 - val_loss: 0.1992 - val_accuracy: 0.9271\n",
            "Epoch 12/20\n",
            "120/120 [==============================] - 1s 4ms/step - loss: 0.2147 - accuracy: 0.9161 - val_loss: 0.1953 - val_accuracy: 0.9271\n",
            "Epoch 13/20\n",
            "120/120 [==============================] - 1s 5ms/step - loss: 0.2034 - accuracy: 0.9143 - val_loss: 0.1868 - val_accuracy: 0.9302\n",
            "Epoch 14/20\n",
            "120/120 [==============================] - 1s 5ms/step - loss: 0.2051 - accuracy: 0.9195 - val_loss: 0.1874 - val_accuracy: 0.9302\n",
            "Epoch 15/20\n",
            "120/120 [==============================] - 1s 6ms/step - loss: 0.2074 - accuracy: 0.9201 - val_loss: 0.1845 - val_accuracy: 0.9333\n",
            "Epoch 16/20\n",
            "120/120 [==============================] - 1s 6ms/step - loss: 0.1815 - accuracy: 0.9326 - val_loss: 0.1793 - val_accuracy: 0.9333\n",
            "Epoch 17/20\n",
            "120/120 [==============================] - 0s 3ms/step - loss: 0.1945 - accuracy: 0.9279 - val_loss: 0.1768 - val_accuracy: 0.9354\n",
            "Epoch 18/20\n",
            "120/120 [==============================] - 0s 3ms/step - loss: 0.1705 - accuracy: 0.9357 - val_loss: 0.1762 - val_accuracy: 0.9333\n",
            "Epoch 19/20\n",
            "120/120 [==============================] - 0s 3ms/step - loss: 0.1860 - accuracy: 0.9307 - val_loss: 0.1749 - val_accuracy: 0.9333\n",
            "Epoch 20/20\n",
            "120/120 [==============================] - 0s 3ms/step - loss: 0.1738 - accuracy: 0.9333 - val_loss: 0.1727 - val_accuracy: 0.9344\n"
          ]
        }
      ]
    },
    {
      "cell_type": "code",
      "source": [
        "plot_learning_curve(hist=hist_rmsprop, opt='RMSProp')"
      ],
      "metadata": {
        "colab": {
          "base_uri": "https://localhost:8080/",
          "height": 718
        },
        "id": "k3eSI4MB9Gvr",
        "outputId": "3d3357e0-0675-4e74-dcff-1338c12ef4df"
      },
      "execution_count": 20,
      "outputs": [
        {
          "output_type": "display_data",
          "data": {
            "text/plain": [
              "<Figure size 1600x800 with 1 Axes>"
            ],
            "image/png": "[encoded data removed]"
          },
          "metadata": {}
        }
      ]
    },
    {
      "cell_type": "code",
      "source": [
        "tr_loss_rms, tr_acc_rms = model_rmsprop.evaluate(xtrain, ytrain)"
      ],
      "metadata": {
        "colab": {
          "base_uri": "https://localhost:8080/"
        },
        "id": "GXY4-OfX9I8z",
        "outputId": "2da9787b-ba5b-47eb-d843-38b49cfa8af3"
      },
      "execution_count": 21,
      "outputs": [
        {
          "output_type": "stream",
          "name": "stdout",
          "text": [
            "150/150 [==============================] - 1s 6ms/step - loss: 0.1079 - accuracy: 0.9677\n"
          ]
        }
      ]
    },
    {
      "cell_type": "code",
      "source": [
        "ts_loss_rms, ts_acc_rms = model_rmsprop.evaluate(xtest, ytest)"
      ],
      "metadata": {
        "colab": {
          "base_uri": "https://localhost:8080/"
        },
        "id": "DOxpDWTN9LNL",
        "outputId": "f0d658ec-56e7-41dd-8210-c24a31d7cbc7"
      },
      "execution_count": 22,
      "outputs": [
        {
          "output_type": "stream",
          "name": "stdout",
          "text": [
            "38/38 [==============================] - 1s 3ms/step - loss: 0.1172 - accuracy: 0.9583\n"
          ]
        }
      ]
    },
    {
      "cell_type": "code",
      "source": [
        "# RMS Prop has improved model testing accuracy further to 95.85% which is very good imporvement"
      ],
      "metadata": {
        "id": "pV64gLmS9OOz"
      },
      "execution_count": 23,
      "outputs": []
    },
    {
      "cell_type": "code",
      "source": [
        "model_adam = create_nn_model(optimizer='Adam')"
      ],
      "metadata": {
        "colab": {
          "base_uri": "https://localhost:8080/"
        },
        "id": "PyqWriv39UrM",
        "outputId": "06d5fafc-e300-4e81-f283-71172b0b0d36"
      },
      "execution_count": 24,
      "outputs": [
        {
          "output_type": "stream",
          "name": "stdout",
          "text": [
            "Model: \"sequential_2\"\n",
            "_________________________________________________________________\n",
            " Layer (type)                Output Shape              Param #   \n",
            "=================================================================\n",
            " dense_6 (Dense)             (None, 64)                1984      \n",
            "                                                                 \n",
            " batch_normalization_4 (Bat  (None, 64)                256       \n",
            " chNormalization)                                                \n",
            "                                                                 \n",
            " dropout_4 (Dropout)         (None, 64)                0         \n",
            "                                                                 \n",
            " dense_7 (Dense)             (None, 32)                2080      \n",
            "                                                                 \n",
            " batch_normalization_5 (Bat  (None, 32)                128       \n",
            " chNormalization)                                                \n",
            "                                                                 \n",
            " dropout_5 (Dropout)         (None, 32)                0         \n",
            "                                                                 \n",
            " dense_8 (Dense)             (None, 1)                 33        \n",
            "                                                                 \n",
            "=================================================================\n",
            "Total params: 4481 (17.50 KB)\n",
            "Trainable params: 4289 (16.75 KB)\n",
            "Non-trainable params: 192 (768.00 Byte)\n",
            "_________________________________________________________________\n"
          ]
        }
      ]
    },
    {
      "cell_type": "code",
      "source": [
        "hist_adam = model_adam.fit(xtrain, ytrain, validation_split=0.2, epochs=20)"
      ],
      "metadata": {
        "colab": {
          "base_uri": "https://localhost:8080/"
        },
        "id": "16udZw6r9XpE",
        "outputId": "d6694731-5439-452f-f61e-83afa25c39af"
      },
      "execution_count": 25,
      "outputs": [
        {
          "output_type": "stream",
          "name": "stdout",
          "text": [
            "Epoch 1/20\n",
            "120/120 [==============================] - 3s 7ms/step - loss: 0.6283 - accuracy: 0.6862 - val_loss: 0.4571 - val_accuracy: 0.8229\n",
            "Epoch 2/20\n",
            "120/120 [==============================] - 0s 3ms/step - loss: 0.4639 - accuracy: 0.7820 - val_loss: 0.3712 - val_accuracy: 0.8458\n",
            "Epoch 3/20\n",
            "120/120 [==============================] - 0s 3ms/step - loss: 0.4179 - accuracy: 0.8044 - val_loss: 0.3292 - val_accuracy: 0.8615\n",
            "Epoch 4/20\n",
            "120/120 [==============================] - 0s 3ms/step - loss: 0.3717 - accuracy: 0.8346 - val_loss: 0.2954 - val_accuracy: 0.8844\n",
            "Epoch 5/20\n",
            "120/120 [==============================] - 0s 3ms/step - loss: 0.3348 - accuracy: 0.8581 - val_loss: 0.2722 - val_accuracy: 0.8958\n",
            "Epoch 6/20\n",
            "120/120 [==============================] - 0s 3ms/step - loss: 0.3031 - accuracy: 0.8682 - val_loss: 0.2526 - val_accuracy: 0.9052\n",
            "Epoch 7/20\n",
            "120/120 [==============================] - 0s 3ms/step - loss: 0.3011 - accuracy: 0.8773 - val_loss: 0.2394 - val_accuracy: 0.9104\n",
            "Epoch 8/20\n",
            "120/120 [==============================] - 0s 3ms/step - loss: 0.2632 - accuracy: 0.8859 - val_loss: 0.2300 - val_accuracy: 0.9083\n",
            "Epoch 9/20\n",
            "120/120 [==============================] - 0s 3ms/step - loss: 0.2569 - accuracy: 0.9010 - val_loss: 0.2209 - val_accuracy: 0.9177\n",
            "Epoch 10/20\n",
            "120/120 [==============================] - 0s 3ms/step - loss: 0.2399 - accuracy: 0.9055 - val_loss: 0.2109 - val_accuracy: 0.9219\n",
            "Epoch 11/20\n",
            "120/120 [==============================] - 0s 3ms/step - loss: 0.2395 - accuracy: 0.9062 - val_loss: 0.2050 - val_accuracy: 0.9292\n",
            "Epoch 12/20\n",
            "120/120 [==============================] - 1s 5ms/step - loss: 0.2239 - accuracy: 0.9062 - val_loss: 0.1999 - val_accuracy: 0.9292\n",
            "Epoch 13/20\n",
            "120/120 [==============================] - 1s 4ms/step - loss: 0.2157 - accuracy: 0.9135 - val_loss: 0.1963 - val_accuracy: 0.9312\n",
            "Epoch 14/20\n",
            "120/120 [==============================] - 1s 5ms/step - loss: 0.2038 - accuracy: 0.9203 - val_loss: 0.1978 - val_accuracy: 0.9312\n",
            "Epoch 15/20\n",
            "120/120 [==============================] - 1s 4ms/step - loss: 0.2061 - accuracy: 0.9219 - val_loss: 0.1924 - val_accuracy: 0.9365\n",
            "Epoch 16/20\n",
            "120/120 [==============================] - 1s 4ms/step - loss: 0.2076 - accuracy: 0.9219 - val_loss: 0.1911 - val_accuracy: 0.9344\n",
            "Epoch 17/20\n",
            "120/120 [==============================] - 0s 3ms/step - loss: 0.1830 - accuracy: 0.9294 - val_loss: 0.1850 - val_accuracy: 0.9375\n",
            "Epoch 18/20\n",
            "120/120 [==============================] - 0s 3ms/step - loss: 0.1818 - accuracy: 0.9292 - val_loss: 0.1838 - val_accuracy: 0.9344\n",
            "Epoch 19/20\n",
            "120/120 [==============================] - 0s 3ms/step - loss: 0.1770 - accuracy: 0.9302 - val_loss: 0.1783 - val_accuracy: 0.9385\n",
            "Epoch 20/20\n",
            "120/120 [==============================] - 0s 3ms/step - loss: 0.1707 - accuracy: 0.9336 - val_loss: 0.1805 - val_accuracy: 0.9365\n"
          ]
        }
      ]
    },
    {
      "cell_type": "code",
      "source": [
        "plot_learning_curve(hist=hist_adam, opt='Adam')"
      ],
      "metadata": {
        "colab": {
          "base_uri": "https://localhost:8080/",
          "height": 718
        },
        "id": "jQrXz2Z19asc",
        "outputId": "db616134-8bea-4ae3-ca0b-9ab18c37ae60"
      },
      "execution_count": 26,
      "outputs": [
        {
          "output_type": "display_data",
          "data": {
            "text/plain": [
              "<Figure size 1600x800 with 1 Axes>"
            ],
            "image/png": "[encoded data removed]"
          },
          "metadata": {}
        }
      ]
    },
    {
      "cell_type": "code",
      "source": [
        "tr_loss_adam, tr_acc_adam = model_adam.evaluate(xtrain,ytrain)"
      ],
      "metadata": {
        "colab": {
          "base_uri": "https://localhost:8080/"
        },
        "id": "Ga6Ib7zz9fGs",
        "outputId": "07e29537-f600-4e6e-bf2f-77e6f20257a2"
      },
      "execution_count": 28,
      "outputs": [
        {
          "output_type": "stream",
          "name": "stdout",
          "text": [
            "150/150 [==============================] - 0s 2ms/step - loss: 0.1103 - accuracy: 0.9671\n"
          ]
        }
      ]
    },
    {
      "cell_type": "code",
      "source": [
        "ts_loss_adam, ts_acc_adam = model_adam.evaluate(xtest, ytest)"
      ],
      "metadata": {
        "colab": {
          "base_uri": "https://localhost:8080/"
        },
        "id": "XIZj7DsA9hC8",
        "outputId": "9b3f76b6-060d-4729-f120-7914d8307f79"
      },
      "execution_count": 29,
      "outputs": [
        {
          "output_type": "stream",
          "name": "stdout",
          "text": [
            "38/38 [==============================] - 0s 3ms/step - loss: 0.1164 - accuracy: 0.9625\n"
          ]
        }
      ]
    },
    {
      "cell_type": "code",
      "source": [
        "\n",
        "eval_dct = {'Optimizer':['SGD','RMSProp','Adam'],\n",
        "            'Training Loss':[tr_loss_sgd, tr_loss_rms, tr_loss_adam],\n",
        "            'Testing Loss':[ts_loss_sgd, ts_loss_rms, ts_loss_adam],\n",
        "            'Training Accuracy':[tr_acc_sgd, tr_acc_rms, tr_acc_adam],\n",
        "            'Testing Accuracy':[ts_acc_sgd, ts_acc_rms, ts_acc_adam]}"
      ],
      "metadata": {
        "id": "swlU0RcU9k3c"
      },
      "execution_count": 30,
      "outputs": []
    },
    {
      "cell_type": "code",
      "source": [
        "eval_df = pd.DataFrame(eval_dct)\n",
        "eval_df"
      ],
      "metadata": {
        "colab": {
          "base_uri": "https://localhost:8080/",
          "height": 143
        },
        "id": "UnYh5qIb9mpD",
        "outputId": "104aae22-072d-4d12-9441-ca13990e60ae"
      },
      "execution_count": 31,
      "outputs": [
        {
          "output_type": "execute_result",
          "data": {
            "text/plain": [
              "  Optimizer  Training Loss  Testing Loss  Training Accuracy  Testing Accuracy\n",
              "0       SGD       0.244878      0.245256           0.911250          0.913333\n",
              "1   RMSProp       0.107946      0.117169           0.967708          0.958333\n",
              "2      Adam       0.110326      0.116385           0.967083          0.962500"
            ],
            "text/html": [
              "\n",
              "  <div id=\"df-c8bf3dab-067c-4430-a0fa-88af576a8d25\" class=\"colab-df-container\">\n",
              "    <div>\n",
              "<style scoped>\n",
              "    .dataframe tbody tr th:only-of-type {\n",
              "        vertical-align: middle;\n",
              "    }\n",
              "\n",
              "    .dataframe tbody tr th {\n",
              "        vertical-align: top;\n",
              "    }\n",
              "\n",
              "    .dataframe thead th {\n",
              "        text-align: right;\n",
              "    }\n",
              "</style>\n",
              "<table border=\"1\" class=\"dataframe\">\n",
              "  <thead>\n",
              "    <tr style=\"text-align: right;\">\n",
              "      <th></th>\n",
              "      <th>Optimizer</th>\n",
              "      <th>Training Loss</th>\n",
              "      <th>Testing Loss</th>\n",
              "      <th>Training Accuracy</th>\n",
              "      <th>Testing Accuracy</th>\n",
              "    </tr>\n",
              "  </thead>\n",
              "  <tbody>\n",
              "    <tr>\n",
              "      <th>0</th>\n",
              "      <td>SGD</td>\n",
              "      <td>0.244878</td>\n",
              "      <td>0.245256</td>\n",
              "      <td>0.911250</td>\n",
              "      <td>0.913333</td>\n",
              "    </tr>\n",
              "    <tr>\n",
              "      <th>1</th>\n",
              "      <td>RMSProp</td>\n",
              "      <td>0.107946</td>\n",
              "      <td>0.117169</td>\n",
              "      <td>0.967708</td>\n",
              "      <td>0.958333</td>\n",
              "    </tr>\n",
              "    <tr>\n",
              "      <th>2</th>\n",
              "      <td>Adam</td>\n",
              "      <td>0.110326</td>\n",
              "      <td>0.116385</td>\n",
              "      <td>0.967083</td>\n",
              "      <td>0.962500</td>\n",
              "    </tr>\n",
              "  </tbody>\n",
              "</table>\n",
              "</div>\n",
              "    <div class=\"colab-df-buttons\">\n",
              "\n",
              "  <div class=\"colab-df-container\">\n",
              "    <button class=\"colab-df-convert\" onclick=\"convertToInteractive('df-c8bf3dab-067c-4430-a0fa-88af576a8d25')\"\n",
              "            title=\"Convert this dataframe to an interactive table.\"\n",
              "            style=\"display:none;\">\n",
              "\n",
              "  <svg xmlns=\"http://www.w3.org/2000/svg\" height=\"24px\" viewBox=\"0 -960 960 960\">\n",
              "    <path d=\"M120-120v-720h720v720H120Zm60-500h600v-160H180v160Zm220 220h160v-160H400v160Zm0 220h160v-160H400v160ZM180-400h160v-160H180v160Zm440 0h160v-160H620v160ZM180-180h160v-160H180v160Zm440 0h160v-160H620v160Z\"/>\n",
              "  </svg>\n",
              "    </button>\n",
              "\n",
              "  <style>\n",
              "    .colab-df-container {\n",
              "      display:flex;\n",
              "      gap: 12px;\n",
              "    }\n",
              "\n",
              "    .colab-df-convert {\n",
              "      background-color: #E8F0FE;\n",
              "      border: none;\n",
              "      border-radius: 50%;\n",
              "      cursor: pointer;\n",
              "      display: none;\n",
              "      fill: #1967D2;\n",
              "      height: 32px;\n",
              "      padding: 0 0 0 0;\n",
              "      width: 32px;\n",
              "    }\n",
              "\n",
              "    .colab-df-convert:hover {\n",
              "      background-color: #E2EBFA;\n",
              "      box-shadow: 0px 1px 2px rgba(60, 64, 67, 0.3), 0px 1px 3px 1px rgba(60, 64, 67, 0.15);\n",
              "      fill: #174EA6;\n",
              "    }\n",
              "\n",
              "    .colab-df-buttons div {\n",
              "      margin-bottom: 4px;\n",
              "    }\n",
              "\n",
              "    [theme=dark] .colab-df-convert {\n",
              "      background-color: #3B4455;\n",
              "      fill: #D2E3FC;\n",
              "    }\n",
              "\n",
              "    [theme=dark] .colab-df-convert:hover {\n",
              "      background-color: #434B5C;\n",
              "      box-shadow: 0px 1px 3px 1px rgba(0, 0, 0, 0.15);\n",
              "      filter: drop-shadow(0px 1px 2px rgba(0, 0, 0, 0.3));\n",
              "      fill: #FFFFFF;\n",
              "    }\n",
              "  </style>\n",
              "\n",
              "    <script>\n",
              "      const buttonEl =\n",
              "        document.querySelector('#df-c8bf3dab-067c-4430-a0fa-88af576a8d25 button.colab-df-convert');\n",
              "      buttonEl.style.display =\n",
              "        google.colab.kernel.accessAllowed ? 'block' : 'none';\n",
              "\n",
              "      async function convertToInteractive(key) {\n",
              "        const element = document.querySelector('#df-c8bf3dab-067c-4430-a0fa-88af576a8d25');\n",
              "        const dataTable =\n",
              "          await google.colab.kernel.invokeFunction('convertToInteractive',\n",
              "                                                    [key], {});\n",
              "        if (!dataTable) return;\n",
              "\n",
              "        const docLinkHtml = 'Like what you see? Visit the ' +\n",
              "          '<a target=\"_blank\" href=https://colab.research.google.com/notebooks/data_table.ipynb>data table notebook</a>'\n",
              "          + ' to learn more about interactive tables.';\n",
              "        element.innerHTML = '';\n",
              "        dataTable['output_type'] = 'display_data';\n",
              "        await google.colab.output.renderOutput(dataTable, element);\n",
              "        const docLink = document.createElement('div');\n",
              "        docLink.innerHTML = docLinkHtml;\n",
              "        element.appendChild(docLink);\n",
              "      }\n",
              "    </script>\n",
              "  </div>\n",
              "\n",
              "\n",
              "<div id=\"df-7eb9c0fe-5fb9-4df3-91d6-804f1d48a2bb\">\n",
              "  <button class=\"colab-df-quickchart\" onclick=\"quickchart('df-7eb9c0fe-5fb9-4df3-91d6-804f1d48a2bb')\"\n",
              "            title=\"Suggest charts.\"\n",
              "            style=\"display:none;\">\n",
              "\n",
              "<svg xmlns=\"http://www.w3.org/2000/svg\" height=\"24px\"viewBox=\"0 0 24 24\"\n",
              "     width=\"24px\">\n",
              "    <g>\n",
              "        <path d=\"M19 3H5c-1.1 0-2 .9-2 2v14c0 1.1.9 2 2 2h14c1.1 0 2-.9 2-2V5c0-1.1-.9-2-2-2zM9 17H7v-7h2v7zm4 0h-2V7h2v10zm4 0h-2v-4h2v4z\"/>\n",
              "    </g>\n",
              "</svg>\n",
              "  </button>\n",
              "\n",
              "<style>\n",
              "  .colab-df-quickchart {\n",
              "      --bg-color: #E8F0FE;\n",
              "      --fill-color: #1967D2;\n",
              "      --hover-bg-color: #E2EBFA;\n",
              "      --hover-fill-color: #174EA6;\n",
              "      --disabled-fill-color: #AAA;\n",
              "      --disabled-bg-color: #DDD;\n",
              "  }\n",
              "\n",
              "  [theme=dark] .colab-df-quickchart {\n",
              "      --bg-color: #3B4455;\n",
              "      --fill-color: #D2E3FC;\n",
              "      --hover-bg-color: #434B5C;\n",
              "      --hover-fill-color: #FFFFFF;\n",
              "      --disabled-bg-color: #3B4455;\n",
              "      --disabled-fill-color: #666;\n",
              "  }\n",
              "\n",
              "  .colab-df-quickchart {\n",
              "    background-color: var(--bg-color);\n",
              "    border: none;\n",
              "    border-radius: 50%;\n",
              "    cursor: pointer;\n",
              "    display: none;\n",
              "    fill: var(--fill-color);\n",
              "    height: 32px;\n",
              "    padding: 0;\n",
              "    width: 32px;\n",
              "  }\n",
              "\n",
              "  .colab-df-quickchart:hover {\n",
              "    background-color: var(--hover-bg-color);\n",
              "    box-shadow: 0 1px 2px rgba(60, 64, 67, 0.3), 0 1px 3px 1px rgba(60, 64, 67, 0.15);\n",
              "    fill: var(--button-hover-fill-color);\n",
              "  }\n",
              "\n",
              "  .colab-df-quickchart-complete:disabled,\n",
              "  .colab-df-quickchart-complete:disabled:hover {\n",
              "    background-color: var(--disabled-bg-color);\n",
              "    fill: var(--disabled-fill-color);\n",
              "    box-shadow: none;\n",
              "  }\n",
              "\n",
              "  .colab-df-spinner {\n",
              "    border: 2px solid var(--fill-color);\n",
              "    border-color: transparent;\n",
              "    border-bottom-color: var(--fill-color);\n",
              "    animation:\n",
              "      spin 1s steps(1) infinite;\n",
              "  }\n",
              "\n",
              "  @keyframes spin {\n",
              "    0% {\n",
              "      border-color: transparent;\n",
              "      border-bottom-color: var(--fill-color);\n",
              "      border-left-color: var(--fill-color);\n",
              "    }\n",
              "    20% {\n",
              "      border-color: transparent;\n",
              "      border-left-color: var(--fill-color);\n",
              "      border-top-color: var(--fill-color);\n",
              "    }\n",
              "    30% {\n",
              "      border-color: transparent;\n",
              "      border-left-color: var(--fill-color);\n",
              "      border-top-color: var(--fill-color);\n",
              "      border-right-color: var(--fill-color);\n",
              "    }\n",
              "    40% {\n",
              "      border-color: transparent;\n",
              "      border-right-color: var(--fill-color);\n",
              "      border-top-color: var(--fill-color);\n",
              "    }\n",
              "    60% {\n",
              "      border-color: transparent;\n",
              "      border-right-color: var(--fill-color);\n",
              "    }\n",
              "    80% {\n",
              "      border-color: transparent;\n",
              "      border-right-color: var(--fill-color);\n",
              "      border-bottom-color: var(--fill-color);\n",
              "    }\n",
              "    90% {\n",
              "      border-color: transparent;\n",
              "      border-bottom-color: var(--fill-color);\n",
              "    }\n",
              "  }\n",
              "</style>\n",
              "\n",
              "  <script>\n",
              "    async function quickchart(key) {\n",
              "      const quickchartButtonEl =\n",
              "        document.querySelector('#' + key + ' button');\n",
              "      quickchartButtonEl.disabled = true;  // To prevent multiple clicks.\n",
              "      quickchartButtonEl.classList.add('colab-df-spinner');\n",
              "      try {\n",
              "        const charts = await google.colab.kernel.invokeFunction(\n",
              "            'suggestCharts', [key], {});\n",
              "      } catch (error) {\n",
              "        console.error('Error during call to suggestCharts:', error);\n",
              "      }\n",
              "      quickchartButtonEl.classList.remove('colab-df-spinner');\n",
              "      quickchartButtonEl.classList.add('colab-df-quickchart-complete');\n",
              "    }\n",
              "    (() => {\n",
              "      let quickchartButtonEl =\n",
              "        document.querySelector('#df-7eb9c0fe-5fb9-4df3-91d6-804f1d48a2bb button');\n",
              "      quickchartButtonEl.style.display =\n",
              "        google.colab.kernel.accessAllowed ? 'block' : 'none';\n",
              "    })();\n",
              "  </script>\n",
              "</div>\n",
              "    </div>\n",
              "  </div>\n"
            ]
          },
          "metadata": {},
          "execution_count": 31
        }
      ]
    },
    {
      "cell_type": "code",
      "source": [
        "eval_df.sort_values(by='Testing Accuracy', ascending=False)"
      ],
      "metadata": {
        "colab": {
          "base_uri": "https://localhost:8080/",
          "height": 143
        },
        "id": "coIHNcyE9n47",
        "outputId": "96c834ad-992d-4df5-a195-5facefc8b311"
      },
      "execution_count": 32,
      "outputs": [
        {
          "output_type": "execute_result",
          "data": {
            "text/plain": [
              "  Optimizer  Training Loss  Testing Loss  Training Accuracy  Testing Accuracy\n",
              "2      Adam       0.110326      0.116385           0.967083          0.962500\n",
              "1   RMSProp       0.107946      0.117169           0.967708          0.958333\n",
              "0       SGD       0.244878      0.245256           0.911250          0.913333"
            ],
            "text/html": [
              "\n",
              "  <div id=\"df-394eed22-7ff2-4d97-9b02-50f8a50b04dd\" class=\"colab-df-container\">\n",
              "    <div>\n",
              "<style scoped>\n",
              "    .dataframe tbody tr th:only-of-type {\n",
              "        vertical-align: middle;\n",
              "    }\n",
              "\n",
              "    .dataframe tbody tr th {\n",
              "        vertical-align: top;\n",
              "    }\n",
              "\n",
              "    .dataframe thead th {\n",
              "        text-align: right;\n",
              "    }\n",
              "</style>\n",
              "<table border=\"1\" class=\"dataframe\">\n",
              "  <thead>\n",
              "    <tr style=\"text-align: right;\">\n",
              "      <th></th>\n",
              "      <th>Optimizer</th>\n",
              "      <th>Training Loss</th>\n",
              "      <th>Testing Loss</th>\n",
              "      <th>Training Accuracy</th>\n",
              "      <th>Testing Accuracy</th>\n",
              "    </tr>\n",
              "  </thead>\n",
              "  <tbody>\n",
              "    <tr>\n",
              "      <th>2</th>\n",
              "      <td>Adam</td>\n",
              "      <td>0.110326</td>\n",
              "      <td>0.116385</td>\n",
              "      <td>0.967083</td>\n",
              "      <td>0.962500</td>\n",
              "    </tr>\n",
              "    <tr>\n",
              "      <th>1</th>\n",
              "      <td>RMSProp</td>\n",
              "      <td>0.107946</td>\n",
              "      <td>0.117169</td>\n",
              "      <td>0.967708</td>\n",
              "      <td>0.958333</td>\n",
              "    </tr>\n",
              "    <tr>\n",
              "      <th>0</th>\n",
              "      <td>SGD</td>\n",
              "      <td>0.244878</td>\n",
              "      <td>0.245256</td>\n",
              "      <td>0.911250</td>\n",
              "      <td>0.913333</td>\n",
              "    </tr>\n",
              "  </tbody>\n",
              "</table>\n",
              "</div>\n",
              "    <div class=\"colab-df-buttons\">\n",
              "\n",
              "  <div class=\"colab-df-container\">\n",
              "    <button class=\"colab-df-convert\" onclick=\"convertToInteractive('df-394eed22-7ff2-4d97-9b02-50f8a50b04dd')\"\n",
              "            title=\"Convert this dataframe to an interactive table.\"\n",
              "            style=\"display:none;\">\n",
              "\n",
              "  <svg xmlns=\"http://www.w3.org/2000/svg\" height=\"24px\" viewBox=\"0 -960 960 960\">\n",
              "    <path d=\"M120-120v-720h720v720H120Zm60-500h600v-160H180v160Zm220 220h160v-160H400v160Zm0 220h160v-160H400v160ZM180-400h160v-160H180v160Zm440 0h160v-160H620v160ZM180-180h160v-160H180v160Zm440 0h160v-160H620v160Z\"/>\n",
              "  </svg>\n",
              "    </button>\n",
              "\n",
              "  <style>\n",
              "    .colab-df-container {\n",
              "      display:flex;\n",
              "      gap: 12px;\n",
              "    }\n",
              "\n",
              "    .colab-df-convert {\n",
              "      background-color: #E8F0FE;\n",
              "      border: none;\n",
              "      border-radius: 50%;\n",
              "      cursor: pointer;\n",
              "      display: none;\n",
              "      fill: #1967D2;\n",
              "      height: 32px;\n",
              "      padding: 0 0 0 0;\n",
              "      width: 32px;\n",
              "    }\n",
              "\n",
              "    .colab-df-convert:hover {\n",
              "      background-color: #E2EBFA;\n",
              "      box-shadow: 0px 1px 2px rgba(60, 64, 67, 0.3), 0px 1px 3px 1px rgba(60, 64, 67, 0.15);\n",
              "      fill: #174EA6;\n",
              "    }\n",
              "\n",
              "    .colab-df-buttons div {\n",
              "      margin-bottom: 4px;\n",
              "    }\n",
              "\n",
              "    [theme=dark] .colab-df-convert {\n",
              "      background-color: #3B4455;\n",
              "      fill: #D2E3FC;\n",
              "    }\n",
              "\n",
              "    [theme=dark] .colab-df-convert:hover {\n",
              "      background-color: #434B5C;\n",
              "      box-shadow: 0px 1px 3px 1px rgba(0, 0, 0, 0.15);\n",
              "      filter: drop-shadow(0px 1px 2px rgba(0, 0, 0, 0.3));\n",
              "      fill: #FFFFFF;\n",
              "    }\n",
              "  </style>\n",
              "\n",
              "    <script>\n",
              "      const buttonEl =\n",
              "        document.querySelector('#df-394eed22-7ff2-4d97-9b02-50f8a50b04dd button.colab-df-convert');\n",
              "      buttonEl.style.display =\n",
              "        google.colab.kernel.accessAllowed ? 'block' : 'none';\n",
              "\n",
              "      async function convertToInteractive(key) {\n",
              "        const element = document.querySelector('#df-394eed22-7ff2-4d97-9b02-50f8a50b04dd');\n",
              "        const dataTable =\n",
              "          await google.colab.kernel.invokeFunction('convertToInteractive',\n",
              "                                                    [key], {});\n",
              "        if (!dataTable) return;\n",
              "\n",
              "        const docLinkHtml = 'Like what you see? Visit the ' +\n",
              "          '<a target=\"_blank\" href=https://colab.research.google.com/notebooks/data_table.ipynb>data table notebook</a>'\n",
              "          + ' to learn more about interactive tables.';\n",
              "        element.innerHTML = '';\n",
              "        dataTable['output_type'] = 'display_data';\n",
              "        await google.colab.output.renderOutput(dataTable, element);\n",
              "        const docLink = document.createElement('div');\n",
              "        docLink.innerHTML = docLinkHtml;\n",
              "        element.appendChild(docLink);\n",
              "      }\n",
              "    </script>\n",
              "  </div>\n",
              "\n",
              "\n",
              "<div id=\"df-7ba550ce-bcee-4808-945f-38aad0d7dcf5\">\n",
              "  <button class=\"colab-df-quickchart\" onclick=\"quickchart('df-7ba550ce-bcee-4808-945f-38aad0d7dcf5')\"\n",
              "            title=\"Suggest charts.\"\n",
              "            style=\"display:none;\">\n",
              "\n",
              "<svg xmlns=\"http://www.w3.org/2000/svg\" height=\"24px\"viewBox=\"0 0 24 24\"\n",
              "     width=\"24px\">\n",
              "    <g>\n",
              "        <path d=\"M19 3H5c-1.1 0-2 .9-2 2v14c0 1.1.9 2 2 2h14c1.1 0 2-.9 2-2V5c0-1.1-.9-2-2-2zM9 17H7v-7h2v7zm4 0h-2V7h2v10zm4 0h-2v-4h2v4z\"/>\n",
              "    </g>\n",
              "</svg>\n",
              "  </button>\n",
              "\n",
              "<style>\n",
              "  .colab-df-quickchart {\n",
              "      --bg-color: #E8F0FE;\n",
              "      --fill-color: #1967D2;\n",
              "      --hover-bg-color: #E2EBFA;\n",
              "      --hover-fill-color: #174EA6;\n",
              "      --disabled-fill-color: #AAA;\n",
              "      --disabled-bg-color: #DDD;\n",
              "  }\n",
              "\n",
              "  [theme=dark] .colab-df-quickchart {\n",
              "      --bg-color: #3B4455;\n",
              "      --fill-color: #D2E3FC;\n",
              "      --hover-bg-color: #434B5C;\n",
              "      --hover-fill-color: #FFFFFF;\n",
              "      --disabled-bg-color: #3B4455;\n",
              "      --disabled-fill-color: #666;\n",
              "  }\n",
              "\n",
              "  .colab-df-quickchart {\n",
              "    background-color: var(--bg-color);\n",
              "    border: none;\n",
              "    border-radius: 50%;\n",
              "    cursor: pointer;\n",
              "    display: none;\n",
              "    fill: var(--fill-color);\n",
              "    height: 32px;\n",
              "    padding: 0;\n",
              "    width: 32px;\n",
              "  }\n",
              "\n",
              "  .colab-df-quickchart:hover {\n",
              "    background-color: var(--hover-bg-color);\n",
              "    box-shadow: 0 1px 2px rgba(60, 64, 67, 0.3), 0 1px 3px 1px rgba(60, 64, 67, 0.15);\n",
              "    fill: var(--button-hover-fill-color);\n",
              "  }\n",
              "\n",
              "  .colab-df-quickchart-complete:disabled,\n",
              "  .colab-df-quickchart-complete:disabled:hover {\n",
              "    background-color: var(--disabled-bg-color);\n",
              "    fill: var(--disabled-fill-color);\n",
              "    box-shadow: none;\n",
              "  }\n",
              "\n",
              "  .colab-df-spinner {\n",
              "    border: 2px solid var(--fill-color);\n",
              "    border-color: transparent;\n",
              "    border-bottom-color: var(--fill-color);\n",
              "    animation:\n",
              "      spin 1s steps(1) infinite;\n",
              "  }\n",
              "\n",
              "  @keyframes spin {\n",
              "    0% {\n",
              "      border-color: transparent;\n",
              "      border-bottom-color: var(--fill-color);\n",
              "      border-left-color: var(--fill-color);\n",
              "    }\n",
              "    20% {\n",
              "      border-color: transparent;\n",
              "      border-left-color: var(--fill-color);\n",
              "      border-top-color: var(--fill-color);\n",
              "    }\n",
              "    30% {\n",
              "      border-color: transparent;\n",
              "      border-left-color: var(--fill-color);\n",
              "      border-top-color: var(--fill-color);\n",
              "      border-right-color: var(--fill-color);\n",
              "    }\n",
              "    40% {\n",
              "      border-color: transparent;\n",
              "      border-right-color: var(--fill-color);\n",
              "      border-top-color: var(--fill-color);\n",
              "    }\n",
              "    60% {\n",
              "      border-color: transparent;\n",
              "      border-right-color: var(--fill-color);\n",
              "    }\n",
              "    80% {\n",
              "      border-color: transparent;\n",
              "      border-right-color: var(--fill-color);\n",
              "      border-bottom-color: var(--fill-color);\n",
              "    }\n",
              "    90% {\n",
              "      border-color: transparent;\n",
              "      border-bottom-color: var(--fill-color);\n",
              "    }\n",
              "  }\n",
              "</style>\n",
              "\n",
              "  <script>\n",
              "    async function quickchart(key) {\n",
              "      const quickchartButtonEl =\n",
              "        document.querySelector('#' + key + ' button');\n",
              "      quickchartButtonEl.disabled = true;  // To prevent multiple clicks.\n",
              "      quickchartButtonEl.classList.add('colab-df-spinner');\n",
              "      try {\n",
              "        const charts = await google.colab.kernel.invokeFunction(\n",
              "            'suggestCharts', [key], {});\n",
              "      } catch (error) {\n",
              "        console.error('Error during call to suggestCharts:', error);\n",
              "      }\n",
              "      quickchartButtonEl.classList.remove('colab-df-spinner');\n",
              "      quickchartButtonEl.classList.add('colab-df-quickchart-complete');\n",
              "    }\n",
              "    (() => {\n",
              "      let quickchartButtonEl =\n",
              "        document.querySelector('#df-7ba550ce-bcee-4808-945f-38aad0d7dcf5 button');\n",
              "      quickchartButtonEl.style.display =\n",
              "        google.colab.kernel.accessAllowed ? 'block' : 'none';\n",
              "    })();\n",
              "  </script>\n",
              "</div>\n",
              "    </div>\n",
              "  </div>\n"
            ]
          },
          "metadata": {},
          "execution_count": 32
        }
      ]
    },
    {
      "cell_type": "markdown",
      "source": [
        "9Q.  Discuss the considerations and tradeoffs when choosing the appropriate optimizer for a given neural\n",
        "network architecture and task. onsider factors such as convergence speed, stability, and\n",
        "generalization performance."
      ],
      "metadata": {
        "id": "3zKdbkpX9si2"
      }
    },
    {
      "cell_type": "markdown",
      "source": [
        "Choosing an appropriate optimizer for a neural network architecture and task is a critical decision that can significantly impact the model's convergence speed, stability, and generalization performance. Different optimization algorithms have distinct characteristics, and the choice should be based on various considerations and tradeoffs. Here are some key factors to consider:\n",
        "Convergence Speed:\n",
        "Adaptive Learning Rates: Optimizers like Adam, RMSprop, and Adagrad adapt the learning rates for each parameter, leading to faster convergence in many cases. These algorithms often converge faster than traditional optimization methods like Gradient Descent and Stochastic Gradient Descent (SGD), which use a fixed learning rate for all parameters.\n",
        "\n",
        "Momentum: Momentum-based optimizers (e.g., Momentum, Nesterov Accelerated Gradient, and Adam) add momentum to the updates, which helps the optimization process to accelerate in the right direction and overcome flat regions more efficiently. This can lead to faster convergence, especially in the presence of sparse gradients.\n",
        "\n",
        "Stability:\n",
        "Batch Size: The choice of batch size can affect the stability of optimization. Larger batch sizes tend to provide smoother updates and lead to more stable convergence, but they may require more memory. Smaller batch sizes, like in SGD, can introduce more noise, leading to some instability during training, but they may escape local minima and lead to better generalization.\n",
        "\n",
        "Learning Rate Schedule: Using a learning rate schedule can enhance the stability of the optimization process. Starting with a larger learning rate and gradually decreasing it as training progresses can help fine-tune the model towards the end of training.\n",
        "\n",
        "Noise-Tolerance: Adaptive algorithms like Adam and RMSprop tend to be more noise-tolerant due to their ability to adapt the learning rates. This makes them more stable in handling noisy or sparse gradients compared to traditional methods like SGD.\n",
        "\n",
        "Generalization Performance:\n",
        "Overfitting: Regularization techniques like Dropout and weight decay, along with the choice of optimizer, can impact the model's tendency to overfit. Optimizers that provide better generalization performance help the model generalize well to unseen data and avoid overfitting.\n",
        "\n",
        "Early Stopping: Monitoring the validation loss and stopping the training process early can help prevent overfitting. The choice of optimizer can influence the optimal stopping point.\n",
        "\n",
        "Complexity and Resource Constraints:\n",
        "Computational Resources: Optimizers like Adam and RMSprop often require more computation and memory compared to simpler methods like SGD, especially for large-scale models.\n",
        "\n",
        "Hyperparameter Sensitivity: Some optimizers, like Adam, have additional hyperparameters (e.g., beta1 and beta2) that need to be tuned. Poor hyperparameter choices can affect the optimization process and generalization performance.\n",
        "\n",
        "Problem Characteristics:\n",
        "Sparse Gradients: For problems with sparse gradients, optimizers like Adam and RMSprop are generally more suitable as they adaptively adjust the learning rates for each parameter.\n",
        "\n",
        "Non-Convex Loss Landscape: Complex non-convex loss landscapes, as often found in deep learning, may benefit from adaptive learning rate methods like Adam, which can help navigate through narrow valleys and escape shallow local minima.\n",
        "\n",
        "In summary, the choice of optimizer should consider factors such as convergence speed, stability, and generalization performance, as well as the complexity of the neural network, the problem characteristics, and the available computational resources. It is essential to experiment with different optimizers, learning rates, and hyperparameters to find the best combination that suits the specific architecture and task at hand."
      ],
      "metadata": {
        "id": "8P82OaFZ9zLd"
      }
    },
    {
      "cell_type": "code",
      "source": [],
      "metadata": {
        "id": "HikhxkA39z1D"
      },
      "execution_count": null,
      "outputs": []
    }
  ]
}