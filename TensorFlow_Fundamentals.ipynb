{
  "nbformat": 4,
  "nbformat_minor": 0,
  "metadata": {
    "colab": {
      "provenance": []
    },
    "kernelspec": {
      "name": "python3",
      "display_name": "Python 3"
    },
    "language_info": {
      "name": "python"
    }
  },
  "cells": [
    {
      "cell_type": "markdown",
      "source": [
        "Objective: The objective of this assignment is to gain practical experience with fundamental operations\n",
        "in TensorFlow, including creating and manipulating matrices, performing arithmetic operations on\n",
        "tensors, and understanding the difference between TensorFlow constants and variables."
      ],
      "metadata": {
        "id": "BKGR52zuXn9Z"
      }
    },
    {
      "cell_type": "markdown",
      "source": [
        "Q1 What are the different data structures used in Tensorflow?. Give some\n"
      ],
      "metadata": {
        "id": "yQUIQoR4X3Ek"
      }
    },
    {
      "cell_type": "markdown",
      "source": [
        "TensorFlow, a popular open-source machine learning framework, provides several different data structures to efficiently handle and manipulate data for building and training machine learning models. Some of the key data structures used in TensorFlow include:\n",
        "Tensors : Tensors are the fundamental building blocks in TensorFlow. They are n-dimensional arrays that represent the data in the computation graph. Tensors can be scalars (0-dimensional), vectors (1-dimensional), matrices (2-dimensional), or higher-dimensional arrays. TensorFlow tensors can be created using functions like tf.constant(), tf.Variable(), and by performing various operations on existing tensors"
      ],
      "metadata": {
        "id": "fRdAZ_QTYHaK"
      }
    },
    {
      "cell_type": "code",
      "source": [
        "import tensorflow as tf\n",
        "\n",
        "# Creating tensors\n",
        "scalar = tf.constant(5)\n",
        "vector = tf.constant([1, 2, 3])\n",
        "matrix = tf.constant([[1, 2], [3, 4]])"
      ],
      "metadata": {
        "id": "K0KI4ZO5YRhB"
      },
      "execution_count": 5,
      "outputs": []
    },
    {
      "cell_type": "code",
      "source": [
        "scalar\n"
      ],
      "metadata": {
        "colab": {
          "base_uri": "https://localhost:8080/"
        },
        "id": "GJ1nvuC9YSi4",
        "outputId": "0f9e8229-0948-41fe-ed62-59422d5b3755"
      },
      "execution_count": 6,
      "outputs": [
        {
          "output_type": "execute_result",
          "data": {
            "text/plain": [
              "<tf.Tensor: shape=(), dtype=int32, numpy=5>"
            ]
          },
          "metadata": {},
          "execution_count": 6
        }
      ]
    },
    {
      "cell_type": "code",
      "source": [
        "vector\n"
      ],
      "metadata": {
        "colab": {
          "base_uri": "https://localhost:8080/"
        },
        "id": "9jbSbfYVYXkX",
        "outputId": "863ad6ff-bdf5-4d58-fbb3-8d64e38a430f"
      },
      "execution_count": 7,
      "outputs": [
        {
          "output_type": "execute_result",
          "data": {
            "text/plain": [
              "<tf.Tensor: shape=(3,), dtype=int32, numpy=array([1, 2, 3], dtype=int32)>"
            ]
          },
          "metadata": {},
          "execution_count": 7
        }
      ]
    },
    {
      "cell_type": "code",
      "source": [
        "matrix\n"
      ],
      "metadata": {
        "colab": {
          "base_uri": "https://localhost:8080/"
        },
        "id": "EVZ9NfGqYbz8",
        "outputId": "470ec9ae-6c8b-4b75-9b0c-0bf77be7f898"
      },
      "execution_count": 8,
      "outputs": [
        {
          "output_type": "execute_result",
          "data": {
            "text/plain": [
              "<tf.Tensor: shape=(2, 2), dtype=int32, numpy=\n",
              "array([[1, 2],\n",
              "       [3, 4]], dtype=int32)>"
            ]
          },
          "metadata": {},
          "execution_count": 8
        }
      ]
    },
    {
      "cell_type": "markdown",
      "source": [
        "Variables: TensorFlow Variables are special tensors that can hold mutable state. They are often used to store model parameters that need to be learned during training. Variables are typically initialized with some initial values and then updated through operations."
      ],
      "metadata": {
        "id": "U3V8g3geYoq8"
      }
    },
    {
      "cell_type": "code",
      "source": [
        "# Creating a variable\n",
        "initial_value = tf.random.normal(shape=(3, 3))\n",
        "model_weights = tf.Variable(initial_value)"
      ],
      "metadata": {
        "id": "oOnA4Q3NYqDG"
      },
      "execution_count": 9,
      "outputs": []
    },
    {
      "cell_type": "code",
      "source": [
        "initial_value"
      ],
      "metadata": {
        "colab": {
          "base_uri": "https://localhost:8080/"
        },
        "id": "14gmu_D1Yv2X",
        "outputId": "711e25e8-89a4-4534-a87e-d4f16dc06e4a"
      },
      "execution_count": 10,
      "outputs": [
        {
          "output_type": "execute_result",
          "data": {
            "text/plain": [
              "<tf.Tensor: shape=(3, 3), dtype=float32, numpy=\n",
              "array([[ 0.5816702 ,  0.1752523 ,  0.05947421],\n",
              "       [ 0.45138225, -0.27498326,  0.9277151 ],\n",
              "       [ 0.94381905, -0.89813346, -1.9400777 ]], dtype=float32)>"
            ]
          },
          "metadata": {},
          "execution_count": 10
        }
      ]
    },
    {
      "cell_type": "code",
      "source": [
        "model_weights"
      ],
      "metadata": {
        "colab": {
          "base_uri": "https://localhost:8080/"
        },
        "id": "-znNgEGDYya9",
        "outputId": "70930b21-12dc-4b66-9401-8f6d97008cf5"
      },
      "execution_count": 11,
      "outputs": [
        {
          "output_type": "execute_result",
          "data": {
            "text/plain": [
              "<tf.Variable 'Variable:0' shape=(3, 3) dtype=float32, numpy=\n",
              "array([[ 0.5816702 ,  0.1752523 ,  0.05947421],\n",
              "       [ 0.45138225, -0.27498326,  0.9277151 ],\n",
              "       [ 0.94381905, -0.89813346, -1.9400777 ]], dtype=float32)>"
            ]
          },
          "metadata": {},
          "execution_count": 11
        }
      ]
    },
    {
      "cell_type": "markdown",
      "source": [
        "Constants: Constants are tensors with fixed values that remain unchanged throughout the computation. They are often used for providing constant inputs or values to the computation graph."
      ],
      "metadata": {
        "id": "YDVVBS3UY7BL"
      }
    },
    {
      "cell_type": "code",
      "source": [
        "# Creating a constant\n",
        "pi = tf.constant(3.14159)"
      ],
      "metadata": {
        "id": "wj_ouEgbZDTa"
      },
      "execution_count": 12,
      "outputs": []
    },
    {
      "cell_type": "code",
      "source": [
        "pi"
      ],
      "metadata": {
        "colab": {
          "base_uri": "https://localhost:8080/"
        },
        "id": "JaSunFw0ZEEE",
        "outputId": "2a9fb743-cd3a-43e2-f41f-daaee925e5f4"
      },
      "execution_count": 13,
      "outputs": [
        {
          "output_type": "execute_result",
          "data": {
            "text/plain": [
              "<tf.Tensor: shape=(), dtype=float32, numpy=3.14159>"
            ]
          },
          "metadata": {},
          "execution_count": 13
        }
      ]
    },
    {
      "cell_type": "markdown",
      "source": [
        "Placeholders (Deprecated): In older versions of TensorFlow (before TensorFlow 2.0), placeholders were used to feed data into the computation graph during training. However, placeholders have been deprecated in favor of the new tf.data API and eager execution in TensorFlow 2.0 and later.\n",
        "\n",
        "Sparse Tensors: Sparse tensors are designed to efficiently represent tensors with a large number of zero elements. They are useful for tasks involving sparse data, such as natural language processing or certain types of neural networks."
      ],
      "metadata": {
        "id": "vVhVtgLXZL4f"
      }
    },
    {
      "cell_type": "code",
      "source": [
        "indices = [[0, 1], [1, 2]]\n",
        "values = [1, 2]\n",
        "shape = [3, 4]\n",
        "sparse_tensor = tf.SparseTensor(indices, values, shape)"
      ],
      "metadata": {
        "id": "L80ThqMUZR7J"
      },
      "execution_count": 14,
      "outputs": []
    },
    {
      "cell_type": "code",
      "source": [
        "sparse_tensor"
      ],
      "metadata": {
        "colab": {
          "base_uri": "https://localhost:8080/"
        },
        "id": "cbHIYceQZSr3",
        "outputId": "14ff4e37-44b6-4775-9fb0-0eabf0c8c030"
      },
      "execution_count": 15,
      "outputs": [
        {
          "output_type": "execute_result",
          "data": {
            "text/plain": [
              "SparseTensor(indices=tf.Tensor(\n",
              "[[0 1]\n",
              " [1 2]], shape=(2, 2), dtype=int64), values=tf.Tensor([1 2], shape=(2,), dtype=int32), dense_shape=tf.Tensor([3 4], shape=(2,), dtype=int64))"
            ]
          },
          "metadata": {},
          "execution_count": 15
        }
      ]
    },
    {
      "cell_type": "markdown",
      "source": [
        "Ragged Tensors: Ragged tensors are used to represent tensors with varying lengths along one or more dimensions. They are useful for sequences or nested data structures.\n"
      ],
      "metadata": {
        "id": "a-UwlqcvZYXx"
      }
    },
    {
      "cell_type": "code",
      "source": [
        "# Creating a ragged tensor\n",
        "values = tf.ragged.constant([[1, 2], [3, 4, 5], [6]])"
      ],
      "metadata": {
        "id": "v7yIHfjyZmFz"
      },
      "execution_count": 16,
      "outputs": []
    },
    {
      "cell_type": "code",
      "source": [
        "values"
      ],
      "metadata": {
        "colab": {
          "base_uri": "https://localhost:8080/"
        },
        "id": "TKXKNkp2Zo2X",
        "outputId": "ced65b15-8df3-4c8a-f09c-ad41a7fe5b9b"
      },
      "execution_count": 17,
      "outputs": [
        {
          "output_type": "execute_result",
          "data": {
            "text/plain": [
              "<tf.RaggedTensor [[1, 2], [3, 4, 5], [6]]>"
            ]
          },
          "metadata": {},
          "execution_count": 17
        }
      ]
    },
    {
      "cell_type": "markdown",
      "source": [
        "TensorArray: TensorArray is a dynamic data structure that allows you to store tensors of different shapes and sizes. It's often used in dynamic loop constructs."
      ],
      "metadata": {
        "id": "f3DUydSqZyWG"
      }
    },
    {
      "cell_type": "code",
      "source": [
        "# Creating a TensorArray\n",
        "ta = tf.TensorArray(dtype=tf.float32, size=0, dynamic_size=True)"
      ],
      "metadata": {
        "id": "rRmWdc5nZ6qV"
      },
      "execution_count": 18,
      "outputs": []
    },
    {
      "cell_type": "code",
      "source": [
        "ta\n"
      ],
      "metadata": {
        "colab": {
          "base_uri": "https://localhost:8080/"
        },
        "id": "emXB7uggZ9th",
        "outputId": "24cd777c-b84c-4c1b-d479-78a9bf228093"
      },
      "execution_count": 19,
      "outputs": [
        {
          "output_type": "execute_result",
          "data": {
            "text/plain": [
              "<tensorflow.python.ops.tensor_array_ops.TensorArray at 0x7a1b25e201f0>"
            ]
          },
          "metadata": {},
          "execution_count": 19
        }
      ]
    },
    {
      "cell_type": "markdown",
      "source": [
        "Q2 How does the TensorFlow constant differ from a TensorFlow variable? Explain with an example\n"
      ],
      "metadata": {
        "id": "ALnjk7vnaH6q"
      }
    },
    {
      "cell_type": "markdown",
      "source": [
        "Both TensorFlow constants and variables are fundamental data structures, but they have different purposes and behaviors within a TensorFlow computation graph.\n",
        "TensorFlow Constants:\n",
        "Constants are tensors with fixed values that remain unchanged throughout the computation.\n",
        "They are typically used to provide inputs or fixed values to the computation graph.\n",
        "Constants cannot be modified or updated after they are created.\n",
        "TensorFlow Variables:\n",
        "Variables are tensors that hold mutable state, often used for model parameters that need to be learned during training.\n",
        "They are initialized with initial values and can be updated through operations like assignments.\n",
        "Variables can be used to store and update values as the model iteratively adjusts its parameters during training"
      ],
      "metadata": {
        "id": "XIpsVXKIaeHu"
      }
    },
    {
      "cell_type": "code",
      "source": [
        "import tensorflow as tf\n",
        "\n",
        "# Creating a constant\n",
        "a = tf.constant(5)\n",
        "\n",
        "# Attempting to assign a new value to a constant will result in an error\n",
        "try:\n",
        "    a.assign(8)  # This will raise an error\n",
        "except Exception as e:\n",
        "    print(\"Error:\", e)"
      ],
      "metadata": {
        "colab": {
          "base_uri": "https://localhost:8080/"
        },
        "id": "fSIMBZzHafFV",
        "outputId": "241d2c11-c988-4dc6-b5a5-2b8131263de2"
      },
      "execution_count": 20,
      "outputs": [
        {
          "output_type": "stream",
          "name": "stdout",
          "text": [
            "Error: 'tensorflow.python.framework.ops.EagerTensor' object has no attribute 'assign'\n"
          ]
        }
      ]
    },
    {
      "cell_type": "code",
      "source": [
        "# Example of TensorFlow Variable:\n",
        "\n",
        "import tensorflow as tf\n",
        "\n",
        "# Creating a variable with an initial value\n",
        "initial_value = tf.random.normal(shape=(3, 3))\n",
        "b = tf.Variable(initial_value)\n",
        "\n",
        "print(\"Initial 'b':\",b)\n",
        "\n",
        "# Assigning a new value to the variable using the assign() operation\n",
        "new_value = tf.random.normal(shape=(3, 3))\n",
        "b.assign(new_value)\n",
        "\n",
        "# Now 'b' holds the new value assigned to it\n",
        "print(\"\\nUpdated 'b':\", b)"
      ],
      "metadata": {
        "colab": {
          "base_uri": "https://localhost:8080/"
        },
        "id": "vpsgPOSHajXI",
        "outputId": "68c2f785-ed55-42da-edd0-0072d3e1d81a"
      },
      "execution_count": 21,
      "outputs": [
        {
          "output_type": "stream",
          "name": "stdout",
          "text": [
            "Initial 'b': <tf.Variable 'Variable:0' shape=(3, 3) dtype=float32, numpy=\n",
            "array([[ 0.2328939 , -0.95835745, -0.7952967 ],\n",
            "       [-0.21586783, -2.5569434 ,  0.61604786],\n",
            "       [ 1.0200007 , -1.2382394 ,  0.28062585]], dtype=float32)>\n",
            "\n",
            "Updated 'b': <tf.Variable 'Variable:0' shape=(3, 3) dtype=float32, numpy=\n",
            "array([[ 5.6255735e-02, -8.3697325e-01,  8.5272419e-01],\n",
            "       [-7.2369552e-01,  2.0804033e+00,  2.4125712e-01],\n",
            "       [-1.3079981e-03,  1.2011867e+00,  7.4403930e-01]], dtype=float32)>\n"
          ]
        }
      ]
    },
    {
      "cell_type": "markdown",
      "source": [
        "Q3.Describe the process of matrix addition, multiplication, and elementDwise operations in TensorFlow."
      ],
      "metadata": {
        "id": "XOsC4knOa23l"
      }
    },
    {
      "cell_type": "markdown",
      "source": [
        "1.Matrix Addition:\n",
        "Matrix addition is a basic arithmetic operation where corresponding elements of two matrices are added together to create a new matrix of the same dimensions. In TensorFlow, you can perform matrix addition using the tf.add() function or by using the + operator"
      ],
      "metadata": {
        "id": "mKd5_7tWa_1R"
      }
    },
    {
      "cell_type": "code",
      "source": [
        "import tensorflow as tf\n",
        "\n",
        "# Define two matrices\n",
        "matrix_a = tf.constant([[1, 2], [3, 4]])\n",
        "matrix_b = tf.constant([[5, 6], [7, 8]])\n",
        "\n",
        "# Perform matrix addition\n",
        "result = tf.add(matrix_a, matrix_b)\n",
        "\n",
        "# Alternatively, you can use the + operator\n",
        "result_alternative = matrix_a + matrix_b\n",
        "\n",
        "print(\"Matrix Addition Result:\")\n",
        "print(result.numpy())\n",
        "print(result_alternative.numpy())"
      ],
      "metadata": {
        "colab": {
          "base_uri": "https://localhost:8080/"
        },
        "id": "gNT-bgbKbCBa",
        "outputId": "f7c00a62-75f0-4f15-b00f-c6cd65ac360e"
      },
      "execution_count": 22,
      "outputs": [
        {
          "output_type": "stream",
          "name": "stdout",
          "text": [
            "Matrix Addition Result:\n",
            "[[ 6  8]\n",
            " [10 12]]\n",
            "[[ 6  8]\n",
            " [10 12]]\n"
          ]
        }
      ]
    },
    {
      "cell_type": "markdown",
      "source": [
        " - Matrix Multiplication:\n",
        "Matrix multiplication is a more complex operation where the dot product of rows and columns of two matrices results in a new matrix. TensorFlow provides the tf.matmul() function to perform matrix multiplication."
      ],
      "metadata": {
        "id": "GdUkZqSKbNyK"
      }
    },
    {
      "cell_type": "code",
      "source": [
        "import tensorflow as tf\n",
        "\n",
        "# Define two matrices\n",
        "matrix_a = tf.constant([[1, 2], [3, 4]])\n",
        "matrix_b = tf.constant([[5, 6], [7, 8]])\n",
        "\n",
        "# Perform matrix multiplication\n",
        "result = tf.matmul(matrix_a, matrix_b)\n",
        "\n",
        "print(\"Matrix Multiplication Result:\")\n",
        "print(result.numpy())"
      ],
      "metadata": {
        "colab": {
          "base_uri": "https://localhost:8080/"
        },
        "id": "XYGAHLq3bX2p",
        "outputId": "37289b3a-a2b9-4d51-9acf-09e18d427139"
      },
      "execution_count": 23,
      "outputs": [
        {
          "output_type": "stream",
          "name": "stdout",
          "text": [
            "Matrix Multiplication Result:\n",
            "[[19 22]\n",
            " [43 50]]\n"
          ]
        }
      ]
    },
    {
      "cell_type": "markdown",
      "source": [
        "- Element-wise Operations:\n",
        "Element-wise operations involve applying an operation to each corresponding element of two matrices (or a matrix and a scalar). TensorFlow allows you to perform a variety of element-wise operations, such as addition, subtraction, multiplication, division, and more."
      ],
      "metadata": {
        "id": "-X_xHsU_bkKF"
      }
    },
    {
      "cell_type": "code",
      "source": [
        "import tensorflow as tf\n",
        "\n",
        "# Define a matrix and a scalar\n",
        "matrix = tf.constant([[1, 2], [3, 4]])\n",
        "scalar = 2\n",
        "\n",
        "# Perform element-wise addition\n",
        "result_add = matrix + scalar\n",
        "\n",
        "# Perform element-wise multiplication\n",
        "result_multiply = matrix * scalar\n",
        "\n",
        "print(\"Element-wise Addition Result:\")\n",
        "print(result_add.numpy())\n",
        "\n",
        "print(\"Element-wise Multiplication Result:\")\n",
        "print(result_multiply.numpy())"
      ],
      "metadata": {
        "colab": {
          "base_uri": "https://localhost:8080/"
        },
        "id": "_m0TA2ZkblJq",
        "outputId": "cfb2356c-5cce-4999-d2d6-73960c8ab2d8"
      },
      "execution_count": 24,
      "outputs": [
        {
          "output_type": "stream",
          "name": "stdout",
          "text": [
            "Element-wise Addition Result:\n",
            "[[3 4]\n",
            " [5 6]]\n",
            "Element-wise Multiplication Result:\n",
            "[[2 4]\n",
            " [6 8]]\n"
          ]
        }
      ]
    },
    {
      "cell_type": "markdown",
      "source": [
        "Task 1: Creating and Manipulating Matricek\n",
        "Tc Create a normal matrix A with dimensions 2x2, using TensorFlow's random_normal function. Display the\n",
        "values of matrix Ac"
      ],
      "metadata": {
        "id": "ofUrBjKLbzqH"
      }
    },
    {
      "cell_type": "code",
      "source": [
        "import tensorflow as tf\n",
        "\n",
        "# Create a 3x3 matrix with random values from a normal distribution\n",
        "A = tf.random.normal(shape=(3, 3))\n",
        "\n",
        "# Display the value of matrix A\n",
        "print(\"Matrix A:\")\n",
        "print(A)"
      ],
      "metadata": {
        "colab": {
          "base_uri": "https://localhost:8080/"
        },
        "id": "vbj8VOmycEoz",
        "outputId": "96533a24-75cf-4d14-c35b-8785cf7d227b"
      },
      "execution_count": 25,
      "outputs": [
        {
          "output_type": "stream",
          "name": "stdout",
          "text": [
            "Matrix A:\n",
            "tf.Tensor(\n",
            "[[-0.5447332  -0.23194817  0.7369584 ]\n",
            " [-1.0852383   0.87615263  0.77969587]\n",
            " [-1.5286026   1.4019204   1.8075902 ]], shape=(3, 3), dtype=float32)\n"
          ]
        }
      ]
    },
    {
      "cell_type": "markdown",
      "source": [
        "Q3 Create a Gaussian matrix B with dimensions x, using TensorFlow's truncated_normal function. Display\n",
        "the values of matrix Bc"
      ],
      "metadata": {
        "id": "UEi0utKhcYEU"
      }
    },
    {
      "cell_type": "code",
      "source": [
        "import tensorflow as tf\n",
        "\n",
        "# Define the dimensions of the matrix\n",
        "matrix_shape = (2, 2)\n",
        "\n",
        "# Generate a Gaussian matrix using normal distribution\n",
        "mean = 3.0\n",
        "stddev = 0.5\n",
        "C = tf.random.normal(shape=matrix_shape, mean=mean, stddev=stddev)\n",
        "\n",
        "# Display the generated matrix\n",
        "print(\"Matrix C:\")\n",
        "print(C.numpy())"
      ],
      "metadata": {
        "colab": {
          "base_uri": "https://localhost:8080/"
        },
        "id": "0lTSWyCjeYQS",
        "outputId": "e18d4139-8d9a-4564-c4c6-e1800285a386"
      },
      "execution_count": 29,
      "outputs": [
        {
          "output_type": "stream",
          "name": "stdout",
          "text": [
            "Matrix C:\n",
            "[[3.13978   1.6794708]\n",
            " [3.0863833 2.3715343]]\n"
          ]
        }
      ]
    },
    {
      "cell_type": "markdown",
      "source": [
        "Q4. Perform matrix addition between matrix A and matrix B and store the results in matrix D"
      ],
      "metadata": {
        "id": "jyFOsnk3baz3"
      }
    },
    {
      "cell_type": "markdown",
      "source": [
        "Matrix A has shape (3,3) while matrix B has shape(4,4) it is not possible to add these matrices as shapes are different\n"
      ],
      "metadata": {
        "id": "zgQjAMDHbfLV"
      }
    },
    {
      "cell_type": "code",
      "source": [
        "matrix1 = tf.random.normal(shape=(2,2))\n",
        "matrix2 = tf.random.normal(shape=(2,2))\n",
        "D = tf.add(matrix1, matrix2)\n",
        "print(f'Matrix 1 :\\n {matrix1.numpy()}')\n",
        "print(f'\\nMatrix 2 :\\n {matrix2.numpy()}')\n",
        "print(f'\\nMatrix D :\\n {D.numpy()}')"
      ],
      "metadata": {
        "colab": {
          "base_uri": "https://localhost:8080/"
        },
        "id": "HVi6dVHObhsn",
        "outputId": "15055db9-f974-49d2-afe3-22763804d944"
      },
      "execution_count": 30,
      "outputs": [
        {
          "output_type": "stream",
          "name": "stdout",
          "text": [
            "Matrix 1 :\n",
            " [[-1.5816524  -0.1571169 ]\n",
            " [-0.42580375 -0.69490945]]\n",
            "\n",
            "Matrix 2 :\n",
            " [[-0.23910014  0.8781955 ]\n",
            " [-2.3021293   1.820642  ]]\n",
            "\n",
            "Matrix D :\n",
            " [[-1.8207525   0.72107863]\n",
            " [-2.727933    1.1257325 ]]\n"
          ]
        }
      ]
    },
    {
      "cell_type": "markdown",
      "source": [
        "Q5. Perform matrix multiplication between matrix C and matrix D and store result in matrix E"
      ],
      "metadata": {
        "id": "NCjAQp6ybpk4"
      }
    },
    {
      "cell_type": "code",
      "source": [
        "E = tf.matmul(C,D)\n",
        "\n",
        "print(f'Matrix C :\\n{C.numpy()}')\n",
        "print(f'\\nMatrix D :\\n{D.numpy()}')\n",
        "print(f'\\nMatrix E = CxD:\\n{E.numpy()}')"
      ],
      "metadata": {
        "colab": {
          "base_uri": "https://localhost:8080/"
        },
        "id": "REdwT0_Ibu99",
        "outputId": "3247a51e-b2a2-4431-cec4-72c3a197ace1"
      },
      "execution_count": 31,
      "outputs": [
        {
          "output_type": "stream",
          "name": "stdout",
          "text": [
            "Matrix C :\n",
            "[[3.13978   1.6794708]\n",
            " [3.0863833 2.3715343]]\n",
            "\n",
            "Matrix D :\n",
            "[[-1.8207525   0.72107863]\n",
            " [-2.727933    1.1257325 ]]\n",
            "\n",
            "Matrix E = CxD:\n",
            "[[-10.298246   4.154663]\n",
            " [-12.088926   4.895239]]\n"
          ]
        }
      ]
    },
    {
      "cell_type": "markdown",
      "source": [
        "Task 2: Performing additional matrix operations"
      ],
      "metadata": {
        "id": "DI8wEngPbyBq"
      }
    },
    {
      "cell_type": "markdown",
      "source": [
        "Q1. Create a matrix F with dimensions 3x3, initialized random values using Tensorflows random_uniform function."
      ],
      "metadata": {
        "id": "sYxeJZzqb1ne"
      }
    },
    {
      "cell_type": "code",
      "source": [
        "# Create a matrix F\n",
        "F = tf.random.uniform(shape=(3,3))\n",
        "print(f'Matrix F :\\n{F.numpy()}')"
      ],
      "metadata": {
        "colab": {
          "base_uri": "https://localhost:8080/"
        },
        "id": "VEVcu4Geb2M_",
        "outputId": "dec30dc9-4065-4f07-ef11-d965b6a1b34a"
      },
      "execution_count": 32,
      "outputs": [
        {
          "output_type": "stream",
          "name": "stdout",
          "text": [
            "Matrix F :\n",
            "[[0.45698702 0.5520431  0.08579326]\n",
            " [0.684667   0.88029957 0.25337815]\n",
            " [0.59423375 0.8665395  0.3201629 ]]\n"
          ]
        }
      ]
    },
    {
      "cell_type": "markdown",
      "source": [
        "Q2. Calculate Transpose of Matrix F and store in Matrix G"
      ],
      "metadata": {
        "id": "cawDJtakb6uc"
      }
    },
    {
      "cell_type": "code",
      "source": [
        "# Transpose the F matrix\n",
        "G = tf.transpose(F)\n",
        "\n",
        "# Print the matrix\n",
        "print(f'Matrix G :\\n{G.numpy()}')"
      ],
      "metadata": {
        "colab": {
          "base_uri": "https://localhost:8080/"
        },
        "id": "iJXMNVd6b7ZS",
        "outputId": "14542aac-9ec5-4751-9c20-3799c2a87694"
      },
      "execution_count": 33,
      "outputs": [
        {
          "output_type": "stream",
          "name": "stdout",
          "text": [
            "Matrix G :\n",
            "[[0.45698702 0.684667   0.59423375]\n",
            " [0.5520431  0.88029957 0.8665395 ]\n",
            " [0.08579326 0.25337815 0.3201629 ]]\n"
          ]
        }
      ]
    },
    {
      "cell_type": "markdown",
      "source": [
        "Q3. Calculate element wise exponential of Matrix F and store the result in matrix H"
      ],
      "metadata": {
        "id": "lejS-J81cmv7"
      }
    },
    {
      "cell_type": "code",
      "source": [
        "# Element wise exponent\n",
        "H = tf.math.exp(F)\n",
        "\n",
        "# Print matrix H\n",
        "print(f'Matrix H :\\n{H.numpy()}')"
      ],
      "metadata": {
        "colab": {
          "base_uri": "https://localhost:8080/"
        },
        "id": "prHFtGbzcndu",
        "outputId": "24f02a77-cd6e-417d-f354-ec72fbaa032d"
      },
      "execution_count": 34,
      "outputs": [
        {
          "output_type": "stream",
          "name": "stdout",
          "text": [
            "Matrix H :\n",
            "[[1.5793084 1.7367978 1.089581 ]\n",
            " [1.9831114 2.411622  1.2883704]\n",
            " [1.8116423 2.3786652 1.3773521]]\n"
          ]
        }
      ]
    },
    {
      "cell_type": "markdown",
      "source": [
        "Q4. Create a matrix I by concatenating Matrix F and matrix G horizontally"
      ],
      "metadata": {
        "id": "__yklffTcr8C"
      }
    },
    {
      "cell_type": "code",
      "source": [
        "# Concatenate matrices F and G horizontally to create matrix I\n",
        "I = tf.concat([F, G], axis=1)\n",
        "\n",
        "# Display the original matrices and the concatenated matrix\n",
        "print(\"Matrix F:\")\n",
        "print(F.numpy())\n",
        "\n",
        "print(\"\\nMatrix G:\")\n",
        "print(G.numpy())\n",
        "\n",
        "print(\"\\nMatrix I (Concatenated Horizontally):\")\n",
        "print(I.numpy())"
      ],
      "metadata": {
        "colab": {
          "base_uri": "https://localhost:8080/"
        },
        "id": "EaxnIVpYctaM",
        "outputId": "cade2e2f-718b-4cdd-dbc1-d799a9002457"
      },
      "execution_count": 35,
      "outputs": [
        {
          "output_type": "stream",
          "name": "stdout",
          "text": [
            "Matrix F:\n",
            "[[0.45698702 0.5520431  0.08579326]\n",
            " [0.684667   0.88029957 0.25337815]\n",
            " [0.59423375 0.8665395  0.3201629 ]]\n",
            "\n",
            "Matrix G:\n",
            "[[0.45698702 0.684667   0.59423375]\n",
            " [0.5520431  0.88029957 0.8665395 ]\n",
            " [0.08579326 0.25337815 0.3201629 ]]\n",
            "\n",
            "Matrix I (Concatenated Horizontally):\n",
            "[[0.45698702 0.5520431  0.08579326 0.45698702 0.684667   0.59423375]\n",
            " [0.684667   0.88029957 0.25337815 0.5520431  0.88029957 0.8665395 ]\n",
            " [0.59423375 0.8665395  0.3201629  0.08579326 0.25337815 0.3201629 ]]\n"
          ]
        }
      ]
    },
    {
      "cell_type": "markdown",
      "source": [
        "Q5. Create a matrix J by concatenating matrix F and matrix H vertically"
      ],
      "metadata": {
        "id": "nYx8J19Vcxur"
      }
    },
    {
      "cell_type": "code",
      "source": [
        "# Concatenate matrices F and H vertically to create matrix J\n",
        "J = tf.concat([F, H], axis=0)\n",
        "\n",
        "# Display the original matrices and the concatenated matrix\n",
        "print(\"Matrix F:\")\n",
        "print(F.numpy())\n",
        "\n",
        "print(\"\\nMatrix H:\")\n",
        "print(H.numpy())\n",
        "\n",
        "print(\"\\nMatrix J (Concatenated Vertically):\")\n",
        "print(J.numpy())"
      ],
      "metadata": {
        "colab": {
          "base_uri": "https://localhost:8080/"
        },
        "id": "97AYxt86cyLI",
        "outputId": "9a6e5514-9af8-444b-f5fb-88585aabf1ec"
      },
      "execution_count": 36,
      "outputs": [
        {
          "output_type": "stream",
          "name": "stdout",
          "text": [
            "Matrix F:\n",
            "[[0.45698702 0.5520431  0.08579326]\n",
            " [0.684667   0.88029957 0.25337815]\n",
            " [0.59423375 0.8665395  0.3201629 ]]\n",
            "\n",
            "Matrix H:\n",
            "[[1.5793084 1.7367978 1.089581 ]\n",
            " [1.9831114 2.411622  1.2883704]\n",
            " [1.8116423 2.3786652 1.3773521]]\n",
            "\n",
            "Matrix J (Concatenated Vertically):\n",
            "[[0.45698702 0.5520431  0.08579326]\n",
            " [0.684667   0.88029957 0.25337815]\n",
            " [0.59423375 0.8665395  0.3201629 ]\n",
            " [1.5793084  1.7367978  1.089581  ]\n",
            " [1.9831114  2.411622   1.2883704 ]\n",
            " [1.8116423  2.3786652  1.3773521 ]]\n"
          ]
        }
      ]
    },
    {
      "cell_type": "code",
      "source": [],
      "metadata": {
        "id": "aWQ_i3Jic0xW"
      },
      "execution_count": null,
      "outputs": []
    }
  ]
}