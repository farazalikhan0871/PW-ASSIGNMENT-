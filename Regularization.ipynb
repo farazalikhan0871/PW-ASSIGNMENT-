{
  "nbformat": 4,
  "nbformat_minor": 0,
  "metadata": {
    "colab": {
      "provenance": []
    },
    "kernelspec": {
      "name": "python3",
      "display_name": "Python 3"
    },
    "language_info": {
      "name": "python"
    }
  },
  "cells": [
    {
      "cell_type": "markdown",
      "source": [
        "Q1. What is regularization in the context of deep learningH Why is it importantG"
      ],
      "metadata": {
        "id": "inQwP9jE-X92"
      }
    },
    {
      "cell_type": "markdown",
      "source": [
        "In the context of deep learning, regularization refers to a set of techniques used to prevent a neural network from overfitting to the training data. Overfitting occurs when a model learns to perform well on the training data but fails to generalize its performance to new, unseen data. Regularization methods aim to strike a balance between fitting the training data closely while avoiding the pitfalls of overfitting.\n",
        "Regularization is important in deep learning for several reasons:\n",
        "Preventing Overfitting: Deep neural networks have a large number of parameters, making them prone to memorizing noise in the training data. Regularization techniques introduce constraints on these parameters, reducing the model's complexity and thus its ability to fit noise.\n",
        "\n",
        "Improving Generalization: By reducing overfitting, regularization techniques help neural networks generalize better to new, unseen data. This is crucial for the model to perform well in real-world scenarios.\n",
        "\n",
        "Handling Limited Data: In cases where you have limited training data, regularization can be particularly helpful. It aids in learning a more robust model even with a smaller dataset.\n",
        "\n",
        "Reducing Variance: Regularization methods reduce the variance in the model's predictions, making the model's output more stable and consistent across different input samples.\n",
        "\n",
        "Common regularization techniques in deep learning include:\n",
        "L1 and L2 Regularization: These techniques add a penalty term to the loss function based on the magnitudes of the model's parameters. L1 regularization encourages some parameters to become exactly zero, effectively performing feature selection, while L2 regularization prefers smaller parameter values.\n",
        "\n",
        "Dropout: Dropout randomly sets a fraction of the neurons' outputs to zero during each training iteration. This prevents specific neurons from relying too heavily on others and promotes more robust feature learning.\n",
        "\n",
        "Data Augmentation: By applying random transformations to the training data, such as rotation, cropping, or flipping, data augmentation increases the diversity of the training data, helping the model generalize better.\n",
        "\n",
        "Early Stopping: Early stopping involves monitoring the model's performance on a validation set and stopping the training process when the performance starts to degrade. This prevents the model from continuing to learn noise from the training data.\n",
        "\n",
        "Batch Normalization: Batch normalization normalizes the activations of each layer within a mini-batch during training. This helps stabilize and speed up training, acting as a form of regularization.\n",
        "\n",
        "Weight Decay: Weight decay, often used in combination with L2 regularization, reduces the magnitudes of the model's weights during training, discouraging overly large weights.\n",
        "\n",
        "Each of these techniques introduces different forms of regularization, and their effectiveness may vary depending on the specific problem and dataset. The choice of regularization method should be based on empirical experimentation and an understanding of the underlying factors contributing to overfitting in the model."
      ],
      "metadata": {
        "id": "5INWpWAa-nXs"
      }
    },
    {
      "cell_type": "code",
      "source": [],
      "metadata": {
        "id": "yjmzUFrR-ZnC"
      },
      "execution_count": null,
      "outputs": []
    },
    {
      "cell_type": "markdown",
      "source": [
        "Q2. Explain Bias Variance Tradeoff and how regularization helps in addressing this tradeoff"
      ],
      "metadata": {
        "id": "oX_6dfEZ-oVT"
      }
    },
    {
      "cell_type": "code",
      "source": [],
      "metadata": {
        "id": "sLnnxoq7-pli"
      },
      "execution_count": null,
      "outputs": []
    },
    {
      "cell_type": "markdown",
      "source": [
        "The bias-variance tradeoff is a fundamental concept in machine learning and statistical modeling that illustrates the relationship between the model's ability to fit the training data (bias) and its ability to generalize to new, unseen data (variance). Balancing bias and variance is essential for creating models that perform well on both the training data and new data points.\n",
        "Bias refers to the error introduced by approximating a real-world problem, which may be complex, by a simplified model. A high bias model tends to make strong assumptions about the data, leading it to oversimplify the underlying patterns. This can result in the model consistently underperforming on both the training data and new data.\n",
        "\n",
        "Variance is the model's sensitivity to small fluctuations or noise in the training data. A high variance model captures the noise in the training data and fits it too closely, which can lead to overfitting. Overfitting occurs when the model performs well on the training data but poorly on new data due to the noise being memorized.\n",
        "\n",
        "The bias-variance tradeoff can be visualized as follows:\n",
        "High Bias, Low Variance: A model with high bias and low variance tends to produce similar predictions across different datasets and is unlikely to overfit. However, it may fail to capture the underlying complexities of the data.\n",
        "\n",
        "Low Bias, High Variance: A model with low bias and high variance can capture complex patterns in the data, but it's prone to overfitting and may not generalize well to new data.\n",
        "\n",
        "Regularization plays a crucial role in addressing the bias-variance tradeoff by introducing constraints on the model's complexity. Here's how it helps:\n",
        "\n",
        "Bias Reduction: Regularization techniques like L1 and L2 regularization and weight decay introduce penalties on the model's parameters. This encourages the model to simplify and reduces the risk of underfitting by controlling the model's capacity to fit the training data closely. Regularization helps strike a balance between fitting the data and capturing underlying patterns.\n",
        "\n",
        "Variance Reduction: Regularization methods reduce the magnitude of the model's parameters, preventing them from becoming too large and fitting noise in the training data. By constraining the parameter space, regularization helps to avoid overfitting and reduces the model's sensitivity to variations in the data.\n",
        "\n",
        "Promoting Simplicity: Regularization discourages the model from relying heavily on any single feature or parameter, promoting a more distributed and robust representation of the data. This leads to better generalization and reduces the chances of overfitting.\n",
        "\n",
        "Stabilizing Learning: Techniques like dropout and batch normalization, often considered forms of regularization, introduce noise or normalization during training, which helps the model converge to a more stable and generalizable solution.\n",
        "\n",
        "In summary, regularization is a powerful tool for managing the bias-variance tradeoff. It allows you to control the complexity of the model, prevent overfitting, and improve its generalization to new, unseen data by striking a balance between capturing underlying patterns and avoiding noise in the training data."
      ],
      "metadata": {
        "id": "BvNWfaeV-rpz"
      }
    },
    {
      "cell_type": "markdown",
      "source": [
        "Q3. Describe concept of L1 and L2 regularization. How do they differ in terms of penalty calculation and their effects on model?"
      ],
      "metadata": {
        "id": "OLJkzR3A-td7"
      }
    },
    {
      "cell_type": "markdown",
      "source": [
        "L1 (Lasso) and L2 (Ridge) regularization are two common techniques used to prevent overfitting in machine learning models by adding penalty terms to the loss function based on the magnitudes of the model's parameters. These regularization techniques encourage the model to have smaller parameter values, which helps in controlling the model's complexity and improving generalization.\n",
        "L1 Regularization (Lasso):\n",
        "In L1 regularization, the penalty term added to the loss function is proportional to the absolute values of the model's parameters. Mathematically, the L1 regularization term for a model with parameters θ is given by:\n",
        "L1 regularization term = λ * Σ|θ|\n",
        "Here, λ (lambda) is the regularization strength hyperparameter that determines how much the regularization term influences the overall loss. Larger values of λ lead to stronger regularization.\n",
        "Effect on the model:\n",
        "L1 regularization encourages some of the model's parameters to become exactly zero. This results in a form of feature selection, as certain features become irrelevant to the model's predictions.\n",
        "The sparsity introduced by L1 regularization can lead to simpler and more interpretable models, as only a subset of features is given importance.\n",
        "L1 regularization can be particularly useful when dealing with high-dimensional data or when you suspect that many features are not informative.\n",
        "L2 Regularization (Ridge):\n",
        "In L2 regularization, the penalty term added to the loss function is proportional to the squared magnitudes of the model's parameters. Mathematically, the L2 regularization term for a model with parameters θ is given by:\n",
        "L2 regularization term = λ * Σθ^2\n",
        "Again, λ is the regularization strength hyperparameter.\n",
        "Effect on the model:\n",
        "L2 regularization discourages the model's parameters from becoming too large, effectively limiting their influence on the predictions.\n",
        "Unlike L1 regularization, L2 regularization rarely results in exactly zero parameters. Instead, it tends to shrink all parameter values towards zero.\n",
        "L2 regularization can help in cases where you want to prevent any single feature from dominating the model's predictions, while still maintaining most features' contributions.\n",
        "Differences between L1 and L2 regularization:\n",
        "Penalty Calculation: L1 regularization uses the absolute values of the parameters, while L2 regularization uses the squared values. This leads to differences in the resulting regularization terms.\n",
        "\n",
        "Sparsity vs. Shrinkage: L1 regularization encourages sparsity by driving some parameters to exactly zero, while L2 regularization encourages parameter shrinkage towards zero without necessarily making them exactly zero.\n",
        "\n",
        "Feature Selection: L1 regularization can automatically perform feature selection by effectively excluding certain features from the model. L2 regularization tends to keep all features but reduces their influence.\n",
        "\n",
        "Effect on Complexity: L1 regularization generally results in a simpler model with fewer nonzero parameters. L2 regularization tends to create smoother and more balanced models.\n",
        "\n",
        "In summary, both L1 and L2 regularization techniques are effective in preventing overfitting by controlling the complexity of the model. The choice between them depends on the problem's characteristics, the desired trade-off between feature selection and parameter shrinkage, and the insights you have about the data and features."
      ],
      "metadata": {
        "id": "rGD4PuEP-2Od"
      }
    },
    {
      "cell_type": "markdown",
      "source": [
        "Q4. Discuss the role of regularization in preventing overfitting and improving the generalization of deep learning models"
      ],
      "metadata": {
        "id": "33--ZyUQ-7b9"
      }
    },
    {
      "cell_type": "markdown",
      "source": [
        "Regularization plays a crucial role in preventing overfitting and improving the generalization of deep learning models. Deep neural networks are highly flexible and capable of fitting complex relationships in the training data, but this very flexibility can make them prone to overfitting, where the model memorizes noise in the training data rather than learning meaningful patterns. Regularization techniques help mitigate this issue by introducing constraints on the model's parameters and learning process.\n",
        "Here's how regularization contributes to preventing overfitting and enhancing generalization in deep learning models:\n",
        "Parameter Control: Regularization methods add penalty terms to the loss function based on the model's parameters. This discourages the parameters from taking very large values, effectively limiting the complexity of the model. Overly complex models are more likely to overfit, as they can fit noise and fluctuations in the training data.\n",
        "\n",
        "Noise Reduction: Neural networks can capture noise in the training data due to their high capacity to learn intricate details. Regularization techniques reduce the model's sensitivity to noise by dampening the impact of small fluctuations in the training data.\n",
        "\n",
        "Feature Selection: Some regularization techniques, like L1 regularization, can drive certain model parameters to exactly zero. This leads to automatic feature selection, where less relevant features are effectively ignored by the model. Ignoring irrelevant features helps the model focus on the most important patterns in the data.\n",
        "\n",
        "Generalization to Unseen Data: By controlling the model's complexity and discouraging overfitting, regularization techniques ensure that the model's learned representations are more likely to generalize to new, unseen data. A model that generalizes well is better equipped to make accurate predictions on real-world examples.\n",
        "\n",
        "Robustness to Limited Data: In cases where you have limited training data, regularization can be especially beneficial. It helps the model avoid fitting the noise present in small datasets, leading to a more reliable performance on unseen data.\n",
        "\n",
        "Consistency Across Batches: Techniques like dropout and batch normalization, considered forms of regularization, introduce stochasticity during training. This prevents the model from becoming too reliant on specific neurons or activations, leading to a more consistent and robust behavior across different batches of data.\n",
        "\n",
        "Stable Learning: Regularization methods often lead to smoother loss landscapes, which can help the optimization process during training. This stability aids the model in converging to better solutions without getting stuck in local minima.\n",
        "\n",
        "Interpretable Models: Regularization, particularly techniques like L1 regularization, can lead to sparser and more interpretable models by promoting the selection of important features. This can help in understanding the model's decision-making process.\n",
        "\n",
        "In summary, regularization acts as a safeguard against overfitting by constraining the model's complexity and encouraging the learning of more generalized patterns in the data. By preventing the model from fitting noise and irrelevant details, regularization enhances the model's ability to make accurate predictions on new, unseen data, making it an indispensable tool in improving the generalization of deep learning models."
      ],
      "metadata": {
        "id": "5PnC2I4s-9wT"
      }
    },
    {
      "cell_type": "markdown",
      "source": [
        "Q5. Explain Dropout Regularization and how it works to reduce overfitting. Discuss the impact on model training and inference"
      ],
      "metadata": {
        "id": "LvSBRPHn_A6b"
      }
    },
    {
      "cell_type": "markdown",
      "source": [
        "Dropout regularization is a technique used to reduce overfitting in neural networks by randomly deactivating (dropping out) a fraction of neurons during each training iteration. The idea behind dropout is to prevent specific neurons from relying too heavily on others and encourage the network to learn more robust and generalized features. Dropout was introduced by Srivastava et al. in their 2014 paper \"Dropout: A Simple Way to Prevent Neural Networks from Overfitting.\"\n",
        "Here's how dropout regularization works and its impact on model training and inference:\n",
        "Dropout During Training:\n",
        "Random Deactivation: During each training iteration, dropout randomly deactivates a fraction (dropout rate) of neurons in a layer. This means that these deactivated neurons do not contribute to forward or backward propagation during that iteration.\n",
        "\n",
        "Stochasticity: The random deactivation of neurons introduces stochasticity or randomness into the training process. This helps in preventing neurons from co-adapting too much to specific features and encourages the network to learn more robust representations.\n",
        "\n",
        "Scaling During Inference: During inference (when making predictions), the dropout is usually turned off, and all neurons are active. However, to ensure that the expected output remains consistent between training and inference, the weights of the active neurons are scaled by the inverse of the dropout rate. This scaling ensures that the expected output remains the same, accounting for the dropout during training.\n",
        "\n",
        "Impact on Model Training:\n",
        "Regularization: Dropout acts as a form of regularization by preventing neurons from becoming overly specialized to specific patterns in the training data. This encourages the network to learn more generalized features and reduces the risk of overfitting.\n",
        "\n",
        "Ensemble Effect: Dropout can be interpreted as training multiple sub-networks with different subsets of neurons activated for each iteration. This ensemble effect helps the model to learn diverse representations and improve generalization.\n",
        "\n",
        "Reduced Co-Adaptation: The random deactivation of neurons disrupts co-adaptation, where certain neurons rely heavily on others. This reduces the chances of one neuron compensating for another's weaknesses and leads to more independent learning.\n",
        "\n",
        "Impact on Model Inference:\n",
        "During inference, when the model is making predictions:\n",
        "\n",
        "No Dropout: All neurons are active, and dropout is not applied. This ensures that the model uses all its learned features to make accurate predictions.\n",
        "\n",
        "Scaling: The weights of the active neurons are scaled by the inverse of the dropout rate to maintain consistent expected outputs between training and inference.\n",
        "\n",
        "Choosing Dropout Rate:\n",
        "The dropout rate, which determines the fraction of neurons to be dropped out, is a hyperparameter that needs to be set based on experimentation. Typically, dropout rates between 0.2 and 0.5 are common, but the optimal rate can vary depending on the architecture and dataset.\n",
        "In summary, dropout regularization is a powerful technique that helps prevent overfitting by introducing randomness during training. By forcing neurons to work independently and encouraging the learning of more robust features, dropout enhances the model's generalization capabilities. During inference, the scaling of weights ensures consistent behavior between training and prediction phases."
      ],
      "metadata": {
        "id": "XgN8vWH4_Bnt"
      }
    },
    {
      "cell_type": "markdown",
      "source": [
        "Q6. Describe the concept of Early Stopping as form of Regularization. How does it prevent overfitting during training process"
      ],
      "metadata": {
        "id": "YkRMvaGH_GYT"
      }
    },
    {
      "cell_type": "markdown",
      "source": [
        "Early stopping is a regularization technique used in machine learning to prevent overfitting during the training process of a model. Overfitting occurs when a model learns to perform exceptionally well on the training data but doesn't generalize well to new, unseen data. Early stopping helps counteract this by monitoring the model's performance on a validation dataset and stopping the training process when the model's performance on the validation dataset starts to degrade, indicating that further training might lead to overfitting.\n",
        "Here's how early stopping works as a form of regularization and how it prevents overfitting:\n",
        "Training and Validation Data: During the training process, the dataset is typically divided into two parts: the training set and the validation set. The model is trained on the training set and evaluated on the validation set.\n",
        "\n",
        "Monitoring Metrics: A performance metric, such as accuracy, loss, or any other appropriate metric, is calculated on both the training and validation sets as the training progresses. The goal is to see how well the model is performing on both sets.\n",
        "\n",
        "Early Stopping Criterion: A key aspect of early stopping is the definition of a stopping criterion. This criterion determines when the training process should be stopped. It is often based on the performance of the model on the validation set. For example, if the validation loss starts to increase consistently over a certain number of epochs, this could be a sign that the model is starting to overfit.\n",
        "\n",
        "Patience Parameter: Early stopping involves a parameter called \"patience.\" Patience determines how many consecutive epochs the model's performance can degrade on the validation set before stopping the training. If the validation performance improves or remains relatively stable for a number of epochs equal to or greater than the patience value, the training continues. However, if the validation performance degrades for more than the patience value, the training is halted.\n",
        "\n",
        "Preventing Overfitting: Early stopping acts as a form of regularization by preventing the model from being trained for too many epochs, which can lead to it fitting the noise in the training data and becoming overly specialized to that data. By stopping the training when the validation performance deteriorates, the model's ability to generalize to new data is enhanced, since it doesn't get a chance to fine-tune itself to the idiosyncrasies of the training data.\n",
        "\n",
        "In summary, early stopping as a form of regularization helps prevent overfitting by keeping the model's training process in check. It ensures that the model doesn't continue training until it perfectly fits the training data, but instead halts the training when there are signs of potential overfitting, as indicated by degraded performance on the validation set. This strikes a balance between model complexity and generalization, leading to better performance on unseen data"
      ],
      "metadata": {
        "id": "ltMvxGBp_Nb7"
      }
    },
    {
      "cell_type": "markdown",
      "source": [
        "Q7. Explain the concept of BatchNormalization and its role as a form of regularization. How does Batch Normalization prevent overfitting?"
      ],
      "metadata": {
        "id": "gReZoWOn_Rsc"
      }
    },
    {
      "cell_type": "markdown",
      "source": [
        "Batch Normalization is a technique used in neural networks to improve training stability and convergence speed by normalizing the activations within each layer of a neural network. It also has a regularizing effect that helps prevent overfitting. Let's break down the concept of Batch Normalization and how it serves as a form of regularization:\n",
        "Concept of Batch Normalization:\n",
        "In deep neural networks, during training, the distribution of activations within each layer can change as the network parameters get updated. This phenomenon is known as the \"internal covariate shift,\" and it can slow down training and make convergence more challenging. Batch Normalization aims to address this by normalizing the activations of each layer across a batch of training examples.\n",
        "The steps involved in Batch Normalization are as follows:\n",
        "\n",
        "For each mini-batch of training examples, calculate the mean and variance of the activations for each feature across the batch.\n",
        "Normalize the activations by subtracting the mean and dividing by the standard deviation.\n",
        "Scale and shift the normalized activations using learnable parameters (gamma and beta) to allow the model to recover any useful representation that might have been lost during normalization.\n",
        "Finally, the scaled and shifted activations are fed into the next layer of the network.\n",
        "Role as a Form of Regularization:\n",
        "Batch Normalization has a regularizing effect on the model, which helps prevent overfitting in the following ways:\n",
        "\n",
        "Smoothing Effect: By normalizing the activations within each batch, Batch Normalization reduces the impact of outliers and extreme activations. This helps prevent the model from overly adapting to noise in the data, which can lead to overfitting.\n",
        "\n",
        "Reduced Internal Covariate Shift: The normalization of activations helps stabilize the training process by reducing the internal covariate shift. This can lead to faster convergence and more stable training, which in turn can help prevent overfitting. When the network's weights are updated more gradually and consistently, the risk of overfitting is decreased.\n",
        "\n",
        "Regularization Strength: Batch Normalization introduces noise to the activations due to the mini-batch statistics used for normalization. This noise acts as a mild form of regularization by discouraging the model from becoming overly sensitive to specific instances in the training data.\n",
        "\n",
        "Higher Learning Rates: The normalization of activations allows for higher learning rates to be used during training without causing divergence. This enables the model to explore the parameter space more effectively, potentially leading to a better generalization of the model.\n",
        "\n",
        "In summary, Batch Normalization is a technique that improves training stability and convergence speed by normalizing activations within each layer of a neural network. Its regularizing effect helps prevent overfitting by smoothing the activations, reducing internal covariate shift, and introducing noise to the training process. This makes the training process more consistent, allows for higher learning rates, and encourages the model to generalize better to unseen data.|"
      ],
      "metadata": {
        "id": "fvxxWb6T_U9D"
      }
    },
    {
      "cell_type": "markdown",
      "source": [
        "Q8. Implement Dropout Regularization in deep learning model framework of your choice. Evaluate its impact on model performance and compare it with a model without dropout"
      ],
      "metadata": {
        "id": "mzMYqqb8_YFz"
      }
    },
    {
      "cell_type": "code",
      "source": [
        "# Create a dummy dataset\n",
        "from sklearn.datasets import make_classification\n",
        "X, Y = make_classification(n_samples=6000, n_classes=3, n_features=30, n_informative=15, random_state=42)"
      ],
      "metadata": {
        "id": "0Zg_9mzc_ahi"
      },
      "execution_count": 1,
      "outputs": []
    },
    {
      "cell_type": "code",
      "source": [
        "X"
      ],
      "metadata": {
        "colab": {
          "base_uri": "https://localhost:8080/"
        },
        "id": "q4t75pQH_cPr",
        "outputId": "07eb6af8-242a-48f3-844e-68ebd235a457"
      },
      "execution_count": 3,
      "outputs": [
        {
          "output_type": "execute_result",
          "data": {
            "text/plain": [
              "array([[-1.44143883,  0.99759432,  0.64881894, ...,  0.26075709,\n",
              "        -2.4917032 , -0.52457062],\n",
              "       [-5.14274116,  2.44379509,  0.59681357, ..., -0.67343933,\n",
              "         2.13880873, -1.34828698],\n",
              "       [ 0.65562953, -1.84153079,  0.80405201, ..., -1.45272723,\n",
              "        -3.46992694,  1.12992925],\n",
              "       ...,\n",
              "       [ 4.12653393, -4.34701772, -0.2590811 , ..., -0.28741425,\n",
              "         7.28922344, -1.18100918],\n",
              "       [-0.71009863,  3.94052935,  1.83897001, ...,  3.29290311,\n",
              "         6.91505595,  0.80226731],\n",
              "       [ 1.24909105,  3.92319056, -0.05696048, ..., -2.61261051,\n",
              "        -3.21501144, -0.04845804]])"
            ]
          },
          "metadata": {},
          "execution_count": 3
        }
      ]
    },
    {
      "cell_type": "code",
      "source": [
        "Y"
      ],
      "metadata": {
        "colab": {
          "base_uri": "https://localhost:8080/"
        },
        "id": "USnZAVdv_d9y",
        "outputId": "f04121a3-8c1e-4785-96c8-1a6f5a5c54ea"
      },
      "execution_count": 4,
      "outputs": [
        {
          "output_type": "execute_result",
          "data": {
            "text/plain": [
              "array([2, 2, 0, ..., 1, 0, 2])"
            ]
          },
          "metadata": {},
          "execution_count": 4
        }
      ]
    },
    {
      "cell_type": "code",
      "source": [
        "# dividing the data into traning test split"
      ],
      "metadata": {
        "id": "KOxxzGVk_ivC"
      },
      "execution_count": 5,
      "outputs": []
    },
    {
      "cell_type": "code",
      "source": [
        "from sklearn.model_selection import train_test_split\n",
        "xtrain, xtest, ytrain, ytest = train_test_split(X,Y, test_size=0.2, random_state=42)"
      ],
      "metadata": {
        "id": "0mFpU6vq_nLC"
      },
      "execution_count": 6,
      "outputs": []
    },
    {
      "cell_type": "code",
      "source": [
        "xtrain.shape"
      ],
      "metadata": {
        "colab": {
          "base_uri": "https://localhost:8080/"
        },
        "id": "y6jjihEP_pMD",
        "outputId": "1cf58542-f549-4e4c-f1e9-e537ef4a6344"
      },
      "execution_count": 7,
      "outputs": [
        {
          "output_type": "execute_result",
          "data": {
            "text/plain": [
              "(4800, 30)"
            ]
          },
          "metadata": {},
          "execution_count": 7
        }
      ]
    },
    {
      "cell_type": "code",
      "source": [
        "xtest.shape"
      ],
      "metadata": {
        "colab": {
          "base_uri": "https://localhost:8080/"
        },
        "id": "S8Cc4T1J_qvy",
        "outputId": "93214dc7-7392-47cd-9626-0d872fc80c76"
      },
      "execution_count": 8,
      "outputs": [
        {
          "output_type": "execute_result",
          "data": {
            "text/plain": [
              "(1200, 30)"
            ]
          },
          "metadata": {},
          "execution_count": 8
        }
      ]
    },
    {
      "cell_type": "code",
      "source": [
        "from sklearn.preprocessing import StandardScaler\n",
        "scaler =  StandardScaler()\n",
        "xtrain = scaler.fit_transform(xtrain)\n",
        "xtest = scaler.transform(xtest)"
      ],
      "metadata": {
        "id": "cvl3X2e7_tIy"
      },
      "execution_count": 9,
      "outputs": []
    },
    {
      "cell_type": "code",
      "source": [
        "from keras.utils import to_categorical\n",
        "ytrain_cat = to_categorical(ytrain)\n",
        "ytest_cat = to_categorical(ytest)"
      ],
      "metadata": {
        "id": "siFqWu4L_upa"
      },
      "execution_count": 10,
      "outputs": []
    },
    {
      "cell_type": "code",
      "source": [
        "ytrain_cat"
      ],
      "metadata": {
        "colab": {
          "base_uri": "https://localhost:8080/"
        },
        "id": "5v5sGeRE_v8S",
        "outputId": "cf42a5ba-f95a-43d9-8182-255a93b4c2ed"
      },
      "execution_count": 11,
      "outputs": [
        {
          "output_type": "execute_result",
          "data": {
            "text/plain": [
              "array([[0., 1., 0.],\n",
              "       [0., 0., 1.],\n",
              "       [1., 0., 0.],\n",
              "       ...,\n",
              "       [0., 0., 1.],\n",
              "       [1., 0., 0.],\n",
              "       [0., 0., 1.]], dtype=float32)"
            ]
          },
          "metadata": {},
          "execution_count": 11
        }
      ]
    },
    {
      "cell_type": "code",
      "source": [
        "ytest_cat"
      ],
      "metadata": {
        "colab": {
          "base_uri": "https://localhost:8080/"
        },
        "id": "O_rdKkow_xMC",
        "outputId": "dbd8cbb8-fe2c-47c7-fae7-b391485137ac"
      },
      "execution_count": 12,
      "outputs": [
        {
          "output_type": "execute_result",
          "data": {
            "text/plain": [
              "array([[1., 0., 0.],\n",
              "       [0., 0., 1.],\n",
              "       [0., 0., 1.],\n",
              "       ...,\n",
              "       [0., 0., 1.],\n",
              "       [1., 0., 0.],\n",
              "       [1., 0., 0.]], dtype=float32)"
            ]
          },
          "metadata": {},
          "execution_count": 12
        }
      ]
    },
    {
      "cell_type": "code",
      "source": [
        "from keras.models import Sequential\n",
        "from keras.layers import Dense, Dropout"
      ],
      "metadata": {
        "id": "uRDcipWa_y36"
      },
      "execution_count": 13,
      "outputs": []
    },
    {
      "cell_type": "code",
      "source": [
        "# Initialize the model\n",
        "model1 = Sequential()\n",
        "\n",
        "# Dense Layer 1\n",
        "model1.add(Dense(64, activation='relu',input_dim = xtrain.shape[1]))\n",
        "\n",
        "# Dense Layer 2\n",
        "model1.add(Dense(32,activation='relu'))\n",
        "\n",
        "# Output Layer\n",
        "model1.add(Dense(3,activation='softmax'))"
      ],
      "metadata": {
        "id": "8NdKUudF_0zC"
      },
      "execution_count": 14,
      "outputs": []
    },
    {
      "cell_type": "code",
      "source": [
        "model1.summary()"
      ],
      "metadata": {
        "colab": {
          "base_uri": "https://localhost:8080/"
        },
        "id": "3CrM9PAL_2qi",
        "outputId": "f5fb3931-8eef-450d-b1b1-0bfcfc442342"
      },
      "execution_count": 15,
      "outputs": [
        {
          "output_type": "stream",
          "name": "stdout",
          "text": [
            "Model: \"sequential\"\n",
            "_________________________________________________________________\n",
            " Layer (type)                Output Shape              Param #   \n",
            "=================================================================\n",
            " dense (Dense)               (None, 64)                1984      \n",
            "                                                                 \n",
            " dense_1 (Dense)             (None, 32)                2080      \n",
            "                                                                 \n",
            " dense_2 (Dense)             (None, 3)                 99        \n",
            "                                                                 \n",
            "=================================================================\n",
            "Total params: 4163 (16.26 KB)\n",
            "Trainable params: 4163 (16.26 KB)\n",
            "Non-trainable params: 0 (0.00 Byte)\n",
            "_________________________________________________________________\n"
          ]
        }
      ]
    },
    {
      "cell_type": "code",
      "source": [
        "model1.compile(optimizer='adam',loss='categorical_crossentropy',metrics=['accuracy'])"
      ],
      "metadata": {
        "id": "GGov8OXO_4Ha"
      },
      "execution_count": 16,
      "outputs": []
    },
    {
      "cell_type": "code",
      "source": [
        "\n",
        "hist1 = model1.fit(xtrain, ytrain_cat, epochs=100, validation_split=0.2)"
      ],
      "metadata": {
        "colab": {
          "base_uri": "https://localhost:8080/"
        },
        "id": "zt5sU5GO_52a",
        "outputId": "16203923-9231-4fcd-a9ff-083a931822bc"
      },
      "execution_count": 17,
      "outputs": [
        {
          "output_type": "stream",
          "name": "stdout",
          "text": [
            "Epoch 1/100\n",
            "120/120 [==============================] - 2s 7ms/step - loss: 0.8891 - accuracy: 0.5898 - val_loss: 0.6957 - val_accuracy: 0.7073\n",
            "Epoch 2/100\n",
            "120/120 [==============================] - 1s 6ms/step - loss: 0.6177 - accuracy: 0.7591 - val_loss: 0.5319 - val_accuracy: 0.7937\n",
            "Epoch 3/100\n",
            "120/120 [==============================] - 0s 4ms/step - loss: 0.4941 - accuracy: 0.8023 - val_loss: 0.4542 - val_accuracy: 0.8208\n",
            "Epoch 4/100\n",
            "120/120 [==============================] - 1s 4ms/step - loss: 0.4103 - accuracy: 0.8409 - val_loss: 0.4000 - val_accuracy: 0.8479\n",
            "Epoch 5/100\n",
            "120/120 [==============================] - 0s 2ms/step - loss: 0.3507 - accuracy: 0.8729 - val_loss: 0.3563 - val_accuracy: 0.8625\n",
            "Epoch 6/100\n",
            "120/120 [==============================] - 0s 2ms/step - loss: 0.3040 - accuracy: 0.8917 - val_loss: 0.3317 - val_accuracy: 0.8708\n",
            "Epoch 7/100\n",
            "120/120 [==============================] - 0s 2ms/step - loss: 0.2681 - accuracy: 0.9062 - val_loss: 0.3095 - val_accuracy: 0.8833\n",
            "Epoch 8/100\n",
            "120/120 [==============================] - 0s 2ms/step - loss: 0.2408 - accuracy: 0.9180 - val_loss: 0.2982 - val_accuracy: 0.8854\n",
            "Epoch 9/100\n",
            "120/120 [==============================] - 0s 2ms/step - loss: 0.2168 - accuracy: 0.9349 - val_loss: 0.2916 - val_accuracy: 0.8844\n",
            "Epoch 10/100\n",
            "120/120 [==============================] - 0s 2ms/step - loss: 0.2009 - accuracy: 0.9365 - val_loss: 0.2786 - val_accuracy: 0.8938\n",
            "Epoch 11/100\n",
            "120/120 [==============================] - 0s 3ms/step - loss: 0.1816 - accuracy: 0.9477 - val_loss: 0.2710 - val_accuracy: 0.8948\n",
            "Epoch 12/100\n",
            "120/120 [==============================] - 0s 3ms/step - loss: 0.1690 - accuracy: 0.9497 - val_loss: 0.2735 - val_accuracy: 0.8917\n",
            "Epoch 13/100\n",
            "120/120 [==============================] - 0s 4ms/step - loss: 0.1570 - accuracy: 0.9557 - val_loss: 0.2703 - val_accuracy: 0.8938\n",
            "Epoch 14/100\n",
            "120/120 [==============================] - 0s 3ms/step - loss: 0.1434 - accuracy: 0.9617 - val_loss: 0.2737 - val_accuracy: 0.8917\n",
            "Epoch 15/100\n",
            "120/120 [==============================] - 0s 3ms/step - loss: 0.1339 - accuracy: 0.9667 - val_loss: 0.2775 - val_accuracy: 0.8927\n",
            "Epoch 16/100\n",
            "120/120 [==============================] - 0s 3ms/step - loss: 0.1241 - accuracy: 0.9695 - val_loss: 0.2651 - val_accuracy: 0.9031\n",
            "Epoch 17/100\n",
            "120/120 [==============================] - 0s 3ms/step - loss: 0.1158 - accuracy: 0.9703 - val_loss: 0.2639 - val_accuracy: 0.8969\n",
            "Epoch 18/100\n",
            "120/120 [==============================] - 0s 3ms/step - loss: 0.1105 - accuracy: 0.9724 - val_loss: 0.2707 - val_accuracy: 0.8979\n",
            "Epoch 19/100\n",
            "120/120 [==============================] - 0s 2ms/step - loss: 0.1026 - accuracy: 0.9763 - val_loss: 0.2713 - val_accuracy: 0.8979\n",
            "Epoch 20/100\n",
            "120/120 [==============================] - 0s 2ms/step - loss: 0.0953 - accuracy: 0.9794 - val_loss: 0.2784 - val_accuracy: 0.8927\n",
            "Epoch 21/100\n",
            "120/120 [==============================] - 0s 2ms/step - loss: 0.0911 - accuracy: 0.9799 - val_loss: 0.2945 - val_accuracy: 0.8990\n",
            "Epoch 22/100\n",
            "120/120 [==============================] - 0s 2ms/step - loss: 0.0852 - accuracy: 0.9826 - val_loss: 0.3025 - val_accuracy: 0.9010\n",
            "Epoch 23/100\n",
            "120/120 [==============================] - 0s 2ms/step - loss: 0.0778 - accuracy: 0.9867 - val_loss: 0.2900 - val_accuracy: 0.9042\n",
            "Epoch 24/100\n",
            "120/120 [==============================] - 0s 2ms/step - loss: 0.0707 - accuracy: 0.9859 - val_loss: 0.3095 - val_accuracy: 0.8969\n",
            "Epoch 25/100\n",
            "120/120 [==============================] - 0s 3ms/step - loss: 0.0683 - accuracy: 0.9865 - val_loss: 0.2938 - val_accuracy: 0.9010\n",
            "Epoch 26/100\n",
            "120/120 [==============================] - 0s 3ms/step - loss: 0.0633 - accuracy: 0.9885 - val_loss: 0.3004 - val_accuracy: 0.9031\n",
            "Epoch 27/100\n",
            "120/120 [==============================] - 0s 2ms/step - loss: 0.0593 - accuracy: 0.9898 - val_loss: 0.2989 - val_accuracy: 0.9052\n",
            "Epoch 28/100\n",
            "120/120 [==============================] - 0s 3ms/step - loss: 0.0553 - accuracy: 0.9911 - val_loss: 0.3198 - val_accuracy: 0.8927\n",
            "Epoch 29/100\n",
            "120/120 [==============================] - 0s 2ms/step - loss: 0.0508 - accuracy: 0.9924 - val_loss: 0.3187 - val_accuracy: 0.8990\n",
            "Epoch 30/100\n",
            "120/120 [==============================] - 0s 2ms/step - loss: 0.0466 - accuracy: 0.9932 - val_loss: 0.3262 - val_accuracy: 0.8969\n",
            "Epoch 31/100\n",
            "120/120 [==============================] - 0s 3ms/step - loss: 0.0432 - accuracy: 0.9945 - val_loss: 0.3454 - val_accuracy: 0.8979\n",
            "Epoch 32/100\n",
            "120/120 [==============================] - 0s 2ms/step - loss: 0.0399 - accuracy: 0.9951 - val_loss: 0.3432 - val_accuracy: 0.8938\n",
            "Epoch 33/100\n",
            "120/120 [==============================] - 0s 2ms/step - loss: 0.0381 - accuracy: 0.9948 - val_loss: 0.3412 - val_accuracy: 0.9000\n",
            "Epoch 34/100\n",
            "120/120 [==============================] - 0s 2ms/step - loss: 0.0329 - accuracy: 0.9956 - val_loss: 0.3625 - val_accuracy: 0.8927\n",
            "Epoch 35/100\n",
            "120/120 [==============================] - 0s 2ms/step - loss: 0.0320 - accuracy: 0.9958 - val_loss: 0.3520 - val_accuracy: 0.9000\n",
            "Epoch 36/100\n",
            "120/120 [==============================] - 0s 2ms/step - loss: 0.0299 - accuracy: 0.9969 - val_loss: 0.3541 - val_accuracy: 0.8969\n",
            "Epoch 37/100\n",
            "120/120 [==============================] - 0s 3ms/step - loss: 0.0269 - accuracy: 0.9956 - val_loss: 0.3832 - val_accuracy: 0.8917\n",
            "Epoch 38/100\n",
            "120/120 [==============================] - 1s 5ms/step - loss: 0.0244 - accuracy: 0.9977 - val_loss: 0.3777 - val_accuracy: 0.8990\n",
            "Epoch 39/100\n",
            "120/120 [==============================] - 0s 3ms/step - loss: 0.0226 - accuracy: 0.9977 - val_loss: 0.3864 - val_accuracy: 0.8927\n",
            "Epoch 40/100\n",
            "120/120 [==============================] - 1s 5ms/step - loss: 0.0209 - accuracy: 0.9979 - val_loss: 0.4025 - val_accuracy: 0.8927\n",
            "Epoch 41/100\n",
            "120/120 [==============================] - 1s 8ms/step - loss: 0.0179 - accuracy: 0.9987 - val_loss: 0.4056 - val_accuracy: 0.8979\n",
            "Epoch 42/100\n",
            "120/120 [==============================] - 1s 9ms/step - loss: 0.0160 - accuracy: 0.9990 - val_loss: 0.4051 - val_accuracy: 0.8969\n",
            "Epoch 43/100\n",
            "120/120 [==============================] - 1s 7ms/step - loss: 0.0154 - accuracy: 0.9992 - val_loss: 0.4020 - val_accuracy: 0.8990\n",
            "Epoch 44/100\n",
            "120/120 [==============================] - 1s 10ms/step - loss: 0.0131 - accuracy: 0.9995 - val_loss: 0.4074 - val_accuracy: 0.8969\n",
            "Epoch 45/100\n",
            "120/120 [==============================] - 1s 5ms/step - loss: 0.0117 - accuracy: 0.9995 - val_loss: 0.4104 - val_accuracy: 0.8969\n",
            "Epoch 46/100\n",
            "120/120 [==============================] - 1s 6ms/step - loss: 0.0107 - accuracy: 0.9995 - val_loss: 0.4302 - val_accuracy: 0.8990\n",
            "Epoch 47/100\n",
            "120/120 [==============================] - 1s 6ms/step - loss: 0.0099 - accuracy: 0.9997 - val_loss: 0.4338 - val_accuracy: 0.9010\n",
            "Epoch 48/100\n",
            "120/120 [==============================] - 1s 5ms/step - loss: 0.0087 - accuracy: 1.0000 - val_loss: 0.4288 - val_accuracy: 0.9000\n",
            "Epoch 49/100\n",
            "120/120 [==============================] - 0s 4ms/step - loss: 0.0076 - accuracy: 1.0000 - val_loss: 0.4383 - val_accuracy: 0.9010\n",
            "Epoch 50/100\n",
            "120/120 [==============================] - 1s 4ms/step - loss: 0.0072 - accuracy: 1.0000 - val_loss: 0.4531 - val_accuracy: 0.9000\n",
            "Epoch 51/100\n",
            "120/120 [==============================] - 0s 3ms/step - loss: 0.0063 - accuracy: 1.0000 - val_loss: 0.4569 - val_accuracy: 0.9000\n",
            "Epoch 52/100\n",
            "120/120 [==============================] - 1s 5ms/step - loss: 0.0058 - accuracy: 1.0000 - val_loss: 0.4499 - val_accuracy: 0.9000\n",
            "Epoch 53/100\n",
            "120/120 [==============================] - 1s 5ms/step - loss: 0.0054 - accuracy: 1.0000 - val_loss: 0.4738 - val_accuracy: 0.8948\n",
            "Epoch 54/100\n",
            "120/120 [==============================] - 0s 4ms/step - loss: 0.0050 - accuracy: 1.0000 - val_loss: 0.4701 - val_accuracy: 0.8979\n",
            "Epoch 55/100\n",
            "120/120 [==============================] - 1s 5ms/step - loss: 0.0046 - accuracy: 1.0000 - val_loss: 0.4835 - val_accuracy: 0.8990\n",
            "Epoch 56/100\n",
            "120/120 [==============================] - 1s 4ms/step - loss: 0.0047 - accuracy: 1.0000 - val_loss: 0.4770 - val_accuracy: 0.9010\n",
            "Epoch 57/100\n",
            "120/120 [==============================] - 1s 6ms/step - loss: 0.0041 - accuracy: 1.0000 - val_loss: 0.4820 - val_accuracy: 0.9010\n",
            "Epoch 58/100\n",
            "120/120 [==============================] - 0s 3ms/step - loss: 0.0038 - accuracy: 1.0000 - val_loss: 0.4905 - val_accuracy: 0.9000\n",
            "Epoch 59/100\n",
            "120/120 [==============================] - 0s 4ms/step - loss: 0.0033 - accuracy: 1.0000 - val_loss: 0.5019 - val_accuracy: 0.8969\n",
            "Epoch 60/100\n",
            "120/120 [==============================] - 1s 4ms/step - loss: 0.0029 - accuracy: 1.0000 - val_loss: 0.5162 - val_accuracy: 0.8958\n",
            "Epoch 61/100\n",
            "120/120 [==============================] - 1s 5ms/step - loss: 0.0028 - accuracy: 1.0000 - val_loss: 0.5192 - val_accuracy: 0.8948\n",
            "Epoch 62/100\n",
            "120/120 [==============================] - 1s 5ms/step - loss: 0.0026 - accuracy: 1.0000 - val_loss: 0.5165 - val_accuracy: 0.8979\n",
            "Epoch 63/100\n",
            "120/120 [==============================] - 1s 5ms/step - loss: 0.0024 - accuracy: 1.0000 - val_loss: 0.5217 - val_accuracy: 0.8979\n",
            "Epoch 64/100\n",
            "120/120 [==============================] - 1s 6ms/step - loss: 0.0022 - accuracy: 1.0000 - val_loss: 0.5299 - val_accuracy: 0.9031\n",
            "Epoch 65/100\n",
            "120/120 [==============================] - 1s 9ms/step - loss: 0.0020 - accuracy: 1.0000 - val_loss: 0.5425 - val_accuracy: 0.8958\n",
            "Epoch 66/100\n",
            "120/120 [==============================] - 1s 9ms/step - loss: 0.0018 - accuracy: 1.0000 - val_loss: 0.5472 - val_accuracy: 0.8969\n",
            "Epoch 67/100\n",
            "120/120 [==============================] - 1s 9ms/step - loss: 0.0017 - accuracy: 1.0000 - val_loss: 0.5537 - val_accuracy: 0.8958\n",
            "Epoch 68/100\n",
            "120/120 [==============================] - 0s 4ms/step - loss: 0.0016 - accuracy: 1.0000 - val_loss: 0.5475 - val_accuracy: 0.8979\n",
            "Epoch 69/100\n",
            "120/120 [==============================] - 1s 5ms/step - loss: 0.0014 - accuracy: 1.0000 - val_loss: 0.5649 - val_accuracy: 0.8927\n",
            "Epoch 70/100\n",
            "120/120 [==============================] - 1s 5ms/step - loss: 0.0014 - accuracy: 1.0000 - val_loss: 0.5675 - val_accuracy: 0.8958\n",
            "Epoch 71/100\n",
            "120/120 [==============================] - 1s 5ms/step - loss: 0.0013 - accuracy: 1.0000 - val_loss: 0.5793 - val_accuracy: 0.8958\n",
            "Epoch 72/100\n",
            "120/120 [==============================] - 1s 4ms/step - loss: 0.0012 - accuracy: 1.0000 - val_loss: 0.5764 - val_accuracy: 0.8990\n",
            "Epoch 73/100\n",
            "120/120 [==============================] - 0s 3ms/step - loss: 0.0011 - accuracy: 1.0000 - val_loss: 0.5876 - val_accuracy: 0.8927\n",
            "Epoch 74/100\n",
            "120/120 [==============================] - 1s 5ms/step - loss: 9.7281e-04 - accuracy: 1.0000 - val_loss: 0.5892 - val_accuracy: 0.8948\n",
            "Epoch 75/100\n",
            "120/120 [==============================] - 0s 4ms/step - loss: 9.0321e-04 - accuracy: 1.0000 - val_loss: 0.5941 - val_accuracy: 0.8969\n",
            "Epoch 76/100\n",
            "120/120 [==============================] - 0s 4ms/step - loss: 8.2291e-04 - accuracy: 1.0000 - val_loss: 0.6039 - val_accuracy: 0.8958\n",
            "Epoch 77/100\n",
            "120/120 [==============================] - 1s 4ms/step - loss: 7.7864e-04 - accuracy: 1.0000 - val_loss: 0.6008 - val_accuracy: 0.8969\n",
            "Epoch 78/100\n",
            "120/120 [==============================] - 1s 4ms/step - loss: 7.4140e-04 - accuracy: 1.0000 - val_loss: 0.6110 - val_accuracy: 0.8958\n",
            "Epoch 79/100\n",
            "120/120 [==============================] - 0s 4ms/step - loss: 6.6185e-04 - accuracy: 1.0000 - val_loss: 0.6165 - val_accuracy: 0.8969\n",
            "Epoch 80/100\n",
            "120/120 [==============================] - 1s 4ms/step - loss: 6.2474e-04 - accuracy: 1.0000 - val_loss: 0.6233 - val_accuracy: 0.8958\n",
            "Epoch 81/100\n",
            "120/120 [==============================] - 0s 3ms/step - loss: 5.9917e-04 - accuracy: 1.0000 - val_loss: 0.6254 - val_accuracy: 0.9010\n",
            "Epoch 82/100\n",
            "120/120 [==============================] - 0s 2ms/step - loss: 5.4420e-04 - accuracy: 1.0000 - val_loss: 0.6361 - val_accuracy: 0.8958\n",
            "Epoch 83/100\n",
            "120/120 [==============================] - 0s 2ms/step - loss: 5.0921e-04 - accuracy: 1.0000 - val_loss: 0.6386 - val_accuracy: 0.8969\n",
            "Epoch 84/100\n",
            "120/120 [==============================] - 0s 2ms/step - loss: 4.8442e-04 - accuracy: 1.0000 - val_loss: 0.6641 - val_accuracy: 0.8958\n",
            "Epoch 85/100\n",
            "120/120 [==============================] - 0s 2ms/step - loss: 4.7733e-04 - accuracy: 1.0000 - val_loss: 0.6472 - val_accuracy: 0.8979\n",
            "Epoch 86/100\n",
            "120/120 [==============================] - 0s 2ms/step - loss: 4.1436e-04 - accuracy: 1.0000 - val_loss: 0.6621 - val_accuracy: 0.8917\n",
            "Epoch 87/100\n",
            "120/120 [==============================] - 0s 2ms/step - loss: 3.6976e-04 - accuracy: 1.0000 - val_loss: 0.6600 - val_accuracy: 0.8958\n",
            "Epoch 88/100\n",
            "120/120 [==============================] - 0s 2ms/step - loss: 3.4061e-04 - accuracy: 1.0000 - val_loss: 0.6648 - val_accuracy: 0.8979\n",
            "Epoch 89/100\n",
            "120/120 [==============================] - 0s 3ms/step - loss: 3.2962e-04 - accuracy: 1.0000 - val_loss: 0.6766 - val_accuracy: 0.8969\n",
            "Epoch 90/100\n",
            "120/120 [==============================] - 0s 2ms/step - loss: 3.0238e-04 - accuracy: 1.0000 - val_loss: 0.6770 - val_accuracy: 0.8958\n",
            "Epoch 91/100\n",
            "120/120 [==============================] - 0s 3ms/step - loss: 2.9189e-04 - accuracy: 1.0000 - val_loss: 0.6918 - val_accuracy: 0.8958\n",
            "Epoch 92/100\n",
            "120/120 [==============================] - 0s 4ms/step - loss: 2.8199e-04 - accuracy: 1.0000 - val_loss: 0.6903 - val_accuracy: 0.8917\n",
            "Epoch 93/100\n",
            "120/120 [==============================] - 0s 3ms/step - loss: 2.4227e-04 - accuracy: 1.0000 - val_loss: 0.6884 - val_accuracy: 0.8938\n",
            "Epoch 94/100\n",
            "120/120 [==============================] - 1s 4ms/step - loss: 2.2444e-04 - accuracy: 1.0000 - val_loss: 0.7018 - val_accuracy: 0.8979\n",
            "Epoch 95/100\n",
            "120/120 [==============================] - 0s 3ms/step - loss: 2.1536e-04 - accuracy: 1.0000 - val_loss: 0.7118 - val_accuracy: 0.8969\n",
            "Epoch 96/100\n",
            "120/120 [==============================] - 0s 3ms/step - loss: 1.9599e-04 - accuracy: 1.0000 - val_loss: 0.7091 - val_accuracy: 0.8948\n",
            "Epoch 97/100\n",
            "120/120 [==============================] - 0s 4ms/step - loss: 1.8335e-04 - accuracy: 1.0000 - val_loss: 0.7156 - val_accuracy: 0.8948\n",
            "Epoch 98/100\n",
            "120/120 [==============================] - 0s 2ms/step - loss: 1.6727e-04 - accuracy: 1.0000 - val_loss: 0.7276 - val_accuracy: 0.8948\n",
            "Epoch 99/100\n",
            "120/120 [==============================] - 0s 2ms/step - loss: 1.5981e-04 - accuracy: 1.0000 - val_loss: 0.7418 - val_accuracy: 0.8948\n",
            "Epoch 100/100\n",
            "120/120 [==============================] - 0s 2ms/step - loss: 1.4953e-04 - accuracy: 1.0000 - val_loss: 0.7342 - val_accuracy: 0.8979\n"
          ]
        }
      ]
    },
    {
      "cell_type": "code",
      "source": [
        "import matplotlib.pyplot as plt\n",
        "def plot_learning_curve(hist):\n",
        "    plt.figure(figsize=(16,8))\n",
        "    plt.plot(hist.history['loss'],label='Training Loss')\n",
        "    plt.plot(hist.history['val_loss'],label='Validation Loss')\n",
        "    plt.xlabel('Epochs')\n",
        "    plt.ylabel('Categorical Crossentropy Loss')\n",
        "    plt.title('Learning Curve')\n",
        "    plt.legend()\n",
        "    plt.show()"
      ],
      "metadata": {
        "id": "0gKQmY5o_7Dq"
      },
      "execution_count": 18,
      "outputs": []
    },
    {
      "cell_type": "code",
      "source": [
        "plot_learning_curve(hist1)"
      ],
      "metadata": {
        "colab": {
          "base_uri": "https://localhost:8080/",
          "height": 718
        },
        "id": "tJVrpt-2_-z8",
        "outputId": "21de4996-cd61-4067-d1d5-3a4a52831b30"
      },
      "execution_count": 19,
      "outputs": [
        {
          "output_type": "display_data",
          "data": {
            "text/plain": [
              "<Figure size 1600x800 with 1 Axes>"
            ],
            "image/png": "[encoded data removed]"
          },
          "metadata": {}
        }
      ]
    },
    {
      "cell_type": "code",
      "source": [
        "# Training Evaluate\n",
        "tr_err1, tr_acc1 = model1.evaluate(xtrain, ytrain_cat)"
      ],
      "metadata": {
        "colab": {
          "base_uri": "https://localhost:8080/"
        },
        "id": "YacbWms5AAWq",
        "outputId": "80ea69c8-6ab7-461b-c4ab-9dae1f313846"
      },
      "execution_count": 20,
      "outputs": [
        {
          "output_type": "stream",
          "name": "stdout",
          "text": [
            "150/150 [==============================] - 0s 1ms/step - loss: 0.1469 - accuracy: 0.9796\n"
          ]
        }
      ]
    },
    {
      "cell_type": "code",
      "source": [
        "# Testing evaluation\n",
        "ts_err1, ts_acc1 = model1.evaluate(xtest, ytest_cat)"
      ],
      "metadata": {
        "colab": {
          "base_uri": "https://localhost:8080/"
        },
        "id": "pPWnG6zHACwK",
        "outputId": "ba2728fb-b656-49b1-adb0-fd617fa8b76c"
      },
      "execution_count": 21,
      "outputs": [
        {
          "output_type": "stream",
          "name": "stdout",
          "text": [
            "38/38 [==============================] - 1s 2ms/step - loss: 0.8119 - accuracy: 0.9008\n"
          ]
        }
      ]
    },
    {
      "cell_type": "code",
      "source": [
        "# Model 2 Initialize\n",
        "model2 = Sequential()\n",
        "\n",
        "# Dense Layer 1\n",
        "model2.add(Dense(64, activation='relu', input_dim=xtrain.shape[1]))\n",
        "\n",
        "# Dropout Layer 1\n",
        "model2.add(Dropout(0.3))\n",
        "\n",
        "# Dense Layer 2\n",
        "model2.add(Dense(32, activation='relu'))\n",
        "\n",
        "# Dropout Layer 2\n",
        "model2.add(Dropout(0.3))\n",
        "\n",
        "# Output Layer\n",
        "model2.add(Dense(3, activation='softmax'))"
      ],
      "metadata": {
        "id": "F-flOsjeAEaC"
      },
      "execution_count": 22,
      "outputs": []
    },
    {
      "cell_type": "code",
      "source": [
        "model2.summary()"
      ],
      "metadata": {
        "colab": {
          "base_uri": "https://localhost:8080/"
        },
        "id": "GY1qRIUKAS16",
        "outputId": "617bbd2c-6e97-45c7-a672-5dbe3fbfb6c5"
      },
      "execution_count": 23,
      "outputs": [
        {
          "output_type": "stream",
          "name": "stdout",
          "text": [
            "Model: \"sequential_1\"\n",
            "_________________________________________________________________\n",
            " Layer (type)                Output Shape              Param #   \n",
            "=================================================================\n",
            " dense_3 (Dense)             (None, 64)                1984      \n",
            "                                                                 \n",
            " dropout (Dropout)           (None, 64)                0         \n",
            "                                                                 \n",
            " dense_4 (Dense)             (None, 32)                2080      \n",
            "                                                                 \n",
            " dropout_1 (Dropout)         (None, 32)                0         \n",
            "                                                                 \n",
            " dense_5 (Dense)             (None, 3)                 99        \n",
            "                                                                 \n",
            "=================================================================\n",
            "Total params: 4163 (16.26 KB)\n",
            "Trainable params: 4163 (16.26 KB)\n",
            "Non-trainable params: 0 (0.00 Byte)\n",
            "_________________________________________________________________\n"
          ]
        }
      ]
    },
    {
      "cell_type": "code",
      "source": [
        "model2.compile(optimizer='adam', loss='binary_crossentropy', metrics=['accuracy'])"
      ],
      "metadata": {
        "id": "QCzjid15AUV6"
      },
      "execution_count": 24,
      "outputs": []
    },
    {
      "cell_type": "code",
      "source": [
        "hist2 = model2.fit(xtrain, ytrain_cat, validation_split=0.2, epochs=100)"
      ],
      "metadata": {
        "colab": {
          "base_uri": "https://localhost:8080/"
        },
        "id": "42kLqkwJAWKT",
        "outputId": "afdfa526-c305-424a-b9be-26cd1630aaff"
      },
      "execution_count": 25,
      "outputs": [
        {
          "output_type": "stream",
          "name": "stdout",
          "text": [
            "Epoch 1/100\n",
            "120/120 [==============================] - 2s 6ms/step - loss: 0.6104 - accuracy: 0.4844 - val_loss: 0.5203 - val_accuracy: 0.6469\n",
            "Epoch 2/100\n",
            "120/120 [==============================] - 0s 4ms/step - loss: 0.5144 - accuracy: 0.6148 - val_loss: 0.4322 - val_accuracy: 0.7271\n",
            "Epoch 3/100\n",
            "120/120 [==============================] - 0s 4ms/step - loss: 0.4575 - accuracy: 0.6781 - val_loss: 0.3803 - val_accuracy: 0.7604\n",
            "Epoch 4/100\n",
            "120/120 [==============================] - 0s 2ms/step - loss: 0.4152 - accuracy: 0.7081 - val_loss: 0.3423 - val_accuracy: 0.7844\n",
            "Epoch 5/100\n",
            "120/120 [==============================] - 0s 2ms/step - loss: 0.3852 - accuracy: 0.7435 - val_loss: 0.3129 - val_accuracy: 0.8115\n",
            "Epoch 6/100\n",
            "120/120 [==============================] - 0s 2ms/step - loss: 0.3634 - accuracy: 0.7604 - val_loss: 0.2871 - val_accuracy: 0.8396\n",
            "Epoch 7/100\n",
            "120/120 [==============================] - 0s 2ms/step - loss: 0.3395 - accuracy: 0.7831 - val_loss: 0.2691 - val_accuracy: 0.8479\n",
            "Epoch 8/100\n",
            "120/120 [==============================] - 0s 3ms/step - loss: 0.3157 - accuracy: 0.7956 - val_loss: 0.2481 - val_accuracy: 0.8552\n",
            "Epoch 9/100\n",
            "120/120 [==============================] - 0s 2ms/step - loss: 0.3048 - accuracy: 0.8104 - val_loss: 0.2344 - val_accuracy: 0.8635\n",
            "Epoch 10/100\n",
            "120/120 [==============================] - 0s 3ms/step - loss: 0.2837 - accuracy: 0.8289 - val_loss: 0.2210 - val_accuracy: 0.8625\n",
            "Epoch 11/100\n",
            "120/120 [==============================] - 0s 2ms/step - loss: 0.2785 - accuracy: 0.8250 - val_loss: 0.2113 - val_accuracy: 0.8740\n",
            "Epoch 12/100\n",
            "120/120 [==============================] - 0s 2ms/step - loss: 0.2638 - accuracy: 0.8404 - val_loss: 0.2035 - val_accuracy: 0.8802\n",
            "Epoch 13/100\n",
            "120/120 [==============================] - 0s 2ms/step - loss: 0.2519 - accuracy: 0.8419 - val_loss: 0.1929 - val_accuracy: 0.8875\n",
            "Epoch 14/100\n",
            "120/120 [==============================] - 0s 2ms/step - loss: 0.2416 - accuracy: 0.8562 - val_loss: 0.1855 - val_accuracy: 0.8885\n",
            "Epoch 15/100\n",
            "120/120 [==============================] - 0s 3ms/step - loss: 0.2330 - accuracy: 0.8680 - val_loss: 0.1813 - val_accuracy: 0.8948\n",
            "Epoch 16/100\n",
            "120/120 [==============================] - 0s 2ms/step - loss: 0.2218 - accuracy: 0.8737 - val_loss: 0.1741 - val_accuracy: 0.8938\n",
            "Epoch 17/100\n",
            "120/120 [==============================] - 0s 3ms/step - loss: 0.2198 - accuracy: 0.8742 - val_loss: 0.1711 - val_accuracy: 0.8938\n",
            "Epoch 18/100\n",
            "120/120 [==============================] - 0s 3ms/step - loss: 0.2145 - accuracy: 0.8753 - val_loss: 0.1683 - val_accuracy: 0.9021\n",
            "Epoch 19/100\n",
            "120/120 [==============================] - 0s 2ms/step - loss: 0.2086 - accuracy: 0.8794 - val_loss: 0.1633 - val_accuracy: 0.9115\n",
            "Epoch 20/100\n",
            "120/120 [==============================] - 0s 2ms/step - loss: 0.1986 - accuracy: 0.8859 - val_loss: 0.1572 - val_accuracy: 0.9104\n",
            "Epoch 21/100\n",
            "120/120 [==============================] - 0s 2ms/step - loss: 0.1949 - accuracy: 0.8865 - val_loss: 0.1548 - val_accuracy: 0.9125\n",
            "Epoch 22/100\n",
            "120/120 [==============================] - 1s 6ms/step - loss: 0.1937 - accuracy: 0.8906 - val_loss: 0.1547 - val_accuracy: 0.9031\n",
            "Epoch 23/100\n",
            "120/120 [==============================] - 1s 5ms/step - loss: 0.1857 - accuracy: 0.8951 - val_loss: 0.1535 - val_accuracy: 0.9104\n",
            "Epoch 24/100\n",
            "120/120 [==============================] - 1s 9ms/step - loss: 0.1758 - accuracy: 0.8995 - val_loss: 0.1548 - val_accuracy: 0.9021\n",
            "Epoch 25/100\n",
            "120/120 [==============================] - 1s 9ms/step - loss: 0.1800 - accuracy: 0.8935 - val_loss: 0.1481 - val_accuracy: 0.9146\n",
            "Epoch 26/100\n",
            "120/120 [==============================] - 1s 11ms/step - loss: 0.1889 - accuracy: 0.8935 - val_loss: 0.1506 - val_accuracy: 0.9135\n",
            "Epoch 27/100\n",
            "120/120 [==============================] - 1s 5ms/step - loss: 0.1771 - accuracy: 0.8971 - val_loss: 0.1432 - val_accuracy: 0.9198\n",
            "Epoch 28/100\n",
            "120/120 [==============================] - 1s 4ms/step - loss: 0.1761 - accuracy: 0.9023 - val_loss: 0.1453 - val_accuracy: 0.9167\n",
            "Epoch 29/100\n",
            "120/120 [==============================] - 1s 5ms/step - loss: 0.1673 - accuracy: 0.9086 - val_loss: 0.1438 - val_accuracy: 0.9229\n",
            "Epoch 30/100\n",
            "120/120 [==============================] - 1s 7ms/step - loss: 0.1599 - accuracy: 0.9099 - val_loss: 0.1470 - val_accuracy: 0.9187\n",
            "Epoch 31/100\n",
            "120/120 [==============================] - 1s 6ms/step - loss: 0.1664 - accuracy: 0.9122 - val_loss: 0.1437 - val_accuracy: 0.9208\n",
            "Epoch 32/100\n",
            "120/120 [==============================] - 1s 6ms/step - loss: 0.1597 - accuracy: 0.9096 - val_loss: 0.1442 - val_accuracy: 0.9250\n",
            "Epoch 33/100\n",
            "120/120 [==============================] - 1s 6ms/step - loss: 0.1628 - accuracy: 0.9076 - val_loss: 0.1436 - val_accuracy: 0.9198\n",
            "Epoch 34/100\n",
            "120/120 [==============================] - 1s 5ms/step - loss: 0.1603 - accuracy: 0.9112 - val_loss: 0.1414 - val_accuracy: 0.9240\n",
            "Epoch 35/100\n",
            "120/120 [==============================] - 0s 4ms/step - loss: 0.1526 - accuracy: 0.9146 - val_loss: 0.1419 - val_accuracy: 0.9240\n",
            "Epoch 36/100\n",
            "120/120 [==============================] - 1s 4ms/step - loss: 0.1532 - accuracy: 0.9232 - val_loss: 0.1449 - val_accuracy: 0.9208\n",
            "Epoch 37/100\n",
            "120/120 [==============================] - 1s 6ms/step - loss: 0.1522 - accuracy: 0.9164 - val_loss: 0.1423 - val_accuracy: 0.9281\n",
            "Epoch 38/100\n",
            "120/120 [==============================] - 0s 3ms/step - loss: 0.1536 - accuracy: 0.9115 - val_loss: 0.1435 - val_accuracy: 0.9208\n",
            "Epoch 39/100\n",
            "120/120 [==============================] - 0s 4ms/step - loss: 0.1486 - accuracy: 0.9180 - val_loss: 0.1387 - val_accuracy: 0.9292\n",
            "Epoch 40/100\n",
            "120/120 [==============================] - 0s 4ms/step - loss: 0.1409 - accuracy: 0.9242 - val_loss: 0.1403 - val_accuracy: 0.9229\n",
            "Epoch 41/100\n",
            "120/120 [==============================] - 0s 3ms/step - loss: 0.1426 - accuracy: 0.9240 - val_loss: 0.1414 - val_accuracy: 0.9260\n",
            "Epoch 42/100\n",
            "120/120 [==============================] - 0s 4ms/step - loss: 0.1390 - accuracy: 0.9245 - val_loss: 0.1386 - val_accuracy: 0.9260\n",
            "Epoch 43/100\n",
            "120/120 [==============================] - 0s 4ms/step - loss: 0.1368 - accuracy: 0.9227 - val_loss: 0.1350 - val_accuracy: 0.9292\n",
            "Epoch 44/100\n",
            "120/120 [==============================] - 1s 4ms/step - loss: 0.1451 - accuracy: 0.9195 - val_loss: 0.1376 - val_accuracy: 0.9292\n",
            "Epoch 45/100\n",
            "120/120 [==============================] - 1s 6ms/step - loss: 0.1388 - accuracy: 0.9307 - val_loss: 0.1363 - val_accuracy: 0.9302\n",
            "Epoch 46/100\n",
            "120/120 [==============================] - 1s 5ms/step - loss: 0.1402 - accuracy: 0.9266 - val_loss: 0.1370 - val_accuracy: 0.9323\n",
            "Epoch 47/100\n",
            "120/120 [==============================] - 1s 6ms/step - loss: 0.1446 - accuracy: 0.9203 - val_loss: 0.1348 - val_accuracy: 0.9333\n",
            "Epoch 48/100\n",
            "120/120 [==============================] - 1s 5ms/step - loss: 0.1302 - accuracy: 0.9312 - val_loss: 0.1330 - val_accuracy: 0.9312\n",
            "Epoch 49/100\n",
            "120/120 [==============================] - 1s 4ms/step - loss: 0.1325 - accuracy: 0.9323 - val_loss: 0.1350 - val_accuracy: 0.9354\n",
            "Epoch 50/100\n",
            "120/120 [==============================] - 0s 4ms/step - loss: 0.1315 - accuracy: 0.9260 - val_loss: 0.1331 - val_accuracy: 0.9344\n",
            "Epoch 51/100\n",
            "120/120 [==============================] - 0s 4ms/step - loss: 0.1385 - accuracy: 0.9255 - val_loss: 0.1335 - val_accuracy: 0.9354\n",
            "Epoch 52/100\n",
            "120/120 [==============================] - 1s 4ms/step - loss: 0.1426 - accuracy: 0.9273 - val_loss: 0.1394 - val_accuracy: 0.9323\n",
            "Epoch 53/100\n",
            "120/120 [==============================] - 1s 5ms/step - loss: 0.1305 - accuracy: 0.9331 - val_loss: 0.1417 - val_accuracy: 0.9323\n",
            "Epoch 54/100\n",
            "120/120 [==============================] - 1s 5ms/step - loss: 0.1364 - accuracy: 0.9302 - val_loss: 0.1358 - val_accuracy: 0.9354\n",
            "Epoch 55/100\n",
            "120/120 [==============================] - 0s 2ms/step - loss: 0.1302 - accuracy: 0.9289 - val_loss: 0.1339 - val_accuracy: 0.9333\n",
            "Epoch 56/100\n",
            "120/120 [==============================] - 0s 3ms/step - loss: 0.1246 - accuracy: 0.9344 - val_loss: 0.1329 - val_accuracy: 0.9312\n",
            "Epoch 57/100\n",
            "120/120 [==============================] - 0s 2ms/step - loss: 0.1242 - accuracy: 0.9359 - val_loss: 0.1340 - val_accuracy: 0.9333\n",
            "Epoch 58/100\n",
            "120/120 [==============================] - 0s 2ms/step - loss: 0.1176 - accuracy: 0.9344 - val_loss: 0.1345 - val_accuracy: 0.9323\n",
            "Epoch 59/100\n",
            "120/120 [==============================] - 1s 5ms/step - loss: 0.1287 - accuracy: 0.9273 - val_loss: 0.1369 - val_accuracy: 0.9323\n",
            "Epoch 60/100\n",
            "120/120 [==============================] - 0s 3ms/step - loss: 0.1180 - accuracy: 0.9378 - val_loss: 0.1347 - val_accuracy: 0.9333\n",
            "Epoch 61/100\n",
            "120/120 [==============================] - 0s 4ms/step - loss: 0.1252 - accuracy: 0.9320 - val_loss: 0.1337 - val_accuracy: 0.9292\n",
            "Epoch 62/100\n",
            "120/120 [==============================] - 0s 4ms/step - loss: 0.1276 - accuracy: 0.9318 - val_loss: 0.1338 - val_accuracy: 0.9312\n",
            "Epoch 63/100\n",
            "120/120 [==============================] - 1s 4ms/step - loss: 0.1217 - accuracy: 0.9349 - val_loss: 0.1337 - val_accuracy: 0.9302\n",
            "Epoch 64/100\n",
            "120/120 [==============================] - 1s 4ms/step - loss: 0.1199 - accuracy: 0.9375 - val_loss: 0.1300 - val_accuracy: 0.9344\n",
            "Epoch 65/100\n",
            "120/120 [==============================] - 1s 4ms/step - loss: 0.1206 - accuracy: 0.9320 - val_loss: 0.1332 - val_accuracy: 0.9344\n",
            "Epoch 66/100\n",
            "120/120 [==============================] - 0s 4ms/step - loss: 0.1110 - accuracy: 0.9417 - val_loss: 0.1327 - val_accuracy: 0.9333\n",
            "Epoch 67/100\n",
            "120/120 [==============================] - 0s 3ms/step - loss: 0.1282 - accuracy: 0.9323 - val_loss: 0.1353 - val_accuracy: 0.9292\n",
            "Epoch 68/100\n",
            "120/120 [==============================] - 0s 2ms/step - loss: 0.1206 - accuracy: 0.9354 - val_loss: 0.1312 - val_accuracy: 0.9292\n",
            "Epoch 69/100\n",
            "120/120 [==============================] - 0s 2ms/step - loss: 0.1143 - accuracy: 0.9383 - val_loss: 0.1372 - val_accuracy: 0.9312\n",
            "Epoch 70/100\n",
            "120/120 [==============================] - 0s 2ms/step - loss: 0.1155 - accuracy: 0.9411 - val_loss: 0.1322 - val_accuracy: 0.9302\n",
            "Epoch 71/100\n",
            "120/120 [==============================] - 0s 2ms/step - loss: 0.1132 - accuracy: 0.9393 - val_loss: 0.1298 - val_accuracy: 0.9323\n",
            "Epoch 72/100\n",
            "120/120 [==============================] - 0s 3ms/step - loss: 0.1181 - accuracy: 0.9391 - val_loss: 0.1288 - val_accuracy: 0.9333\n",
            "Epoch 73/100\n",
            "120/120 [==============================] - 1s 6ms/step - loss: 0.1145 - accuracy: 0.9414 - val_loss: 0.1324 - val_accuracy: 0.9323\n",
            "Epoch 74/100\n",
            "120/120 [==============================] - 1s 5ms/step - loss: 0.1188 - accuracy: 0.9391 - val_loss: 0.1339 - val_accuracy: 0.9281\n",
            "Epoch 75/100\n",
            "120/120 [==============================] - 1s 6ms/step - loss: 0.1136 - accuracy: 0.9417 - val_loss: 0.1377 - val_accuracy: 0.9312\n",
            "Epoch 76/100\n",
            "120/120 [==============================] - 1s 6ms/step - loss: 0.1116 - accuracy: 0.9430 - val_loss: 0.1323 - val_accuracy: 0.9344\n",
            "Epoch 77/100\n",
            "120/120 [==============================] - 1s 5ms/step - loss: 0.1123 - accuracy: 0.9411 - val_loss: 0.1388 - val_accuracy: 0.9333\n",
            "Epoch 78/100\n",
            "120/120 [==============================] - 0s 3ms/step - loss: 0.1175 - accuracy: 0.9414 - val_loss: 0.1314 - val_accuracy: 0.9312\n",
            "Epoch 79/100\n",
            "120/120 [==============================] - 1s 4ms/step - loss: 0.1179 - accuracy: 0.9411 - val_loss: 0.1325 - val_accuracy: 0.9312\n",
            "Epoch 80/100\n",
            "120/120 [==============================] - 1s 4ms/step - loss: 0.1073 - accuracy: 0.9479 - val_loss: 0.1387 - val_accuracy: 0.9323\n",
            "Epoch 81/100\n",
            "120/120 [==============================] - 0s 3ms/step - loss: 0.0986 - accuracy: 0.9464 - val_loss: 0.1365 - val_accuracy: 0.9312\n",
            "Epoch 82/100\n",
            "120/120 [==============================] - 0s 3ms/step - loss: 0.1024 - accuracy: 0.9479 - val_loss: 0.1384 - val_accuracy: 0.9333\n",
            "Epoch 83/100\n",
            "120/120 [==============================] - 0s 4ms/step - loss: 0.1203 - accuracy: 0.9375 - val_loss: 0.1388 - val_accuracy: 0.9302\n",
            "Epoch 84/100\n",
            "120/120 [==============================] - 0s 4ms/step - loss: 0.1090 - accuracy: 0.9430 - val_loss: 0.1324 - val_accuracy: 0.9302\n",
            "Epoch 85/100\n",
            "120/120 [==============================] - 1s 4ms/step - loss: 0.1037 - accuracy: 0.9469 - val_loss: 0.1296 - val_accuracy: 0.9323\n",
            "Epoch 86/100\n",
            "120/120 [==============================] - 1s 4ms/step - loss: 0.1111 - accuracy: 0.9440 - val_loss: 0.1339 - val_accuracy: 0.9292\n",
            "Epoch 87/100\n",
            "120/120 [==============================] - 1s 4ms/step - loss: 0.1082 - accuracy: 0.9469 - val_loss: 0.1312 - val_accuracy: 0.9323\n",
            "Epoch 88/100\n",
            "120/120 [==============================] - 0s 4ms/step - loss: 0.1051 - accuracy: 0.9510 - val_loss: 0.1341 - val_accuracy: 0.9333\n",
            "Epoch 89/100\n",
            "120/120 [==============================] - 0s 2ms/step - loss: 0.1024 - accuracy: 0.9492 - val_loss: 0.1367 - val_accuracy: 0.9333\n",
            "Epoch 90/100\n",
            "120/120 [==============================] - 0s 3ms/step - loss: 0.0969 - accuracy: 0.9513 - val_loss: 0.1372 - val_accuracy: 0.9312\n",
            "Epoch 91/100\n",
            "120/120 [==============================] - 0s 2ms/step - loss: 0.1032 - accuracy: 0.9487 - val_loss: 0.1409 - val_accuracy: 0.9292\n",
            "Epoch 92/100\n",
            "120/120 [==============================] - 0s 3ms/step - loss: 0.1027 - accuracy: 0.9466 - val_loss: 0.1408 - val_accuracy: 0.9292\n",
            "Epoch 93/100\n",
            "120/120 [==============================] - 0s 3ms/step - loss: 0.1041 - accuracy: 0.9443 - val_loss: 0.1397 - val_accuracy: 0.9260\n",
            "Epoch 94/100\n",
            "120/120 [==============================] - 0s 2ms/step - loss: 0.1050 - accuracy: 0.9453 - val_loss: 0.1397 - val_accuracy: 0.9312\n",
            "Epoch 95/100\n",
            "120/120 [==============================] - 0s 3ms/step - loss: 0.1005 - accuracy: 0.9492 - val_loss: 0.1362 - val_accuracy: 0.9260\n",
            "Epoch 96/100\n",
            "120/120 [==============================] - 0s 3ms/step - loss: 0.1038 - accuracy: 0.9471 - val_loss: 0.1393 - val_accuracy: 0.9271\n",
            "Epoch 97/100\n",
            "120/120 [==============================] - 0s 3ms/step - loss: 0.1102 - accuracy: 0.9518 - val_loss: 0.1396 - val_accuracy: 0.9354\n",
            "Epoch 98/100\n",
            "120/120 [==============================] - 0s 3ms/step - loss: 0.1088 - accuracy: 0.9464 - val_loss: 0.1415 - val_accuracy: 0.9312\n",
            "Epoch 99/100\n",
            "120/120 [==============================] - 0s 3ms/step - loss: 0.0979 - accuracy: 0.9513 - val_loss: 0.1439 - val_accuracy: 0.9312\n",
            "Epoch 100/100\n",
            "120/120 [==============================] - 0s 4ms/step - loss: 0.1007 - accuracy: 0.9510 - val_loss: 0.1434 - val_accuracy: 0.9312\n"
          ]
        }
      ]
    },
    {
      "cell_type": "code",
      "source": [
        "plot_learning_curve(hist2)"
      ],
      "metadata": {
        "colab": {
          "base_uri": "https://localhost:8080/",
          "height": 718
        },
        "id": "CmgFx2eIAYNT",
        "outputId": "26423f96-8abb-42d2-a96d-2456bd79dbaa"
      },
      "execution_count": 26,
      "outputs": [
        {
          "output_type": "display_data",
          "data": {
            "text/plain": [
              "<Figure size 1600x800 with 1 Axes>"
            ],
            "image/png": "[encoded data removed]"
          },
          "metadata": {}
        }
      ]
    },
    {
      "cell_type": "code",
      "source": [
        "tr_err2, tr_acc2 = model2.evaluate(xtrain, ytrain_cat)"
      ],
      "metadata": {
        "colab": {
          "base_uri": "https://localhost:8080/"
        },
        "id": "zaL5PoluAbYD",
        "outputId": "8f7ce769-fe0c-4e07-ffff-6c5bcbdcf8e1"
      },
      "execution_count": 27,
      "outputs": [
        {
          "output_type": "stream",
          "name": "stdout",
          "text": [
            "150/150 [==============================] - 0s 2ms/step - loss: 0.0619 - accuracy: 0.9760\n"
          ]
        }
      ]
    },
    {
      "cell_type": "code",
      "source": [
        "ts_err2, ts_acc2 = model2.evaluate(xtest, ytest_cat)"
      ],
      "metadata": {
        "colab": {
          "base_uri": "https://localhost:8080/"
        },
        "id": "Uu2pPTiAAdDL",
        "outputId": "0f60617e-d0fd-49e2-e35d-992065b5bb98"
      },
      "execution_count": 28,
      "outputs": [
        {
          "output_type": "stream",
          "name": "stdout",
          "text": [
            "38/38 [==============================] - 0s 1ms/step - loss: 0.1384 - accuracy: 0.9367\n"
          ]
        }
      ]
    },
    {
      "cell_type": "code",
      "source": [
        "yprob_tr = model2.predict(xtrain)\n",
        "yprob_ts = model2.predict(xtest)"
      ],
      "metadata": {
        "colab": {
          "base_uri": "https://localhost:8080/"
        },
        "id": "PRbBcZvJAehC",
        "outputId": "487c1f29-fa9e-444c-d75f-03616b2c1318"
      },
      "execution_count": 29,
      "outputs": [
        {
          "output_type": "stream",
          "name": "stdout",
          "text": [
            "150/150 [==============================] - 0s 2ms/step\n",
            "38/38 [==============================] - 1s 8ms/step\n"
          ]
        }
      ]
    },
    {
      "cell_type": "code",
      "source": [
        "import numpy as np\n",
        "ypred_tr = np.argmax(yprob_tr, axis=-1)\n",
        "ypred_ts = np.argmax(yprob_ts, axis=-1)"
      ],
      "metadata": {
        "id": "Tw5iwr9YAf3L"
      },
      "execution_count": 30,
      "outputs": []
    },
    {
      "cell_type": "code",
      "source": [
        "ypred_tr[0:5]"
      ],
      "metadata": {
        "colab": {
          "base_uri": "https://localhost:8080/"
        },
        "id": "F-PS9elmAhTL",
        "outputId": "961723d7-9f8e-4e87-ad31-50b30fdefa75"
      },
      "execution_count": 31,
      "outputs": [
        {
          "output_type": "execute_result",
          "data": {
            "text/plain": [
              "array([1, 2, 0, 1, 1])"
            ]
          },
          "metadata": {},
          "execution_count": 31
        }
      ]
    },
    {
      "cell_type": "code",
      "source": [
        "ytrain[0:5]"
      ],
      "metadata": {
        "colab": {
          "base_uri": "https://localhost:8080/"
        },
        "id": "KnD4xtx4Aj73",
        "outputId": "2ed0129c-a155-4c02-c350-cc5d929b2841"
      },
      "execution_count": 32,
      "outputs": [
        {
          "output_type": "execute_result",
          "data": {
            "text/plain": [
              "array([1, 2, 0, 1, 1])"
            ]
          },
          "metadata": {},
          "execution_count": 32
        }
      ]
    },
    {
      "cell_type": "code",
      "source": [
        "ypred_ts[0:5]"
      ],
      "metadata": {
        "colab": {
          "base_uri": "https://localhost:8080/"
        },
        "id": "5ONuACJwAkc7",
        "outputId": "6ef74976-46f3-4495-986c-bd9e7ea1deef"
      },
      "execution_count": 33,
      "outputs": [
        {
          "output_type": "execute_result",
          "data": {
            "text/plain": [
              "array([0, 2, 2, 0, 0])"
            ]
          },
          "metadata": {},
          "execution_count": 33
        }
      ]
    },
    {
      "cell_type": "code",
      "source": [
        "ytest[0:5]"
      ],
      "metadata": {
        "colab": {
          "base_uri": "https://localhost:8080/"
        },
        "id": "5JPjne14AldT",
        "outputId": "2aacc661-85d9-4687-96a7-e279e25f4097"
      },
      "execution_count": 34,
      "outputs": [
        {
          "output_type": "execute_result",
          "data": {
            "text/plain": [
              "array([0, 2, 2, 2, 2])"
            ]
          },
          "metadata": {},
          "execution_count": 34
        }
      ]
    },
    {
      "cell_type": "code",
      "source": [
        "# confusion matric\n",
        "from sklearn.metrics import confusion_matrix, ConfusionMatrixDisplay\n",
        "cf = confusion_matrix(ytest, ypred_ts)\n",
        "cfd = ConfusionMatrixDisplay(cf, display_labels=[0,1,2])\n",
        "cfd.plot()"
      ],
      "metadata": {
        "colab": {
          "base_uri": "https://localhost:8080/",
          "height": 467
        },
        "id": "t8wQGcl3AmgT",
        "outputId": "f81474a0-7453-475a-c99c-df21c0698595"
      },
      "execution_count": 35,
      "outputs": [
        {
          "output_type": "execute_result",
          "data": {
            "text/plain": [
              "<sklearn.metrics._plot.confusion_matrix.ConfusionMatrixDisplay at 0x7a17e6714490>"
            ]
          },
          "metadata": {},
          "execution_count": 35
        },
        {
          "output_type": "display_data",
          "data": {
            "text/plain": [
              "<Figure size 640x480 with 2 Axes>"
            ],
            "image/png": "[encoded data removed]"
          },
          "metadata": {}
        }
      ]
    },
    {
      "cell_type": "code",
      "source": [
        "# classification report\n",
        "from sklearn.metrics import classification_report\n",
        "print(classification_report(ytest, ypred_ts))"
      ],
      "metadata": {
        "colab": {
          "base_uri": "https://localhost:8080/"
        },
        "id": "3CbC4kgxArJL",
        "outputId": "58d78ec5-5f0d-460a-f8a4-17eb66f7a270"
      },
      "execution_count": 36,
      "outputs": [
        {
          "output_type": "stream",
          "name": "stdout",
          "text": [
            "              precision    recall  f1-score   support\n",
            "\n",
            "           0       0.92      0.93      0.92       405\n",
            "           1       0.95      0.95      0.95       403\n",
            "           2       0.94      0.93      0.94       392\n",
            "\n",
            "    accuracy                           0.94      1200\n",
            "   macro avg       0.94      0.94      0.94      1200\n",
            "weighted avg       0.94      0.94      0.94      1200\n",
            "\n"
          ]
        }
      ]
    },
    {
      "cell_type": "code",
      "source": [
        "dct = {'Model':['Simple ANN', 'Dropout ANN'],\n",
        "       'train_loss':[tr_err1, tr_err2],\n",
        "       'test_loss':[ts_err1, ts_err2],\n",
        "       'train_accuracy':[tr_acc1, tr_acc2],\n",
        "       'test_accuracy':[ts_acc1, ts_acc2]}"
      ],
      "metadata": {
        "id": "RqWsHOogAvjV"
      },
      "execution_count": 37,
      "outputs": []
    },
    {
      "cell_type": "code",
      "source": [
        "import pandas as pd\n",
        "eval_df = pd.DataFrame(dct)\n",
        "eval_df"
      ],
      "metadata": {
        "colab": {
          "base_uri": "https://localhost:8080/",
          "height": 112
        },
        "id": "dIaC59pMAxUe",
        "outputId": "ff39a159-10f5-4de6-ac69-aa39235ee90f"
      },
      "execution_count": 38,
      "outputs": [
        {
          "output_type": "execute_result",
          "data": {
            "text/plain": [
              "         Model  train_loss  test_loss  train_accuracy  test_accuracy\n",
              "0   Simple ANN    0.146935   0.811909        0.979583       0.900833\n",
              "1  Dropout ANN    0.061940   0.138417        0.976042       0.936667"
            ],
            "text/html": [
              "\n",
              "  <div id=\"df-22ead7d4-e4b7-45b2-b9b5-f721889c1954\" class=\"colab-df-container\">\n",
              "    <div>\n",
              "<style scoped>\n",
              "    .dataframe tbody tr th:only-of-type {\n",
              "        vertical-align: middle;\n",
              "    }\n",
              "\n",
              "    .dataframe tbody tr th {\n",
              "        vertical-align: top;\n",
              "    }\n",
              "\n",
              "    .dataframe thead th {\n",
              "        text-align: right;\n",
              "    }\n",
              "</style>\n",
              "<table border=\"1\" class=\"dataframe\">\n",
              "  <thead>\n",
              "    <tr style=\"text-align: right;\">\n",
              "      <th></th>\n",
              "      <th>Model</th>\n",
              "      <th>train_loss</th>\n",
              "      <th>test_loss</th>\n",
              "      <th>train_accuracy</th>\n",
              "      <th>test_accuracy</th>\n",
              "    </tr>\n",
              "  </thead>\n",
              "  <tbody>\n",
              "    <tr>\n",
              "      <th>0</th>\n",
              "      <td>Simple ANN</td>\n",
              "      <td>0.146935</td>\n",
              "      <td>0.811909</td>\n",
              "      <td>0.979583</td>\n",
              "      <td>0.900833</td>\n",
              "    </tr>\n",
              "    <tr>\n",
              "      <th>1</th>\n",
              "      <td>Dropout ANN</td>\n",
              "      <td>0.061940</td>\n",
              "      <td>0.138417</td>\n",
              "      <td>0.976042</td>\n",
              "      <td>0.936667</td>\n",
              "    </tr>\n",
              "  </tbody>\n",
              "</table>\n",
              "</div>\n",
              "    <div class=\"colab-df-buttons\">\n",
              "\n",
              "  <div class=\"colab-df-container\">\n",
              "    <button class=\"colab-df-convert\" onclick=\"convertToInteractive('df-22ead7d4-e4b7-45b2-b9b5-f721889c1954')\"\n",
              "            title=\"Convert this dataframe to an interactive table.\"\n",
              "            style=\"display:none;\">\n",
              "\n",
              "  <svg xmlns=\"http://www.w3.org/2000/svg\" height=\"24px\" viewBox=\"0 -960 960 960\">\n",
              "    <path d=\"M120-120v-720h720v720H120Zm60-500h600v-160H180v160Zm220 220h160v-160H400v160Zm0 220h160v-160H400v160ZM180-400h160v-160H180v160Zm440 0h160v-160H620v160ZM180-180h160v-160H180v160Zm440 0h160v-160H620v160Z\"/>\n",
              "  </svg>\n",
              "    </button>\n",
              "\n",
              "  <style>\n",
              "    .colab-df-container {\n",
              "      display:flex;\n",
              "      gap: 12px;\n",
              "    }\n",
              "\n",
              "    .colab-df-convert {\n",
              "      background-color: #E8F0FE;\n",
              "      border: none;\n",
              "      border-radius: 50%;\n",
              "      cursor: pointer;\n",
              "      display: none;\n",
              "      fill: #1967D2;\n",
              "      height: 32px;\n",
              "      padding: 0 0 0 0;\n",
              "      width: 32px;\n",
              "    }\n",
              "\n",
              "    .colab-df-convert:hover {\n",
              "      background-color: #E2EBFA;\n",
              "      box-shadow: 0px 1px 2px rgba(60, 64, 67, 0.3), 0px 1px 3px 1px rgba(60, 64, 67, 0.15);\n",
              "      fill: #174EA6;\n",
              "    }\n",
              "\n",
              "    .colab-df-buttons div {\n",
              "      margin-bottom: 4px;\n",
              "    }\n",
              "\n",
              "    [theme=dark] .colab-df-convert {\n",
              "      background-color: #3B4455;\n",
              "      fill: #D2E3FC;\n",
              "    }\n",
              "\n",
              "    [theme=dark] .colab-df-convert:hover {\n",
              "      background-color: #434B5C;\n",
              "      box-shadow: 0px 1px 3px 1px rgba(0, 0, 0, 0.15);\n",
              "      filter: drop-shadow(0px 1px 2px rgba(0, 0, 0, 0.3));\n",
              "      fill: #FFFFFF;\n",
              "    }\n",
              "  </style>\n",
              "\n",
              "    <script>\n",
              "      const buttonEl =\n",
              "        document.querySelector('#df-22ead7d4-e4b7-45b2-b9b5-f721889c1954 button.colab-df-convert');\n",
              "      buttonEl.style.display =\n",
              "        google.colab.kernel.accessAllowed ? 'block' : 'none';\n",
              "\n",
              "      async function convertToInteractive(key) {\n",
              "        const element = document.querySelector('#df-22ead7d4-e4b7-45b2-b9b5-f721889c1954');\n",
              "        const dataTable =\n",
              "          await google.colab.kernel.invokeFunction('convertToInteractive',\n",
              "                                                    [key], {});\n",
              "        if (!dataTable) return;\n",
              "\n",
              "        const docLinkHtml = 'Like what you see? Visit the ' +\n",
              "          '<a target=\"_blank\" href=https://colab.research.google.com/notebooks/data_table.ipynb>data table notebook</a>'\n",
              "          + ' to learn more about interactive tables.';\n",
              "        element.innerHTML = '';\n",
              "        dataTable['output_type'] = 'display_data';\n",
              "        await google.colab.output.renderOutput(dataTable, element);\n",
              "        const docLink = document.createElement('div');\n",
              "        docLink.innerHTML = docLinkHtml;\n",
              "        element.appendChild(docLink);\n",
              "      }\n",
              "    </script>\n",
              "  </div>\n",
              "\n",
              "\n",
              "<div id=\"df-e653316d-9599-4c24-a67e-e368255dffed\">\n",
              "  <button class=\"colab-df-quickchart\" onclick=\"quickchart('df-e653316d-9599-4c24-a67e-e368255dffed')\"\n",
              "            title=\"Suggest charts.\"\n",
              "            style=\"display:none;\">\n",
              "\n",
              "<svg xmlns=\"http://www.w3.org/2000/svg\" height=\"24px\"viewBox=\"0 0 24 24\"\n",
              "     width=\"24px\">\n",
              "    <g>\n",
              "        <path d=\"M19 3H5c-1.1 0-2 .9-2 2v14c0 1.1.9 2 2 2h14c1.1 0 2-.9 2-2V5c0-1.1-.9-2-2-2zM9 17H7v-7h2v7zm4 0h-2V7h2v10zm4 0h-2v-4h2v4z\"/>\n",
              "    </g>\n",
              "</svg>\n",
              "  </button>\n",
              "\n",
              "<style>\n",
              "  .colab-df-quickchart {\n",
              "      --bg-color: #E8F0FE;\n",
              "      --fill-color: #1967D2;\n",
              "      --hover-bg-color: #E2EBFA;\n",
              "      --hover-fill-color: #174EA6;\n",
              "      --disabled-fill-color: #AAA;\n",
              "      --disabled-bg-color: #DDD;\n",
              "  }\n",
              "\n",
              "  [theme=dark] .colab-df-quickchart {\n",
              "      --bg-color: #3B4455;\n",
              "      --fill-color: #D2E3FC;\n",
              "      --hover-bg-color: #434B5C;\n",
              "      --hover-fill-color: #FFFFFF;\n",
              "      --disabled-bg-color: #3B4455;\n",
              "      --disabled-fill-color: #666;\n",
              "  }\n",
              "\n",
              "  .colab-df-quickchart {\n",
              "    background-color: var(--bg-color);\n",
              "    border: none;\n",
              "    border-radius: 50%;\n",
              "    cursor: pointer;\n",
              "    display: none;\n",
              "    fill: var(--fill-color);\n",
              "    height: 32px;\n",
              "    padding: 0;\n",
              "    width: 32px;\n",
              "  }\n",
              "\n",
              "  .colab-df-quickchart:hover {\n",
              "    background-color: var(--hover-bg-color);\n",
              "    box-shadow: 0 1px 2px rgba(60, 64, 67, 0.3), 0 1px 3px 1px rgba(60, 64, 67, 0.15);\n",
              "    fill: var(--button-hover-fill-color);\n",
              "  }\n",
              "\n",
              "  .colab-df-quickchart-complete:disabled,\n",
              "  .colab-df-quickchart-complete:disabled:hover {\n",
              "    background-color: var(--disabled-bg-color);\n",
              "    fill: var(--disabled-fill-color);\n",
              "    box-shadow: none;\n",
              "  }\n",
              "\n",
              "  .colab-df-spinner {\n",
              "    border: 2px solid var(--fill-color);\n",
              "    border-color: transparent;\n",
              "    border-bottom-color: var(--fill-color);\n",
              "    animation:\n",
              "      spin 1s steps(1) infinite;\n",
              "  }\n",
              "\n",
              "  @keyframes spin {\n",
              "    0% {\n",
              "      border-color: transparent;\n",
              "      border-bottom-color: var(--fill-color);\n",
              "      border-left-color: var(--fill-color);\n",
              "    }\n",
              "    20% {\n",
              "      border-color: transparent;\n",
              "      border-left-color: var(--fill-color);\n",
              "      border-top-color: var(--fill-color);\n",
              "    }\n",
              "    30% {\n",
              "      border-color: transparent;\n",
              "      border-left-color: var(--fill-color);\n",
              "      border-top-color: var(--fill-color);\n",
              "      border-right-color: var(--fill-color);\n",
              "    }\n",
              "    40% {\n",
              "      border-color: transparent;\n",
              "      border-right-color: var(--fill-color);\n",
              "      border-top-color: var(--fill-color);\n",
              "    }\n",
              "    60% {\n",
              "      border-color: transparent;\n",
              "      border-right-color: var(--fill-color);\n",
              "    }\n",
              "    80% {\n",
              "      border-color: transparent;\n",
              "      border-right-color: var(--fill-color);\n",
              "      border-bottom-color: var(--fill-color);\n",
              "    }\n",
              "    90% {\n",
              "      border-color: transparent;\n",
              "      border-bottom-color: var(--fill-color);\n",
              "    }\n",
              "  }\n",
              "</style>\n",
              "\n",
              "  <script>\n",
              "    async function quickchart(key) {\n",
              "      const quickchartButtonEl =\n",
              "        document.querySelector('#' + key + ' button');\n",
              "      quickchartButtonEl.disabled = true;  // To prevent multiple clicks.\n",
              "      quickchartButtonEl.classList.add('colab-df-spinner');\n",
              "      try {\n",
              "        const charts = await google.colab.kernel.invokeFunction(\n",
              "            'suggestCharts', [key], {});\n",
              "      } catch (error) {\n",
              "        console.error('Error during call to suggestCharts:', error);\n",
              "      }\n",
              "      quickchartButtonEl.classList.remove('colab-df-spinner');\n",
              "      quickchartButtonEl.classList.add('colab-df-quickchart-complete');\n",
              "    }\n",
              "    (() => {\n",
              "      let quickchartButtonEl =\n",
              "        document.querySelector('#df-e653316d-9599-4c24-a67e-e368255dffed button');\n",
              "      quickchartButtonEl.style.display =\n",
              "        google.colab.kernel.accessAllowed ? 'block' : 'none';\n",
              "    })();\n",
              "  </script>\n",
              "</div>\n",
              "    </div>\n",
              "  </div>\n"
            ]
          },
          "metadata": {},
          "execution_count": 38
        }
      ]
    },
    {
      "cell_type": "markdown",
      "source": [
        "\n",
        "Q9. Discuss the considerations and tradeoffs when choosing the appropriate regularization technique for a given deep learning task."
      ],
      "metadata": {
        "id": "iDnNUSZKAzyQ"
      }
    },
    {
      "cell_type": "markdown",
      "source": [
        "Choosing the right regularization technique for a deep learning task requires careful consideration of various factors and trade-offs. Different regularization techniques have different effects on the model's performance, training speed, and generalization ability. Here are some key considerations and trade-offs to keep in mind when choosing an appropriate regularization technique:\n",
        "Dataset Size:\n",
        "\n",
        "Small Dataset: In cases of small datasets, regularization techniques that introduce additional constraints to the model, such as L1 or L2 regularization, can help prevent overfitting by reducing the model's complexity.\n",
        "Large Dataset: With larger datasets, more complex models might be suitable, and techniques like dropout and data augmentation can provide effective regularization.\n",
        "Model Complexity:\n",
        "\n",
        "Complex Models: Highly complex models with a large number of parameters are more prone to overfitting. Regularization techniques like dropout, batch normalization, and early stopping can help control their complexity.\n",
        "Simpler Models: Simpler models might not need aggressive regularization and could benefit from techniques that don't overly constrain the model, such as early stopping or using larger learning rates.\n",
        "Type of Overfitting:\n",
        "\n",
        "Bias-Variance Trade-off: If the model is experiencing high bias (underfitting), adding regularization might not be necessary. If it's experiencing high variance (overfitting), regularization techniques can help reduce this variance.\n",
        "Model Architecture:\n",
        "\n",
        "Convolutional Neural Networks (CNNs): Techniques like dropout and batch normalization are commonly used in CNNs to regularize activations and improve convergence.\n",
        "Recurrent Neural Networks (RNNs): Gradient clipping, recurrent dropout, and weight tying are techniques often used to regulate RNNs.\n",
        "Training Speed and Convergence:\n",
        "\n",
        "Faster Convergence: Techniques like batch normalization can accelerate convergence and stabilize training, allowing for faster model development.\n",
        "Slower Convergence: Techniques like dropout and weight decay might slow down training due to their stochastic nature or the additional constraints they impose.\n",
        "Interpretability:\n",
        "\n",
        "Interpretability Required: Regularization techniques like L1 regularization (Lasso) can lead to sparse models, which might be easier to interpret in some cases.\n",
        "Not High Priority: If interpretability is not a concern, other regularization techniques can be considered.\n",
        "Domain Knowledge:\n",
        "\n",
        "Prior Knowledge: Depending on domain knowledge, specific regularization techniques might be more suitable. For example, if you know certain features are less relevant, L1 regularization could be applied to encourage feature selection.\n",
        "Hyperparameter Tuning:\n",
        "\n",
        "Sensitivity to Hyperparameters: Some regularization techniques have hyperparameters that need to be tuned, such as the strength of regularization in L1 or L2 regularization. This requires additional tuning efforts.\n",
        "Computational Resources:\n",
        "\n",
        "Resource Constraints: Techniques like dropout and data augmentation might be more resource-intensive, as they involve modifications during training.\n",
        "Ensemble Methods:\n",
        "\n",
        "Ensemble Regularization: Techniques like dropout can be seen as a form of ensemble regularization, where the model is trained with multiple variations of itself.\n",
        "Combining Techniques:\n",
        "\n",
        "Combining Regularization Techniques: It's possible to use multiple regularization techniques simultaneously to achieve a stronger regularization effect, but this might require careful tuning and understanding of their interactions.\n",
        "In conclusion, the choice of regularization technique depends on the specifics of the problem, dataset, model architecture, and resources available. Experimentation and thorough understanding of the trade-offs involved are crucial for selecting the most appropriate regularization strategy to achieve better generalization and prevent overfitting."
      ],
      "metadata": {
        "id": "1hlRRys7A4Qm"
      }
    },
    {
      "cell_type": "code",
      "source": [],
      "metadata": {
        "id": "KK4bixOBA43q"
      },
      "execution_count": null,
      "outputs": []
    }
  ]
}